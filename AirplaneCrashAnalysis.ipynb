{
  "nbformat": 4,
  "nbformat_minor": 0,
  "metadata": {
    "colab": {
      "name": "Build Week .ipynb",
      "provenance": [],
      "authorship_tag": "ABX9TyM8H41OJvZIeXNB+4dMce7L"
    },
    "kernelspec": {
      "name": "python3",
      "display_name": "Python 3"
    }
  },
  "cells": [
    {
      "cell_type": "code",
      "metadata": {
        "id": "IGtPATTog1Su",
        "colab_type": "code",
        "colab": {}
      },
      "source": [
        "import math\n",
        "import pandas as pd\n",
        "import numpy as np\n",
        "import matplotlib.pyplot as plt\n",
        "import matplotlib.animation as animation\n",
        "import seaborn as sns"
      ],
      "execution_count": 0,
      "outputs": []
    },
    {
      "cell_type": "markdown",
      "metadata": {
        "id": "OczXDUC0-KhU",
        "colab_type": "text"
      },
      "source": [
        "#Aircraft Safety "
      ]
    },
    {
      "cell_type": "markdown",
      "metadata": {
        "id": "iPjCHNZ7VQHN",
        "colab_type": "text"
      },
      "source": [
        "#Crash CSV"
      ]
    },
    {
      "cell_type": "markdown",
      "metadata": {
        "id": "cH6cht-O-Q01",
        "colab_type": "text"
      },
      "source": [
        "data was sourced from [Kaggle- Airplane Crash Data since 1098](https://www.kaggle.com/cgurkan/airplane-crash-data-since-1908/download/EgEHNXSd26n6ZCWXCe3f%2Fversions%2FO6ViyWI1uFqdrGSHlrA7%2Ffiles%2FAirplane_Crashes_and_Fatalities_Since_1908_20190820105639.csv?datasetVersionNumber=1)"
      ]
    },
    {
      "cell_type": "code",
      "metadata": {
        "id": "pxRSK5klC87E",
        "colab_type": "code",
        "outputId": "2db55d22-86ba-4698-f00e-82396ca0f720",
        "colab": {
          "base_uri": "https://localhost:8080/",
          "height": 34
        }
      },
      "source": [
        "df = pd.read_csv('https://raw.githubusercontent.com/maiali13/DS13-Unit1-Build/master/Airplane_Crash_Data.csv')\n",
        "print(df.shape)"
      ],
      "execution_count": 0,
      "outputs": [
        {
          "output_type": "stream",
          "text": [
            "(4967, 17)\n"
          ],
          "name": "stdout"
        }
      ]
    },
    {
      "cell_type": "code",
      "metadata": {
        "id": "E_3RH0p0fD0_",
        "colab_type": "code",
        "outputId": "291c12c3-d199-47ab-a392-8f46341e2dc7",
        "colab": {
          "base_uri": "https://localhost:8080/",
          "height": 199
        }
      },
      "source": [
        "#convert date column to datetime format\n",
        "df['Date'] = pd.to_datetime(df['Date'], infer_datetime_format=True)\n",
        "df.head()"
      ],
      "execution_count": 0,
      "outputs": [
        {
          "output_type": "execute_result",
          "data": {
            "text/html": [
              "<div>\n",
              "<style scoped>\n",
              "    .dataframe tbody tr th:only-of-type {\n",
              "        vertical-align: middle;\n",
              "    }\n",
              "\n",
              "    .dataframe tbody tr th {\n",
              "        vertical-align: top;\n",
              "    }\n",
              "\n",
              "    .dataframe thead th {\n",
              "        text-align: right;\n",
              "    }\n",
              "</style>\n",
              "<table border=\"1\" class=\"dataframe\">\n",
              "  <thead>\n",
              "    <tr style=\"text-align: right;\">\n",
              "      <th></th>\n",
              "      <th>Date</th>\n",
              "      <th>Time</th>\n",
              "      <th>Location</th>\n",
              "      <th>Operator</th>\n",
              "      <th>Flight #</th>\n",
              "      <th>Route</th>\n",
              "      <th>AC Type</th>\n",
              "      <th>Registration</th>\n",
              "      <th>cn/ln</th>\n",
              "      <th>Aboard</th>\n",
              "      <th>Aboard Passangers</th>\n",
              "      <th>Aboard Crew</th>\n",
              "      <th>Fatalities</th>\n",
              "      <th>Fatalities Passangers</th>\n",
              "      <th>Fatalities Crew</th>\n",
              "      <th>Ground</th>\n",
              "      <th>Summary</th>\n",
              "    </tr>\n",
              "  </thead>\n",
              "  <tbody>\n",
              "    <tr>\n",
              "      <th>0</th>\n",
              "      <td>1908-09-17</td>\n",
              "      <td>17:18</td>\n",
              "      <td>Fort Myer, Virginia</td>\n",
              "      <td>Military - U.S. Army</td>\n",
              "      <td>NaN</td>\n",
              "      <td>Demonstration</td>\n",
              "      <td>Wright Flyer III</td>\n",
              "      <td>NaN</td>\n",
              "      <td>1</td>\n",
              "      <td>2.0</td>\n",
              "      <td>1.0</td>\n",
              "      <td>1.0</td>\n",
              "      <td>1.0</td>\n",
              "      <td>1.0</td>\n",
              "      <td>0.0</td>\n",
              "      <td>0.0</td>\n",
              "      <td>During a demonstration flight, a U.S. Army fly...</td>\n",
              "    </tr>\n",
              "    <tr>\n",
              "      <th>1</th>\n",
              "      <td>1909-09-07</td>\n",
              "      <td>NaN</td>\n",
              "      <td>Juvisy-sur-Orge, France</td>\n",
              "      <td>NaN</td>\n",
              "      <td>NaN</td>\n",
              "      <td>Air show</td>\n",
              "      <td>Wright Byplane</td>\n",
              "      <td>SC1</td>\n",
              "      <td>NaN</td>\n",
              "      <td>1.0</td>\n",
              "      <td>0.0</td>\n",
              "      <td>1.0</td>\n",
              "      <td>1.0</td>\n",
              "      <td>0.0</td>\n",
              "      <td>0.0</td>\n",
              "      <td>0.0</td>\n",
              "      <td>Eugene Lefebvre was the first pilot to ever be...</td>\n",
              "    </tr>\n",
              "    <tr>\n",
              "      <th>2</th>\n",
              "      <td>1912-07-12</td>\n",
              "      <td>06:30</td>\n",
              "      <td>Atlantic City, New Jersey</td>\n",
              "      <td>Military - U.S. Navy</td>\n",
              "      <td>NaN</td>\n",
              "      <td>Test flight</td>\n",
              "      <td>Dirigible</td>\n",
              "      <td>NaN</td>\n",
              "      <td>NaN</td>\n",
              "      <td>5.0</td>\n",
              "      <td>0.0</td>\n",
              "      <td>5.0</td>\n",
              "      <td>5.0</td>\n",
              "      <td>0.0</td>\n",
              "      <td>5.0</td>\n",
              "      <td>0.0</td>\n",
              "      <td>First U.S. dirigible Akron exploded just offsh...</td>\n",
              "    </tr>\n",
              "    <tr>\n",
              "      <th>3</th>\n",
              "      <td>1913-08-06</td>\n",
              "      <td>NaN</td>\n",
              "      <td>Victoria, British Columbia, Canada</td>\n",
              "      <td>Private</td>\n",
              "      <td>NaN</td>\n",
              "      <td>NaN</td>\n",
              "      <td>Curtiss seaplane</td>\n",
              "      <td>NaN</td>\n",
              "      <td>NaN</td>\n",
              "      <td>1.0</td>\n",
              "      <td>0.0</td>\n",
              "      <td>1.0</td>\n",
              "      <td>1.0</td>\n",
              "      <td>0.0</td>\n",
              "      <td>1.0</td>\n",
              "      <td>0.0</td>\n",
              "      <td>The first fatal airplane accident in Canada oc...</td>\n",
              "    </tr>\n",
              "    <tr>\n",
              "      <th>4</th>\n",
              "      <td>1913-09-09</td>\n",
              "      <td>18:30</td>\n",
              "      <td>Over the North Sea</td>\n",
              "      <td>Military - German Navy</td>\n",
              "      <td>NaN</td>\n",
              "      <td>NaN</td>\n",
              "      <td>Zeppelin L-1 (airship)</td>\n",
              "      <td>NaN</td>\n",
              "      <td>NaN</td>\n",
              "      <td>20.0</td>\n",
              "      <td>NaN</td>\n",
              "      <td>NaN</td>\n",
              "      <td>14.0</td>\n",
              "      <td>NaN</td>\n",
              "      <td>NaN</td>\n",
              "      <td>0.0</td>\n",
              "      <td>The airship flew into a thunderstorm and encou...</td>\n",
              "    </tr>\n",
              "  </tbody>\n",
              "</table>\n",
              "</div>"
            ],
            "text/plain": [
              "        Date   Time  ... Ground                                            Summary\n",
              "0 1908-09-17  17:18  ...    0.0  During a demonstration flight, a U.S. Army fly...\n",
              "1 1909-09-07    NaN  ...    0.0  Eugene Lefebvre was the first pilot to ever be...\n",
              "2 1912-07-12  06:30  ...    0.0  First U.S. dirigible Akron exploded just offsh...\n",
              "3 1913-08-06    NaN  ...    0.0  The first fatal airplane accident in Canada oc...\n",
              "4 1913-09-09  18:30  ...    0.0  The airship flew into a thunderstorm and encou...\n",
              "\n",
              "[5 rows x 17 columns]"
            ]
          },
          "metadata": {
            "tags": []
          },
          "execution_count": 110
        }
      ]
    },
    {
      "cell_type": "markdown",
      "metadata": {
        "id": "KhdYSJ-qX87u",
        "colab_type": "text"
      },
      "source": [
        "###General DF Insights"
      ]
    },
    {
      "cell_type": "code",
      "metadata": {
        "id": "6U6ljb9OFGgx",
        "colab_type": "code",
        "outputId": "87a24dd2-b404-4d31-edc2-f9c22c6b4bf4",
        "colab": {
          "base_uri": "https://localhost:8080/"
        }
      },
      "source": [
        "df.isnull().sum()"
      ],
      "execution_count": 0,
      "outputs": [
        {
          "output_type": "execute_result",
          "data": {
            "text/plain": [
              "Date                        0\n",
              "Time                     1510\n",
              "Location                    4\n",
              "Operator                   10\n",
              "Flight #                 3652\n",
              "Route                     774\n",
              "AC Type                    15\n",
              "Registration              273\n",
              "cn/ln                     668\n",
              "Aboard                     18\n",
              "Aboard Passangers         229\n",
              "Aboard Crew               226\n",
              "Fatalities                  8\n",
              "Fatalities Passangers     242\n",
              "Fatalities Crew           241\n",
              "Ground                     41\n",
              "Summary                    64\n",
              "dtype: int64"
            ]
          },
          "metadata": {
            "tags": []
          },
          "execution_count": 111
        }
      ]
    },
    {
      "cell_type": "code",
      "metadata": {
        "id": "e_6XwBbLFSHV",
        "colab_type": "code",
        "outputId": "e70e1849-e123-4f24-d303-fb788047dbd5",
        "colab": {
          "base_uri": "https://localhost:8080/"
        }
      },
      "source": [
        "df.describe()"
      ],
      "execution_count": 0,
      "outputs": [
        {
          "output_type": "execute_result",
          "data": {
            "text/html": [
              "<div>\n",
              "<style scoped>\n",
              "    .dataframe tbody tr th:only-of-type {\n",
              "        vertical-align: middle;\n",
              "    }\n",
              "\n",
              "    .dataframe tbody tr th {\n",
              "        vertical-align: top;\n",
              "    }\n",
              "\n",
              "    .dataframe thead th {\n",
              "        text-align: right;\n",
              "    }\n",
              "</style>\n",
              "<table border=\"1\" class=\"dataframe\">\n",
              "  <thead>\n",
              "    <tr style=\"text-align: right;\">\n",
              "      <th></th>\n",
              "      <th>Aboard</th>\n",
              "      <th>Aboard Passangers</th>\n",
              "      <th>Aboard Crew</th>\n",
              "      <th>Fatalities</th>\n",
              "      <th>Fatalities Passangers</th>\n",
              "      <th>Fatalities Crew</th>\n",
              "      <th>Ground</th>\n",
              "    </tr>\n",
              "  </thead>\n",
              "  <tbody>\n",
              "    <tr>\n",
              "      <th>count</th>\n",
              "      <td>4949.000000</td>\n",
              "      <td>4738.000000</td>\n",
              "      <td>4741.000000</td>\n",
              "      <td>4959.000000</td>\n",
              "      <td>4725.000000</td>\n",
              "      <td>4726.000000</td>\n",
              "      <td>4926.000000</td>\n",
              "    </tr>\n",
              "    <tr>\n",
              "      <th>mean</th>\n",
              "      <td>31.088301</td>\n",
              "      <td>26.898691</td>\n",
              "      <td>4.479646</td>\n",
              "      <td>22.338173</td>\n",
              "      <td>19.017566</td>\n",
              "      <td>3.579348</td>\n",
              "      <td>1.728177</td>\n",
              "    </tr>\n",
              "    <tr>\n",
              "      <th>std</th>\n",
              "      <td>45.438282</td>\n",
              "      <td>44.010591</td>\n",
              "      <td>3.489021</td>\n",
              "      <td>35.026176</td>\n",
              "      <td>34.114849</td>\n",
              "      <td>3.170223</td>\n",
              "      <td>55.708966</td>\n",
              "    </tr>\n",
              "    <tr>\n",
              "      <th>min</th>\n",
              "      <td>0.000000</td>\n",
              "      <td>0.000000</td>\n",
              "      <td>0.000000</td>\n",
              "      <td>0.000000</td>\n",
              "      <td>0.000000</td>\n",
              "      <td>0.000000</td>\n",
              "      <td>0.000000</td>\n",
              "    </tr>\n",
              "    <tr>\n",
              "      <th>25%</th>\n",
              "      <td>7.000000</td>\n",
              "      <td>3.000000</td>\n",
              "      <td>2.000000</td>\n",
              "      <td>4.000000</td>\n",
              "      <td>1.000000</td>\n",
              "      <td>2.000000</td>\n",
              "      <td>0.000000</td>\n",
              "    </tr>\n",
              "    <tr>\n",
              "      <th>50%</th>\n",
              "      <td>16.000000</td>\n",
              "      <td>12.000000</td>\n",
              "      <td>4.000000</td>\n",
              "      <td>11.000000</td>\n",
              "      <td>8.000000</td>\n",
              "      <td>3.000000</td>\n",
              "      <td>0.000000</td>\n",
              "    </tr>\n",
              "    <tr>\n",
              "      <th>75%</th>\n",
              "      <td>35.000000</td>\n",
              "      <td>30.000000</td>\n",
              "      <td>6.000000</td>\n",
              "      <td>25.000000</td>\n",
              "      <td>21.000000</td>\n",
              "      <td>5.000000</td>\n",
              "      <td>0.000000</td>\n",
              "    </tr>\n",
              "    <tr>\n",
              "      <th>max</th>\n",
              "      <td>644.000000</td>\n",
              "      <td>614.000000</td>\n",
              "      <td>61.000000</td>\n",
              "      <td>583.000000</td>\n",
              "      <td>560.000000</td>\n",
              "      <td>46.000000</td>\n",
              "      <td>2750.000000</td>\n",
              "    </tr>\n",
              "  </tbody>\n",
              "</table>\n",
              "</div>"
            ],
            "text/plain": [
              "            Aboard  Aboard Passangers  ...  Fatalities Crew       Ground\n",
              "count  4949.000000        4738.000000  ...      4726.000000  4926.000000\n",
              "mean     31.088301          26.898691  ...         3.579348     1.728177\n",
              "std      45.438282          44.010591  ...         3.170223    55.708966\n",
              "min       0.000000           0.000000  ...         0.000000     0.000000\n",
              "25%       7.000000           3.000000  ...         2.000000     0.000000\n",
              "50%      16.000000          12.000000  ...         3.000000     0.000000\n",
              "75%      35.000000          30.000000  ...         5.000000     0.000000\n",
              "max     644.000000         614.000000  ...        46.000000  2750.000000\n",
              "\n",
              "[8 rows x 7 columns]"
            ]
          },
          "metadata": {
            "tags": []
          },
          "execution_count": 112
        }
      ]
    },
    {
      "cell_type": "code",
      "metadata": {
        "id": "hNSMUn6wFYzq",
        "colab_type": "code",
        "outputId": "728e2e5c-fada-4683-a88d-6b167fc8c724",
        "colab": {
          "base_uri": "https://localhost:8080/"
        }
      },
      "source": [
        "df.describe(exclude='number')"
      ],
      "execution_count": 0,
      "outputs": [
        {
          "output_type": "execute_result",
          "data": {
            "text/html": [
              "<div>\n",
              "<style scoped>\n",
              "    .dataframe tbody tr th:only-of-type {\n",
              "        vertical-align: middle;\n",
              "    }\n",
              "\n",
              "    .dataframe tbody tr th {\n",
              "        vertical-align: top;\n",
              "    }\n",
              "\n",
              "    .dataframe thead th {\n",
              "        text-align: right;\n",
              "    }\n",
              "</style>\n",
              "<table border=\"1\" class=\"dataframe\">\n",
              "  <thead>\n",
              "    <tr style=\"text-align: right;\">\n",
              "      <th></th>\n",
              "      <th>Date</th>\n",
              "      <th>Time</th>\n",
              "      <th>Location</th>\n",
              "      <th>Operator</th>\n",
              "      <th>Flight #</th>\n",
              "      <th>Route</th>\n",
              "      <th>AC Type</th>\n",
              "      <th>Registration</th>\n",
              "      <th>cn/ln</th>\n",
              "      <th>Summary</th>\n",
              "    </tr>\n",
              "  </thead>\n",
              "  <tbody>\n",
              "    <tr>\n",
              "      <th>count</th>\n",
              "      <td>4967</td>\n",
              "      <td>3457</td>\n",
              "      <td>4963</td>\n",
              "      <td>4957</td>\n",
              "      <td>1315</td>\n",
              "      <td>4193</td>\n",
              "      <td>4952</td>\n",
              "      <td>4694</td>\n",
              "      <td>4299</td>\n",
              "      <td>4903</td>\n",
              "    </tr>\n",
              "    <tr>\n",
              "      <th>unique</th>\n",
              "      <td>4539</td>\n",
              "      <td>1062</td>\n",
              "      <td>4101</td>\n",
              "      <td>2242</td>\n",
              "      <td>883</td>\n",
              "      <td>3800</td>\n",
              "      <td>2447</td>\n",
              "      <td>4661</td>\n",
              "      <td>3869</td>\n",
              "      <td>4808</td>\n",
              "    </tr>\n",
              "    <tr>\n",
              "      <th>top</th>\n",
              "      <td>2001-09-11 00:00:00</td>\n",
              "      <td>15:00</td>\n",
              "      <td>Moscow, Russia</td>\n",
              "      <td>Aeroflot</td>\n",
              "      <td>-</td>\n",
              "      <td>Training</td>\n",
              "      <td>Douglas DC-3</td>\n",
              "      <td>49</td>\n",
              "      <td>4</td>\n",
              "      <td>Crashed under unknown circumstances.</td>\n",
              "    </tr>\n",
              "    <tr>\n",
              "      <th>freq</th>\n",
              "      <td>4</td>\n",
              "      <td>37</td>\n",
              "      <td>17</td>\n",
              "      <td>255</td>\n",
              "      <td>36</td>\n",
              "      <td>92</td>\n",
              "      <td>333</td>\n",
              "      <td>3</td>\n",
              "      <td>8</td>\n",
              "      <td>9</td>\n",
              "    </tr>\n",
              "    <tr>\n",
              "      <th>first</th>\n",
              "      <td>1908-09-17 00:00:00</td>\n",
              "      <td>NaN</td>\n",
              "      <td>NaN</td>\n",
              "      <td>NaN</td>\n",
              "      <td>NaN</td>\n",
              "      <td>NaN</td>\n",
              "      <td>NaN</td>\n",
              "      <td>NaN</td>\n",
              "      <td>NaN</td>\n",
              "      <td>NaN</td>\n",
              "    </tr>\n",
              "    <tr>\n",
              "      <th>last</th>\n",
              "      <td>2019-07-30 00:00:00</td>\n",
              "      <td>NaN</td>\n",
              "      <td>NaN</td>\n",
              "      <td>NaN</td>\n",
              "      <td>NaN</td>\n",
              "      <td>NaN</td>\n",
              "      <td>NaN</td>\n",
              "      <td>NaN</td>\n",
              "      <td>NaN</td>\n",
              "      <td>NaN</td>\n",
              "    </tr>\n",
              "  </tbody>\n",
              "</table>\n",
              "</div>"
            ],
            "text/plain": [
              "                       Date   Time  ... cn/ln                               Summary\n",
              "count                  4967   3457  ...  4299                                  4903\n",
              "unique                 4539   1062  ...  3869                                  4808\n",
              "top     2001-09-11 00:00:00  15:00  ...     4  Crashed under unknown circumstances.\n",
              "freq                      4     37  ...     8                                     9\n",
              "first   1908-09-17 00:00:00    NaN  ...   NaN                                   NaN\n",
              "last    2019-07-30 00:00:00    NaN  ...   NaN                                   NaN\n",
              "\n",
              "[6 rows x 10 columns]"
            ]
          },
          "metadata": {
            "tags": []
          },
          "execution_count": 113
        }
      ]
    },
    {
      "cell_type": "code",
      "metadata": {
        "id": "SEQdw5hCF5Zs",
        "colab_type": "code",
        "outputId": "40aa509d-9b32-4d4f-8068-7dd6a487e851",
        "colab": {
          "base_uri": "https://localhost:8080/"
        }
      },
      "source": [
        "df.dtypes"
      ],
      "execution_count": 0,
      "outputs": [
        {
          "output_type": "execute_result",
          "data": {
            "text/plain": [
              "Date                     datetime64[ns]\n",
              "Time                             object\n",
              "Location                         object\n",
              "Operator                         object\n",
              "Flight #                         object\n",
              "Route                            object\n",
              "AC Type                          object\n",
              "Registration                     object\n",
              "cn/ln                            object\n",
              "Aboard                          float64\n",
              "Aboard Passangers               float64\n",
              "Aboard Crew                     float64\n",
              "Fatalities                      float64\n",
              "Fatalities Passangers           float64\n",
              "Fatalities Crew                 float64\n",
              "Ground                          float64\n",
              "Summary                          object\n",
              "dtype: object"
            ]
          },
          "metadata": {
            "tags": []
          },
          "execution_count": 114
        }
      ]
    },
    {
      "cell_type": "code",
      "metadata": {
        "id": "gyH1_202Xvcp",
        "colab_type": "code",
        "outputId": "0db3ea79-5639-47aa-c263-4c6d7e043fcf",
        "colab": {
          "base_uri": "https://localhost:8080/"
        }
      },
      "source": [
        "#how many crashes over ocean/ sea\n",
        "df['Location'].str.contains('sea|ocean|Ocean|Sea|Mediterranean|Channel').value_counts()[True]"
      ],
      "execution_count": 0,
      "outputs": [
        {
          "output_type": "execute_result",
          "data": {
            "text/plain": [
              "105"
            ]
          },
          "metadata": {
            "tags": []
          },
          "execution_count": 115
        }
      ]
    },
    {
      "cell_type": "code",
      "metadata": {
        "id": "b9jPOSImX1ux",
        "colab_type": "code",
        "outputId": "dd168f53-0d12-498b-c07c-fb58b2f6c743",
        "colab": {
          "base_uri": "https://localhost:8080/"
        }
      },
      "source": [
        "#find how many crash descriptions are related to weather conditions\n",
        "df['Summary'].str.contains('weather|storm|fog').value_counts()[True]"
      ],
      "execution_count": 0,
      "outputs": [
        {
          "output_type": "execute_result",
          "data": {
            "text/plain": [
              "1061"
            ]
          },
          "metadata": {
            "tags": []
          },
          "execution_count": 116
        }
      ]
    },
    {
      "cell_type": "code",
      "metadata": {
        "id": "h2kCNTz0X3CD",
        "colab_type": "code",
        "outputId": "9ffc47e6-1108-4807-8255-74339f5a94df",
        "colab": {
          "base_uri": "https://localhost:8080/"
        }
      },
      "source": [
        "#find how many crash descriptions were violent\n",
        "df['Summary'].str.contains('shot').value_counts()[True]"
      ],
      "execution_count": 0,
      "outputs": [
        {
          "output_type": "execute_result",
          "data": {
            "text/plain": [
              "108"
            ]
          },
          "metadata": {
            "tags": []
          },
          "execution_count": 117
        }
      ]
    },
    {
      "cell_type": "code",
      "metadata": {
        "id": "Gp7yM6SsAJCl",
        "colab_type": "code",
        "outputId": "ae672920-0a87-4e1b-c76a-0118fde6211a",
        "colab": {
          "base_uri": "https://localhost:8080/"
        }
      },
      "source": [
        "#now we can look for insights into date of crashes\n",
        "#which year had the most plane crashes?\n",
        "df['Date'].dt.year.value_counts(normalize=False)"
      ],
      "execution_count": 0,
      "outputs": [
        {
          "output_type": "execute_result",
          "data": {
            "text/plain": [
              "1946    88\n",
              "1989    83\n",
              "1947    82\n",
              "1962    77\n",
              "1972    77\n",
              "        ..\n",
              "1913     3\n",
              "1915     2\n",
              "1909     1\n",
              "1912     1\n",
              "1908     1\n",
              "Name: Date, Length: 109, dtype: int64"
            ]
          },
          "metadata": {
            "tags": []
          },
          "execution_count": 118
        }
      ]
    },
    {
      "cell_type": "code",
      "metadata": {
        "id": "Tto7Z_mgA4SY",
        "colab_type": "code",
        "outputId": "8ce94b07-421e-4af4-af65-5346a05efc5b",
        "colab": {
          "base_uri": "https://localhost:8080/"
        }
      },
      "source": [
        "#sorting by year instead of incidents\n",
        "df['Date'].dt.year.value_counts().sort_index()"
      ],
      "execution_count": 0,
      "outputs": [
        {
          "output_type": "execute_result",
          "data": {
            "text/plain": [
              "1908     1\n",
              "1909     1\n",
              "1912     1\n",
              "1913     3\n",
              "1915     2\n",
              "        ..\n",
              "2015    18\n",
              "2016    23\n",
              "2017    15\n",
              "2018    16\n",
              "2019     9\n",
              "Name: Date, Length: 109, dtype: int64"
            ]
          },
          "metadata": {
            "tags": []
          },
          "execution_count": 119
        }
      ]
    },
    {
      "cell_type": "code",
      "metadata": {
        "id": "8wkPNs-mAodn",
        "colab_type": "code",
        "outputId": "5a46c035-9c18-43d5-9525-d05aff971128",
        "colab": {
          "base_uri": "https://localhost:8080/"
        }
      },
      "source": [
        "#vizualization of crashes by year\n",
        "df['Date'].dt.year.hist(bins=60);"
      ],
      "execution_count": 0,
      "outputs": [
        {
          "output_type": "display_data",
          "data": {
            "image/png": "[encoded data removed]",
            "text/plain": [
              "<Figure size 432x288 with 1 Axes>"
            ]
          },
          "metadata": {
            "tags": []
          }
        }
      ]
    },
    {
      "cell_type": "code",
      "metadata": {
        "id": "6HyoMssUPF9s",
        "colab_type": "code",
        "outputId": "57adc99e-881e-43d8-94c1-fd0d46cfd102",
        "colab": {
          "base_uri": "https://localhost:8080/"
        }
      },
      "source": [
        "sns.distplot(df['Date']);\n",
        "#histogram with KDE fit"
      ],
      "execution_count": 0,
      "outputs": [
        {
          "output_type": "display_data",
          "data": {
            "image/png": "[encoded data removed]",
            "text/plain": [
              "<Figure size 432x288 with 1 Axes>"
            ]
          },
          "metadata": {
            "tags": []
          }
        }
      ]
    },
    {
      "cell_type": "code",
      "metadata": {
        "id": "CzR4-xMeBTZ3",
        "colab_type": "code",
        "outputId": "51cc6bcc-d213-479c-f7e8-b6e45d452d91",
        "colab": {
          "base_uri": "https://localhost:8080/"
        }
      },
      "source": [
        "df['Date'].dt.year.plot.density();\n",
        "#not that useful"
      ],
      "execution_count": 0,
      "outputs": [
        {
          "output_type": "display_data",
          "data": {
            "image/png": "[encoded data removed]",
            "text/plain": [
              "<Figure size 432x288 with 1 Axes>"
            ]
          },
          "metadata": {
            "tags": []
          }
        }
      ]
    },
    {
      "cell_type": "code",
      "metadata": {
        "id": "q_hlJO_IBgKm",
        "colab_type": "code",
        "outputId": "f6a01564-8e84-4b71-8aa9-39d8d9eab161",
        "colab": {
          "base_uri": "https://localhost:8080/"
        }
      },
      "source": [
        "df['Route'].value_counts(normalize=False)\n",
        "#most common are training/testing flights"
      ],
      "execution_count": 0,
      "outputs": [
        {
          "output_type": "execute_result",
          "data": {
            "text/plain": [
              "Training                           92\n",
              "Sightseeing                        31\n",
              "Test flight                        22\n",
              "Sao Paulo - Rio de Janeiro          7\n",
              "Test                                6\n",
              "                                   ..\n",
              "Bario - Marudi                      1\n",
              "Ogden, UT - Las Vegas, NV           1\n",
              "Palmerston North - Christchurch     1\n",
              "La Grande - Lac Bienville           1\n",
              "Turku - Mariehamn                   1\n",
              "Name: Route, Length: 3800, dtype: int64"
            ]
          },
          "metadata": {
            "tags": []
          },
          "execution_count": 125
        }
      ]
    },
    {
      "cell_type": "code",
      "metadata": {
        "id": "JKo6iS93KCzB",
        "colab_type": "code",
        "outputId": "d6f71397-cfed-4e13-de5f-b2d9e26bd8da",
        "colab": {
          "base_uri": "https://localhost:8080/"
        }
      },
      "source": [
        "df['AC Type'].value_counts(normalize=False)\n",
        "#most common is WWII era aircraft"
      ],
      "execution_count": 0,
      "outputs": [
        {
          "output_type": "execute_result",
          "data": {
            "text/plain": [
              "Douglas DC-3                                333\n",
              "de Havilland Canada DHC-6 Twin Otter 300     81\n",
              "Douglas C-47A                                70\n",
              "Douglas C-47                                 64\n",
              "Douglas DC-4                                 38\n",
              "                                           ... \n",
              "Short Empire flying boat                      1\n",
              "Boeing - EC-135N                              1\n",
              "Douglas DC-3 / USN R4-D6                      1\n",
              "C-47(DC-3)                                    1\n",
              "Airbus A300B2-101                             1\n",
              "Name: AC Type, Length: 2447, dtype: int64"
            ]
          },
          "metadata": {
            "tags": []
          },
          "execution_count": 126
        }
      ]
    },
    {
      "cell_type": "code",
      "metadata": {
        "id": "BQFXDIyuLFBJ",
        "colab_type": "code",
        "outputId": "e1606bee-893e-4c0a-b571-5e698cb393ec",
        "colab": {
          "base_uri": "https://localhost:8080/"
        }
      },
      "source": [
        "df['Location'].value_counts(normalize=False)"
      ],
      "execution_count": 0,
      "outputs": [
        {
          "output_type": "execute_result",
          "data": {
            "text/plain": [
              "Moscow, Russia                             17\n",
              "Manila, Philippines                        14\n",
              "New York, New York                         14\n",
              "Sao Paulo, Brazil                          13\n",
              "Cairo, Egypt                               13\n",
              "                                           ..\n",
              "Near Valladolid, Ecuador                    1\n",
              "Oahu, Hawaii                                1\n",
              "Ciudad Havajillo, Dominican Republic        1\n",
              "Casper, Wyoming                             1\n",
              "McPherson Ranges, Queensland, Australia     1\n",
              "Name: Location, Length: 4101, dtype: int64"
            ]
          },
          "metadata": {
            "tags": []
          },
          "execution_count": 129
        }
      ]
    },
    {
      "cell_type": "code",
      "metadata": {
        "id": "9ayt7O7OLXXQ",
        "colab_type": "code",
        "outputId": "314450b7-624d-4787-f4dd-8ec73878bb48",
        "colab": {
          "base_uri": "https://localhost:8080/"
        }
      },
      "source": [
        "df['Operator'].value_counts(normalize=False)\n",
        "#should make 2 DFs, one civilian and one military"
      ],
      "execution_count": 0,
      "outputs": [
        {
          "output_type": "execute_result",
          "data": {
            "text/plain": [
              "Aeroflot                           255\n",
              "Military - U.S. Air Force          140\n",
              "Air France                          72\n",
              "Deutsche Lufthansa                  63\n",
              "United Air Lines                    44\n",
              "                                  ... \n",
              "Air Angles Inc.                      1\n",
              "NOAR Linhas Aéreas                   1\n",
              "Astro Air Taxi                       1\n",
              "Military - Colombian government      1\n",
              "Military - TAM (Bolivia)             1\n",
              "Name: Operator, Length: 2242, dtype: int64"
            ]
          },
          "metadata": {
            "tags": []
          },
          "execution_count": 130
        }
      ]
    },
    {
      "cell_type": "code",
      "metadata": {
        "id": "DkatWVMpRZKp",
        "colab_type": "code",
        "outputId": "aca34dde-a353-4756-b8ee-7b28118f736a",
        "colab": {
          "base_uri": "https://localhost:8080/"
        }
      },
      "source": [
        "#mail flights\n",
        "mail = df[df['Operator'].str.contains('Mail|FedEx|Post|Letter') == True]\n",
        "print(mail.shape)\n",
        "mail.head()"
      ],
      "execution_count": 0,
      "outputs": [
        {
          "output_type": "stream",
          "text": [
            "(38, 17)\n"
          ],
          "name": "stdout"
        },
        {
          "output_type": "execute_result",
          "data": {
            "text/html": [
              "<div>\n",
              "<style scoped>\n",
              "    .dataframe tbody tr th:only-of-type {\n",
              "        vertical-align: middle;\n",
              "    }\n",
              "\n",
              "    .dataframe tbody tr th {\n",
              "        vertical-align: top;\n",
              "    }\n",
              "\n",
              "    .dataframe thead th {\n",
              "        text-align: right;\n",
              "    }\n",
              "</style>\n",
              "<table border=\"1\" class=\"dataframe\">\n",
              "  <thead>\n",
              "    <tr style=\"text-align: right;\">\n",
              "      <th></th>\n",
              "      <th>Date</th>\n",
              "      <th>Time</th>\n",
              "      <th>Location</th>\n",
              "      <th>Operator</th>\n",
              "      <th>Flight #</th>\n",
              "      <th>Route</th>\n",
              "      <th>AC Type</th>\n",
              "      <th>Registration</th>\n",
              "      <th>cn/ln</th>\n",
              "      <th>Aboard</th>\n",
              "      <th>Aboard Passangers</th>\n",
              "      <th>Aboard Crew</th>\n",
              "      <th>Fatalities</th>\n",
              "      <th>Fatalities Passangers</th>\n",
              "      <th>Fatalities Crew</th>\n",
              "      <th>Ground</th>\n",
              "      <th>Summary</th>\n",
              "    </tr>\n",
              "  </thead>\n",
              "  <tbody>\n",
              "    <tr>\n",
              "      <th>23</th>\n",
              "      <td>1918-12-16</td>\n",
              "      <td>NaN</td>\n",
              "      <td>Elizabeth, New Jersey</td>\n",
              "      <td>US Aerial Mail Service</td>\n",
              "      <td>NaN</td>\n",
              "      <td>NaN</td>\n",
              "      <td>De Havilland DH-4</td>\n",
              "      <td>97</td>\n",
              "      <td>NaN</td>\n",
              "      <td>1.0</td>\n",
              "      <td>0.0</td>\n",
              "      <td>1.0</td>\n",
              "      <td>1.0</td>\n",
              "      <td>0.0</td>\n",
              "      <td>1.0</td>\n",
              "      <td>0.0</td>\n",
              "      <td>Carl Smith was killed when his mail plane feet...</td>\n",
              "    </tr>\n",
              "    <tr>\n",
              "      <th>24</th>\n",
              "      <td>1919-05-25</td>\n",
              "      <td>NaN</td>\n",
              "      <td>Cleveland, Ohio</td>\n",
              "      <td>US Aerial Mail Service</td>\n",
              "      <td>NaN</td>\n",
              "      <td>NaN</td>\n",
              "      <td>De Havilland DH-4</td>\n",
              "      <td>61</td>\n",
              "      <td>NaN</td>\n",
              "      <td>1.0</td>\n",
              "      <td>0.0</td>\n",
              "      <td>1.0</td>\n",
              "      <td>1.0</td>\n",
              "      <td>0.0</td>\n",
              "      <td>1.0</td>\n",
              "      <td>0.0</td>\n",
              "      <td>Caught fire in midair. The pilot leaped from t...</td>\n",
              "    </tr>\n",
              "    <tr>\n",
              "      <th>25</th>\n",
              "      <td>1919-07-19</td>\n",
              "      <td>NaN</td>\n",
              "      <td>Dix Run, Pennsylvania</td>\n",
              "      <td>US Aerial Mail Service</td>\n",
              "      <td>NaN</td>\n",
              "      <td>NaN</td>\n",
              "      <td>De Havilland DH-4</td>\n",
              "      <td>82</td>\n",
              "      <td>NaN</td>\n",
              "      <td>1.0</td>\n",
              "      <td>0.0</td>\n",
              "      <td>1.0</td>\n",
              "      <td>1.0</td>\n",
              "      <td>0.0</td>\n",
              "      <td>1.0</td>\n",
              "      <td>0.0</td>\n",
              "      <td>The mail plane crashed under unknown circumsta...</td>\n",
              "    </tr>\n",
              "    <tr>\n",
              "      <th>29</th>\n",
              "      <td>1919-10-14</td>\n",
              "      <td>NaN</td>\n",
              "      <td>Cantonsville, Maryland</td>\n",
              "      <td>US Aerial Mail Service</td>\n",
              "      <td>NaN</td>\n",
              "      <td>NaN</td>\n",
              "      <td>Curtiss R-4LM</td>\n",
              "      <td>32</td>\n",
              "      <td>NaN</td>\n",
              "      <td>1.0</td>\n",
              "      <td>0.0</td>\n",
              "      <td>1.0</td>\n",
              "      <td>1.0</td>\n",
              "      <td>0.0</td>\n",
              "      <td>1.0</td>\n",
              "      <td>0.0</td>\n",
              "      <td>The pilot was performing a mail flight to Balt...</td>\n",
              "    </tr>\n",
              "    <tr>\n",
              "      <th>31</th>\n",
              "      <td>1919-10-30</td>\n",
              "      <td>NaN</td>\n",
              "      <td>Long Valley, New Jersey</td>\n",
              "      <td>US Aerial Mail Service</td>\n",
              "      <td>NaN</td>\n",
              "      <td>NaN</td>\n",
              "      <td>De Havilland DH.4</td>\n",
              "      <td>77</td>\n",
              "      <td>77</td>\n",
              "      <td>1.0</td>\n",
              "      <td>0.0</td>\n",
              "      <td>1.0</td>\n",
              "      <td>1.0</td>\n",
              "      <td>0.0</td>\n",
              "      <td>1.0</td>\n",
              "      <td>0.0</td>\n",
              "      <td>While on a mail flight to New York the pilot e...</td>\n",
              "    </tr>\n",
              "  </tbody>\n",
              "</table>\n",
              "</div>"
            ],
            "text/plain": [
              "         Date Time  ... Ground                                            Summary\n",
              "23 1918-12-16  NaN  ...    0.0  Carl Smith was killed when his mail plane feet...\n",
              "24 1919-05-25  NaN  ...    0.0  Caught fire in midair. The pilot leaped from t...\n",
              "25 1919-07-19  NaN  ...    0.0  The mail plane crashed under unknown circumsta...\n",
              "29 1919-10-14  NaN  ...    0.0  The pilot was performing a mail flight to Balt...\n",
              "31 1919-10-30  NaN  ...    0.0  While on a mail flight to New York the pilot e...\n",
              "\n",
              "[5 rows x 17 columns]"
            ]
          },
          "metadata": {
            "tags": []
          },
          "execution_count": 131
        }
      ]
    },
    {
      "cell_type": "code",
      "metadata": {
        "id": "5Cn3MSJqRu7-",
        "colab_type": "code",
        "outputId": "69c6b1a4-4532-4cc3-a3bd-16dc898362da",
        "colab": {
          "base_uri": "https://localhost:8080/"
        }
      },
      "source": [
        "#cargo flights\n",
        "cargo = df[df['Summary'].str.contains('Cargo') == True]\n",
        "print(cargo.shape)\n",
        "cargo.head()"
      ],
      "execution_count": 0,
      "outputs": [
        {
          "output_type": "stream",
          "text": [
            "(17, 17)\n"
          ],
          "name": "stdout"
        },
        {
          "output_type": "execute_result",
          "data": {
            "text/html": [
              "<div>\n",
              "<style scoped>\n",
              "    .dataframe tbody tr th:only-of-type {\n",
              "        vertical-align: middle;\n",
              "    }\n",
              "\n",
              "    .dataframe tbody tr th {\n",
              "        vertical-align: top;\n",
              "    }\n",
              "\n",
              "    .dataframe thead th {\n",
              "        text-align: right;\n",
              "    }\n",
              "</style>\n",
              "<table border=\"1\" class=\"dataframe\">\n",
              "  <thead>\n",
              "    <tr style=\"text-align: right;\">\n",
              "      <th></th>\n",
              "      <th>Date</th>\n",
              "      <th>Time</th>\n",
              "      <th>Location</th>\n",
              "      <th>Operator</th>\n",
              "      <th>Flight #</th>\n",
              "      <th>Route</th>\n",
              "      <th>AC Type</th>\n",
              "      <th>Registration</th>\n",
              "      <th>cn/ln</th>\n",
              "      <th>Aboard</th>\n",
              "      <th>Aboard Passangers</th>\n",
              "      <th>Aboard Crew</th>\n",
              "      <th>Fatalities</th>\n",
              "      <th>Fatalities Passangers</th>\n",
              "      <th>Fatalities Crew</th>\n",
              "      <th>Ground</th>\n",
              "      <th>Summary</th>\n",
              "    </tr>\n",
              "  </thead>\n",
              "  <tbody>\n",
              "    <tr>\n",
              "      <th>940</th>\n",
              "      <td>1947-02-14</td>\n",
              "      <td>04:20</td>\n",
              "      <td>Denver, Colorado</td>\n",
              "      <td>Slick Airways</td>\n",
              "      <td>NaN</td>\n",
              "      <td>Omaha, NE - Denver, CO</td>\n",
              "      <td>Curtiss C-46E</td>\n",
              "      <td>NC59486</td>\n",
              "      <td>2944</td>\n",
              "      <td>2.0</td>\n",
              "      <td>0.0</td>\n",
              "      <td>2.0</td>\n",
              "      <td>2.0</td>\n",
              "      <td>0.0</td>\n",
              "      <td>2.0</td>\n",
              "      <td>0.0</td>\n",
              "      <td>Cargo flight. The momentary loss of control or...</td>\n",
              "    </tr>\n",
              "    <tr>\n",
              "      <th>975</th>\n",
              "      <td>1947-08-08</td>\n",
              "      <td>18:49</td>\n",
              "      <td>New York, New York</td>\n",
              "      <td>American Airlines</td>\n",
              "      <td>NaN</td>\n",
              "      <td>New York - Buffalo</td>\n",
              "      <td>Douglas DC-3C</td>\n",
              "      <td>NX88787</td>\n",
              "      <td>19639</td>\n",
              "      <td>5.0</td>\n",
              "      <td>3.0</td>\n",
              "      <td>2.0</td>\n",
              "      <td>3.0</td>\n",
              "      <td>1.0</td>\n",
              "      <td>2.0</td>\n",
              "      <td>0.0</td>\n",
              "      <td>Cargo flight. Lost an engine on takeoff and de...</td>\n",
              "    </tr>\n",
              "    <tr>\n",
              "      <th>1038</th>\n",
              "      <td>1948-05-16</td>\n",
              "      <td>20:42</td>\n",
              "      <td>Columbus, Ohio</td>\n",
              "      <td>Slick Airways</td>\n",
              "      <td>NaN</td>\n",
              "      <td>Newark, NJ - Chicago, IL</td>\n",
              "      <td>Curtiss C-46E</td>\n",
              "      <td>NC59489</td>\n",
              "      <td>2938</td>\n",
              "      <td>2.0</td>\n",
              "      <td>0.0</td>\n",
              "      <td>2.0</td>\n",
              "      <td>2.0</td>\n",
              "      <td>0.0</td>\n",
              "      <td>2.0</td>\n",
              "      <td>0.0</td>\n",
              "      <td>Cargo flight. The in-flight failure of the fus...</td>\n",
              "    </tr>\n",
              "    <tr>\n",
              "      <th>1039</th>\n",
              "      <td>1948-05-20</td>\n",
              "      <td>23:30</td>\n",
              "      <td>Near Bovingdon, England</td>\n",
              "      <td>Air Transport Charter</td>\n",
              "      <td>NaN</td>\n",
              "      <td>Valence - Bovingdon</td>\n",
              "      <td>Douglas C-47A</td>\n",
              "      <td>G-AJBG</td>\n",
              "      <td>14003/25448</td>\n",
              "      <td>4.0</td>\n",
              "      <td>0.0</td>\n",
              "      <td>4.0</td>\n",
              "      <td>3.0</td>\n",
              "      <td>0.0</td>\n",
              "      <td>3.0</td>\n",
              "      <td>0.0</td>\n",
              "      <td>Cargo flight. While maneuvering at night under...</td>\n",
              "    </tr>\n",
              "    <tr>\n",
              "      <th>1054</th>\n",
              "      <td>1948-08-01</td>\n",
              "      <td>09:40</td>\n",
              "      <td>Karachi, Pakistan</td>\n",
              "      <td>Onzeair</td>\n",
              "      <td>NaN</td>\n",
              "      <td>Chaklala – Mauripur</td>\n",
              "      <td>Avro 691 Lancastrian (flying boat)</td>\n",
              "      <td>AP-ACM</td>\n",
              "      <td>37031</td>\n",
              "      <td>4.0</td>\n",
              "      <td>0.0</td>\n",
              "      <td>4.0</td>\n",
              "      <td>4.0</td>\n",
              "      <td>0.0</td>\n",
              "      <td>4.0</td>\n",
              "      <td>0.0</td>\n",
              "      <td>Cargo flight. An error in judgement on the par...</td>\n",
              "    </tr>\n",
              "  </tbody>\n",
              "</table>\n",
              "</div>"
            ],
            "text/plain": [
              "           Date  ...                                            Summary\n",
              "940  1947-02-14  ...  Cargo flight. The momentary loss of control or...\n",
              "975  1947-08-08  ...  Cargo flight. Lost an engine on takeoff and de...\n",
              "1038 1948-05-16  ...  Cargo flight. The in-flight failure of the fus...\n",
              "1039 1948-05-20  ...  Cargo flight. While maneuvering at night under...\n",
              "1054 1948-08-01  ...  Cargo flight. An error in judgement on the par...\n",
              "\n",
              "[5 rows x 17 columns]"
            ]
          },
          "metadata": {
            "tags": []
          },
          "execution_count": 132
        }
      ]
    },
    {
      "cell_type": "code",
      "metadata": {
        "id": "prf6uSbtR7gG",
        "colab_type": "code",
        "outputId": "6587c8f7-12d7-4b8c-fbf2-9cac674d8605",
        "colab": {
          "base_uri": "https://localhost:8080/"
        }
      },
      "source": [
        "#all mail and cargo flight accidents\n",
        "totalmail = mail.append(cargo)\n",
        "print(totalmail.shape)\n",
        "totalmail.head()"
      ],
      "execution_count": 0,
      "outputs": [
        {
          "output_type": "stream",
          "text": [
            "(55, 17)\n"
          ],
          "name": "stdout"
        },
        {
          "output_type": "execute_result",
          "data": {
            "text/html": [
              "<div>\n",
              "<style scoped>\n",
              "    .dataframe tbody tr th:only-of-type {\n",
              "        vertical-align: middle;\n",
              "    }\n",
              "\n",
              "    .dataframe tbody tr th {\n",
              "        vertical-align: top;\n",
              "    }\n",
              "\n",
              "    .dataframe thead th {\n",
              "        text-align: right;\n",
              "    }\n",
              "</style>\n",
              "<table border=\"1\" class=\"dataframe\">\n",
              "  <thead>\n",
              "    <tr style=\"text-align: right;\">\n",
              "      <th></th>\n",
              "      <th>Date</th>\n",
              "      <th>Time</th>\n",
              "      <th>Location</th>\n",
              "      <th>Operator</th>\n",
              "      <th>Flight #</th>\n",
              "      <th>Route</th>\n",
              "      <th>AC Type</th>\n",
              "      <th>Registration</th>\n",
              "      <th>cn/ln</th>\n",
              "      <th>Aboard</th>\n",
              "      <th>Aboard Passangers</th>\n",
              "      <th>Aboard Crew</th>\n",
              "      <th>Fatalities</th>\n",
              "      <th>Fatalities Passangers</th>\n",
              "      <th>Fatalities Crew</th>\n",
              "      <th>Ground</th>\n",
              "      <th>Summary</th>\n",
              "    </tr>\n",
              "  </thead>\n",
              "  <tbody>\n",
              "    <tr>\n",
              "      <th>23</th>\n",
              "      <td>1918-12-16</td>\n",
              "      <td>NaN</td>\n",
              "      <td>Elizabeth, New Jersey</td>\n",
              "      <td>US Aerial Mail Service</td>\n",
              "      <td>NaN</td>\n",
              "      <td>NaN</td>\n",
              "      <td>De Havilland DH-4</td>\n",
              "      <td>97</td>\n",
              "      <td>NaN</td>\n",
              "      <td>1.0</td>\n",
              "      <td>0.0</td>\n",
              "      <td>1.0</td>\n",
              "      <td>1.0</td>\n",
              "      <td>0.0</td>\n",
              "      <td>1.0</td>\n",
              "      <td>0.0</td>\n",
              "      <td>Carl Smith was killed when his mail plane feet...</td>\n",
              "    </tr>\n",
              "    <tr>\n",
              "      <th>24</th>\n",
              "      <td>1919-05-25</td>\n",
              "      <td>NaN</td>\n",
              "      <td>Cleveland, Ohio</td>\n",
              "      <td>US Aerial Mail Service</td>\n",
              "      <td>NaN</td>\n",
              "      <td>NaN</td>\n",
              "      <td>De Havilland DH-4</td>\n",
              "      <td>61</td>\n",
              "      <td>NaN</td>\n",
              "      <td>1.0</td>\n",
              "      <td>0.0</td>\n",
              "      <td>1.0</td>\n",
              "      <td>1.0</td>\n",
              "      <td>0.0</td>\n",
              "      <td>1.0</td>\n",
              "      <td>0.0</td>\n",
              "      <td>Caught fire in midair. The pilot leaped from t...</td>\n",
              "    </tr>\n",
              "    <tr>\n",
              "      <th>25</th>\n",
              "      <td>1919-07-19</td>\n",
              "      <td>NaN</td>\n",
              "      <td>Dix Run, Pennsylvania</td>\n",
              "      <td>US Aerial Mail Service</td>\n",
              "      <td>NaN</td>\n",
              "      <td>NaN</td>\n",
              "      <td>De Havilland DH-4</td>\n",
              "      <td>82</td>\n",
              "      <td>NaN</td>\n",
              "      <td>1.0</td>\n",
              "      <td>0.0</td>\n",
              "      <td>1.0</td>\n",
              "      <td>1.0</td>\n",
              "      <td>0.0</td>\n",
              "      <td>1.0</td>\n",
              "      <td>0.0</td>\n",
              "      <td>The mail plane crashed under unknown circumsta...</td>\n",
              "    </tr>\n",
              "    <tr>\n",
              "      <th>29</th>\n",
              "      <td>1919-10-14</td>\n",
              "      <td>NaN</td>\n",
              "      <td>Cantonsville, Maryland</td>\n",
              "      <td>US Aerial Mail Service</td>\n",
              "      <td>NaN</td>\n",
              "      <td>NaN</td>\n",
              "      <td>Curtiss R-4LM</td>\n",
              "      <td>32</td>\n",
              "      <td>NaN</td>\n",
              "      <td>1.0</td>\n",
              "      <td>0.0</td>\n",
              "      <td>1.0</td>\n",
              "      <td>1.0</td>\n",
              "      <td>0.0</td>\n",
              "      <td>1.0</td>\n",
              "      <td>0.0</td>\n",
              "      <td>The pilot was performing a mail flight to Balt...</td>\n",
              "    </tr>\n",
              "    <tr>\n",
              "      <th>31</th>\n",
              "      <td>1919-10-30</td>\n",
              "      <td>NaN</td>\n",
              "      <td>Long Valley, New Jersey</td>\n",
              "      <td>US Aerial Mail Service</td>\n",
              "      <td>NaN</td>\n",
              "      <td>NaN</td>\n",
              "      <td>De Havilland DH.4</td>\n",
              "      <td>77</td>\n",
              "      <td>77</td>\n",
              "      <td>1.0</td>\n",
              "      <td>0.0</td>\n",
              "      <td>1.0</td>\n",
              "      <td>1.0</td>\n",
              "      <td>0.0</td>\n",
              "      <td>1.0</td>\n",
              "      <td>0.0</td>\n",
              "      <td>While on a mail flight to New York the pilot e...</td>\n",
              "    </tr>\n",
              "  </tbody>\n",
              "</table>\n",
              "</div>"
            ],
            "text/plain": [
              "         Date Time  ... Ground                                            Summary\n",
              "23 1918-12-16  NaN  ...    0.0  Carl Smith was killed when his mail plane feet...\n",
              "24 1919-05-25  NaN  ...    0.0  Caught fire in midair. The pilot leaped from t...\n",
              "25 1919-07-19  NaN  ...    0.0  The mail plane crashed under unknown circumsta...\n",
              "29 1919-10-14  NaN  ...    0.0  The pilot was performing a mail flight to Balt...\n",
              "31 1919-10-30  NaN  ...    0.0  While on a mail flight to New York the pilot e...\n",
              "\n",
              "[5 rows x 17 columns]"
            ]
          },
          "metadata": {
            "tags": []
          },
          "execution_count": 133
        }
      ]
    },
    {
      "cell_type": "code",
      "metadata": {
        "id": "bFHegsM_SsLg",
        "colab_type": "code",
        "outputId": "29feaab3-c907-452a-b6fe-dd3d213a863a",
        "colab": {
          "base_uri": "https://localhost:8080/"
        }
      },
      "source": [
        "#vizualization of mail and cargo crashes by year\n",
        "totalmail['Date'].dt.year.hist(bins=30);"
      ],
      "execution_count": 0,
      "outputs": [
        {
          "output_type": "display_data",
          "data": {
            "image/png": "[encoded data removed]",
            "text/plain": [
              "<Figure size 432x288 with 1 Axes>"
            ]
          },
          "metadata": {
            "tags": []
          }
        }
      ]
    },
    {
      "cell_type": "code",
      "metadata": {
        "id": "mMu06B5mTufm",
        "colab_type": "code",
        "outputId": "a60145f7-5bb5-4eed-96fa-39b3b9221476",
        "colab": {
          "base_uri": "https://localhost:8080/"
        }
      },
      "source": [
        "#how many for unknown causes?\n",
        "unk = df[df['Summary'].str.contains('unknown|Unknown|mystery|uncertain|Uncertain|Disappeared|disappeared') == True]\n",
        "print(unk.shape)\n",
        "unk.head()"
      ],
      "execution_count": 0,
      "outputs": [
        {
          "output_type": "stream",
          "text": [
            "(260, 17)\n"
          ],
          "name": "stdout"
        },
        {
          "output_type": "execute_result",
          "data": {
            "text/html": [
              "<div>\n",
              "<style scoped>\n",
              "    .dataframe tbody tr th:only-of-type {\n",
              "        vertical-align: middle;\n",
              "    }\n",
              "\n",
              "    .dataframe tbody tr th {\n",
              "        vertical-align: top;\n",
              "    }\n",
              "\n",
              "    .dataframe thead th {\n",
              "        text-align: right;\n",
              "    }\n",
              "</style>\n",
              "<table border=\"1\" class=\"dataframe\">\n",
              "  <thead>\n",
              "    <tr style=\"text-align: right;\">\n",
              "      <th></th>\n",
              "      <th>Date</th>\n",
              "      <th>Time</th>\n",
              "      <th>Location</th>\n",
              "      <th>Operator</th>\n",
              "      <th>Flight #</th>\n",
              "      <th>Route</th>\n",
              "      <th>AC Type</th>\n",
              "      <th>Registration</th>\n",
              "      <th>cn/ln</th>\n",
              "      <th>Aboard</th>\n",
              "      <th>Aboard Passangers</th>\n",
              "      <th>Aboard Crew</th>\n",
              "      <th>Fatalities</th>\n",
              "      <th>Fatalities Passangers</th>\n",
              "      <th>Fatalities Crew</th>\n",
              "      <th>Ground</th>\n",
              "      <th>Summary</th>\n",
              "    </tr>\n",
              "  </thead>\n",
              "  <tbody>\n",
              "    <tr>\n",
              "      <th>8</th>\n",
              "      <td>1916-07-28</td>\n",
              "      <td>NaN</td>\n",
              "      <td>Near Jambol, Bulgeria</td>\n",
              "      <td>Military - German Army</td>\n",
              "      <td>NaN</td>\n",
              "      <td>NaN</td>\n",
              "      <td>Schutte-Lanz S-L-10 (airship)</td>\n",
              "      <td>NaN</td>\n",
              "      <td>NaN</td>\n",
              "      <td>20.0</td>\n",
              "      <td>NaN</td>\n",
              "      <td>NaN</td>\n",
              "      <td>20.0</td>\n",
              "      <td>NaN</td>\n",
              "      <td>NaN</td>\n",
              "      <td>0.0</td>\n",
              "      <td>Crashed near the Black Sea, cause unknown.</td>\n",
              "    </tr>\n",
              "    <tr>\n",
              "      <th>25</th>\n",
              "      <td>1919-07-19</td>\n",
              "      <td>NaN</td>\n",
              "      <td>Dix Run, Pennsylvania</td>\n",
              "      <td>US Aerial Mail Service</td>\n",
              "      <td>NaN</td>\n",
              "      <td>NaN</td>\n",
              "      <td>De Havilland DH-4</td>\n",
              "      <td>82</td>\n",
              "      <td>NaN</td>\n",
              "      <td>1.0</td>\n",
              "      <td>0.0</td>\n",
              "      <td>1.0</td>\n",
              "      <td>1.0</td>\n",
              "      <td>0.0</td>\n",
              "      <td>1.0</td>\n",
              "      <td>0.0</td>\n",
              "      <td>The mail plane crashed under unknown circumsta...</td>\n",
              "    </tr>\n",
              "    <tr>\n",
              "      <th>36</th>\n",
              "      <td>1920-04-11</td>\n",
              "      <td>NaN</td>\n",
              "      <td>Heller Field, New Jersey</td>\n",
              "      <td>US Aerial Mail Service</td>\n",
              "      <td>NaN</td>\n",
              "      <td>NaN</td>\n",
              "      <td>Curtiss JN-4H</td>\n",
              "      <td>44</td>\n",
              "      <td>NaN</td>\n",
              "      <td>2.0</td>\n",
              "      <td>1.0</td>\n",
              "      <td>1.0</td>\n",
              "      <td>1.0</td>\n",
              "      <td>0.0</td>\n",
              "      <td>1.0</td>\n",
              "      <td>0.0</td>\n",
              "      <td>The aircraft crashed while on approach for unk...</td>\n",
              "    </tr>\n",
              "    <tr>\n",
              "      <th>40</th>\n",
              "      <td>1920-08-16</td>\n",
              "      <td>NaN</td>\n",
              "      <td>Bedford, England</td>\n",
              "      <td>By Air</td>\n",
              "      <td>NaN</td>\n",
              "      <td>NaN</td>\n",
              "      <td>Armstrong-Whitworth F-K-8</td>\n",
              "      <td>G-EALW</td>\n",
              "      <td>NaN</td>\n",
              "      <td>1.0</td>\n",
              "      <td>0.0</td>\n",
              "      <td>1.0</td>\n",
              "      <td>1.0</td>\n",
              "      <td>0.0</td>\n",
              "      <td>1.0</td>\n",
              "      <td>0.0</td>\n",
              "      <td>The plane crashed during a cargo flight under ...</td>\n",
              "    </tr>\n",
              "    <tr>\n",
              "      <th>52</th>\n",
              "      <td>1921-02-09</td>\n",
              "      <td>NaN</td>\n",
              "      <td>La Crosse, Wisconsin</td>\n",
              "      <td>US Aerial Mail Service</td>\n",
              "      <td>NaN</td>\n",
              "      <td>NaN</td>\n",
              "      <td>Junkers F-13</td>\n",
              "      <td>301</td>\n",
              "      <td>NaN</td>\n",
              "      <td>3.0</td>\n",
              "      <td>0.0</td>\n",
              "      <td>3.0</td>\n",
              "      <td>3.0</td>\n",
              "      <td>0.0</td>\n",
              "      <td>3.0</td>\n",
              "      <td>0.0</td>\n",
              "      <td>Crashed for unknown reasons. Both pilots and t...</td>\n",
              "    </tr>\n",
              "  </tbody>\n",
              "</table>\n",
              "</div>"
            ],
            "text/plain": [
              "         Date Time  ... Ground                                            Summary\n",
              "8  1916-07-28  NaN  ...    0.0         Crashed near the Black Sea, cause unknown.\n",
              "25 1919-07-19  NaN  ...    0.0  The mail plane crashed under unknown circumsta...\n",
              "36 1920-04-11  NaN  ...    0.0  The aircraft crashed while on approach for unk...\n",
              "40 1920-08-16  NaN  ...    0.0  The plane crashed during a cargo flight under ...\n",
              "52 1921-02-09  NaN  ...    0.0  Crashed for unknown reasons. Both pilots and t...\n",
              "\n",
              "[5 rows x 17 columns]"
            ]
          },
          "metadata": {
            "tags": []
          },
          "execution_count": 135
        }
      ]
    },
    {
      "cell_type": "markdown",
      "metadata": {
        "id": "KMJLC6oBYJT_",
        "colab_type": "text"
      },
      "source": [
        "#Military DF"
      ]
    },
    {
      "cell_type": "code",
      "metadata": {
        "id": "pJx4ArOfMQHC",
        "colab_type": "code",
        "outputId": "6e66b9f7-970b-4b9f-9570-0f720627d282",
        "colab": {
          "base_uri": "https://localhost:8080/"
        }
      },
      "source": [
        "#lets make a new DF for military\n",
        "military = df[['Date','Location','Operator','Route', 'AC Type', 'Aboard', 'Fatalities', 'Summary']]\n",
        "mil = military[military['Operator'].str.contains(\"Military\") == True]\n",
        "print(mil.shape)\n",
        "mil.head()"
      ],
      "execution_count": 0,
      "outputs": [
        {
          "output_type": "stream",
          "text": [
            "(750, 8)\n"
          ],
          "name": "stdout"
        },
        {
          "output_type": "execute_result",
          "data": {
            "text/html": [
              "<div>\n",
              "<style scoped>\n",
              "    .dataframe tbody tr th:only-of-type {\n",
              "        vertical-align: middle;\n",
              "    }\n",
              "\n",
              "    .dataframe tbody tr th {\n",
              "        vertical-align: top;\n",
              "    }\n",
              "\n",
              "    .dataframe thead th {\n",
              "        text-align: right;\n",
              "    }\n",
              "</style>\n",
              "<table border=\"1\" class=\"dataframe\">\n",
              "  <thead>\n",
              "    <tr style=\"text-align: right;\">\n",
              "      <th></th>\n",
              "      <th>Date</th>\n",
              "      <th>Location</th>\n",
              "      <th>Operator</th>\n",
              "      <th>Route</th>\n",
              "      <th>AC Type</th>\n",
              "      <th>Aboard</th>\n",
              "      <th>Fatalities</th>\n",
              "      <th>Summary</th>\n",
              "    </tr>\n",
              "  </thead>\n",
              "  <tbody>\n",
              "    <tr>\n",
              "      <th>0</th>\n",
              "      <td>1908-09-17</td>\n",
              "      <td>Fort Myer, Virginia</td>\n",
              "      <td>Military - U.S. Army</td>\n",
              "      <td>Demonstration</td>\n",
              "      <td>Wright Flyer III</td>\n",
              "      <td>2.0</td>\n",
              "      <td>1.0</td>\n",
              "      <td>During a demonstration flight, a U.S. Army fly...</td>\n",
              "    </tr>\n",
              "    <tr>\n",
              "      <th>2</th>\n",
              "      <td>1912-07-12</td>\n",
              "      <td>Atlantic City, New Jersey</td>\n",
              "      <td>Military - U.S. Navy</td>\n",
              "      <td>Test flight</td>\n",
              "      <td>Dirigible</td>\n",
              "      <td>5.0</td>\n",
              "      <td>5.0</td>\n",
              "      <td>First U.S. dirigible Akron exploded just offsh...</td>\n",
              "    </tr>\n",
              "    <tr>\n",
              "      <th>4</th>\n",
              "      <td>1913-09-09</td>\n",
              "      <td>Over the North Sea</td>\n",
              "      <td>Military - German Navy</td>\n",
              "      <td>NaN</td>\n",
              "      <td>Zeppelin L-1 (airship)</td>\n",
              "      <td>20.0</td>\n",
              "      <td>14.0</td>\n",
              "      <td>The airship flew into a thunderstorm and encou...</td>\n",
              "    </tr>\n",
              "    <tr>\n",
              "      <th>5</th>\n",
              "      <td>1913-10-17</td>\n",
              "      <td>Near Johannisthal, Germany</td>\n",
              "      <td>Military - German Navy</td>\n",
              "      <td>NaN</td>\n",
              "      <td>Zeppelin L-2 (airship)</td>\n",
              "      <td>30.0</td>\n",
              "      <td>30.0</td>\n",
              "      <td>Hydrogen gas which was being vented was sucked...</td>\n",
              "    </tr>\n",
              "    <tr>\n",
              "      <th>6</th>\n",
              "      <td>1915-03-05</td>\n",
              "      <td>Tienen, Belgium</td>\n",
              "      <td>Military - German Navy</td>\n",
              "      <td>NaN</td>\n",
              "      <td>Zeppelin L-8 (airship)</td>\n",
              "      <td>41.0</td>\n",
              "      <td>21.0</td>\n",
              "      <td>Crashed into trees while attempting to land af...</td>\n",
              "    </tr>\n",
              "  </tbody>\n",
              "</table>\n",
              "</div>"
            ],
            "text/plain": [
              "        Date  ...                                            Summary\n",
              "0 1908-09-17  ...  During a demonstration flight, a U.S. Army fly...\n",
              "2 1912-07-12  ...  First U.S. dirigible Akron exploded just offsh...\n",
              "4 1913-09-09  ...  The airship flew into a thunderstorm and encou...\n",
              "5 1913-10-17  ...  Hydrogen gas which was being vented was sucked...\n",
              "6 1915-03-05  ...  Crashed into trees while attempting to land af...\n",
              "\n",
              "[5 rows x 8 columns]"
            ]
          },
          "metadata": {
            "tags": []
          },
          "execution_count": 137
        }
      ]
    },
    {
      "cell_type": "markdown",
      "metadata": {
        "id": "Cc5Ozerh_Iny",
        "colab_type": "text"
      },
      "source": [
        "##Military Crash Insights"
      ]
    },
    {
      "cell_type": "code",
      "metadata": {
        "id": "KhG_Jq2pYMOa",
        "colab_type": "code",
        "outputId": "df592dc0-f738-4473-b842-eb78586db91f",
        "colab": {
          "base_uri": "https://localhost:8080/"
        }
      },
      "source": [
        "#how many Military crashes over ocean/ sea\n",
        "mil['Location'].str.contains('sea|ocean|Ocean|Sea|Mediterranean|Channel').value_counts()[True]"
      ],
      "execution_count": 0,
      "outputs": [
        {
          "output_type": "execute_result",
          "data": {
            "text/plain": [
              "22"
            ]
          },
          "metadata": {
            "tags": []
          },
          "execution_count": 138
        }
      ]
    },
    {
      "cell_type": "code",
      "metadata": {
        "id": "TFVw1JfrYMRd",
        "colab_type": "code",
        "outputId": "95ec48d8-7188-4c64-c097-e6eb4836198b",
        "colab": {
          "base_uri": "https://localhost:8080/"
        }
      },
      "source": [
        "#find how many crash descriptions are related to weather conditions\n",
        "mil['Summary'].str.contains('weather|storm|fog').value_counts()[True]"
      ],
      "execution_count": 0,
      "outputs": [
        {
          "output_type": "execute_result",
          "data": {
            "text/plain": [
              "115"
            ]
          },
          "metadata": {
            "tags": []
          },
          "execution_count": 139
        }
      ]
    },
    {
      "cell_type": "code",
      "metadata": {
        "id": "2pfEbuUQYMT0",
        "colab_type": "code",
        "outputId": "19888a3b-d0ad-4bf2-f1d4-b7b5b57861f7",
        "colab": {
          "base_uri": "https://localhost:8080/"
        }
      },
      "source": [
        "#find how many militatry crash descriptions were violent\n",
        "mil['Summary'].str.contains('shot').value_counts()[True]"
      ],
      "execution_count": 0,
      "outputs": [
        {
          "output_type": "execute_result",
          "data": {
            "text/plain": [
              "20"
            ]
          },
          "metadata": {
            "tags": []
          },
          "execution_count": 140
        }
      ]
    },
    {
      "cell_type": "code",
      "metadata": {
        "id": "bajFCB90YeCM",
        "colab_type": "code",
        "outputId": "5b71a6e1-61fb-49d8-8bf4-d792ff612d61",
        "colab": {
          "base_uri": "https://localhost:8080/"
        }
      },
      "source": [
        "#how many military crashes were testing flights of some kind\n",
        "mil['Route'].str.contains('Training|Test').value_counts()[True]"
      ],
      "execution_count": 0,
      "outputs": [
        {
          "output_type": "execute_result",
          "data": {
            "text/plain": [
              "39"
            ]
          },
          "metadata": {
            "tags": []
          },
          "execution_count": 141
        }
      ]
    },
    {
      "cell_type": "code",
      "metadata": {
        "id": "pHiWhq9eYyki",
        "colab_type": "code",
        "outputId": "ba210189-33b8-409d-c276-2f67ba71c8e8",
        "colab": {
          "base_uri": "https://localhost:8080/"
        }
      },
      "source": [
        "#which Military had the most crashes?\n",
        "mil['Operator'].value_counts(normalize=False)"
      ],
      "execution_count": 0,
      "outputs": [
        {
          "output_type": "execute_result",
          "data": {
            "text/plain": [
              "Military - U.S. Air Force             140\n",
              "Military - U.S. Army Air Forces        43\n",
              "Military - Royal Air Force             32\n",
              "Military - U.S. Navy                   29\n",
              "Military - U.S. Army                   27\n",
              "                                     ... \n",
              "Military - Russian Army                 1\n",
              "Military - Kenya Air Force              1\n",
              "Military - Colombian Army               1\n",
              "Military - Force Aérienne Zaïroise      1\n",
              "Military - TAM (Bolivia)                1\n",
              "Name: Operator, Length: 224, dtype: int64"
            ]
          },
          "metadata": {
            "tags": []
          },
          "execution_count": 142
        }
      ]
    },
    {
      "cell_type": "code",
      "metadata": {
        "id": "bDlsE__8ZTL8",
        "colab_type": "code",
        "outputId": "e56f98bc-ac25-40ba-b285-206050cba153",
        "colab": {
          "base_uri": "https://localhost:8080/"
        }
      },
      "source": [
        "#How many are US military of some branch?\n",
        "mil['Operator'].str.contains('U.S.').value_counts()[True]\n",
        "#US military (all branches combined) are more than one third of all military crashes (280/750 = 37.333)"
      ],
      "execution_count": 0,
      "outputs": [
        {
          "output_type": "execute_result",
          "data": {
            "text/plain": [
              "280"
            ]
          },
          "metadata": {
            "tags": []
          },
          "execution_count": 143
        }
      ]
    },
    {
      "cell_type": "code",
      "metadata": {
        "id": "gK7rR8zbZgb7",
        "colab_type": "code",
        "outputId": "a7e35057-98fe-4257-bca6-2f9961a113c4",
        "colab": {
          "base_uri": "https://localhost:8080/"
        }
      },
      "source": [
        "#make non-US military DF\n",
        "other_mil = mil[mil['Operator'].str.contains(\"U.S.\") == False]\n",
        "print(other_mil.shape)\n",
        "other_mil.head()"
      ],
      "execution_count": 0,
      "outputs": [
        {
          "output_type": "stream",
          "text": [
            "(470, 8)\n"
          ],
          "name": "stdout"
        },
        {
          "output_type": "execute_result",
          "data": {
            "text/html": [
              "<div>\n",
              "<style scoped>\n",
              "    .dataframe tbody tr th:only-of-type {\n",
              "        vertical-align: middle;\n",
              "    }\n",
              "\n",
              "    .dataframe tbody tr th {\n",
              "        vertical-align: top;\n",
              "    }\n",
              "\n",
              "    .dataframe thead th {\n",
              "        text-align: right;\n",
              "    }\n",
              "</style>\n",
              "<table border=\"1\" class=\"dataframe\">\n",
              "  <thead>\n",
              "    <tr style=\"text-align: right;\">\n",
              "      <th></th>\n",
              "      <th>Date</th>\n",
              "      <th>Location</th>\n",
              "      <th>Operator</th>\n",
              "      <th>Route</th>\n",
              "      <th>AC Type</th>\n",
              "      <th>Aboard</th>\n",
              "      <th>Fatalities</th>\n",
              "      <th>Summary</th>\n",
              "    </tr>\n",
              "  </thead>\n",
              "  <tbody>\n",
              "    <tr>\n",
              "      <th>4</th>\n",
              "      <td>1913-09-09</td>\n",
              "      <td>Over the North Sea</td>\n",
              "      <td>Military - German Navy</td>\n",
              "      <td>NaN</td>\n",
              "      <td>Zeppelin L-1 (airship)</td>\n",
              "      <td>20.0</td>\n",
              "      <td>14.0</td>\n",
              "      <td>The airship flew into a thunderstorm and encou...</td>\n",
              "    </tr>\n",
              "    <tr>\n",
              "      <th>5</th>\n",
              "      <td>1913-10-17</td>\n",
              "      <td>Near Johannisthal, Germany</td>\n",
              "      <td>Military - German Navy</td>\n",
              "      <td>NaN</td>\n",
              "      <td>Zeppelin L-2 (airship)</td>\n",
              "      <td>30.0</td>\n",
              "      <td>30.0</td>\n",
              "      <td>Hydrogen gas which was being vented was sucked...</td>\n",
              "    </tr>\n",
              "    <tr>\n",
              "      <th>6</th>\n",
              "      <td>1915-03-05</td>\n",
              "      <td>Tienen, Belgium</td>\n",
              "      <td>Military - German Navy</td>\n",
              "      <td>NaN</td>\n",
              "      <td>Zeppelin L-8 (airship)</td>\n",
              "      <td>41.0</td>\n",
              "      <td>21.0</td>\n",
              "      <td>Crashed into trees while attempting to land af...</td>\n",
              "    </tr>\n",
              "    <tr>\n",
              "      <th>7</th>\n",
              "      <td>1915-09-03</td>\n",
              "      <td>Off Cuxhaven, Germany</td>\n",
              "      <td>Military - German Navy</td>\n",
              "      <td>NaN</td>\n",
              "      <td>Zeppelin L-10 (airship)</td>\n",
              "      <td>19.0</td>\n",
              "      <td>19.0</td>\n",
              "      <td>Exploded and burned near Neuwerk Island,  when...</td>\n",
              "    </tr>\n",
              "    <tr>\n",
              "      <th>8</th>\n",
              "      <td>1916-07-28</td>\n",
              "      <td>Near Jambol, Bulgeria</td>\n",
              "      <td>Military - German Army</td>\n",
              "      <td>NaN</td>\n",
              "      <td>Schutte-Lanz S-L-10 (airship)</td>\n",
              "      <td>20.0</td>\n",
              "      <td>20.0</td>\n",
              "      <td>Crashed near the Black Sea, cause unknown.</td>\n",
              "    </tr>\n",
              "  </tbody>\n",
              "</table>\n",
              "</div>"
            ],
            "text/plain": [
              "        Date  ...                                            Summary\n",
              "4 1913-09-09  ...  The airship flew into a thunderstorm and encou...\n",
              "5 1913-10-17  ...  Hydrogen gas which was being vented was sucked...\n",
              "6 1915-03-05  ...  Crashed into trees while attempting to land af...\n",
              "7 1915-09-03  ...  Exploded and burned near Neuwerk Island,  when...\n",
              "8 1916-07-28  ...         Crashed near the Black Sea, cause unknown.\n",
              "\n",
              "[5 rows x 8 columns]"
            ]
          },
          "metadata": {
            "tags": []
          },
          "execution_count": 144
        }
      ]
    },
    {
      "cell_type": "code",
      "metadata": {
        "id": "ENqjyzakZ1Oy",
        "colab_type": "code",
        "outputId": "5cb26416-a261-4fe1-9db1-92082e4773cb",
        "colab": {
          "base_uri": "https://localhost:8080/"
        }
      },
      "source": [
        "#which non-US Military had the most crashes?\n",
        "other_mil['Operator'].value_counts(normalize=False)\n",
        "#UK at 54"
      ],
      "execution_count": 0,
      "outputs": [
        {
          "output_type": "execute_result",
          "data": {
            "text/plain": [
              "Military - Royal Air Force                                32\n",
              "Military -Royal Air Force                                 22\n",
              "Military - German Navy                                    15\n",
              "Military - Indian Air Force                               15\n",
              "Military - Afghan Republican Air Force                    15\n",
              "                                                          ..\n",
              "Military - Lybian Arab Air Force                           1\n",
              "British European Airways / Military - Soviet Air Force     1\n",
              "Military - British Air Ministry                            1\n",
              "Military - Angolan  Air Force                              1\n",
              "Military - TAM (Bolivia)                                   1\n",
              "Name: Operator, Length: 196, dtype: int64"
            ]
          },
          "metadata": {
            "tags": []
          },
          "execution_count": 145
        }
      ]
    },
    {
      "cell_type": "code",
      "metadata": {
        "id": "7N_Qty9Rg6TT",
        "colab_type": "code",
        "outputId": "a0e2c0d2-3d92-44af-ced7-e7ad5b1bd8ab",
        "colab": {
          "base_uri": "https://localhost:8080/"
        }
      },
      "source": [
        "mil['Fatalities'].mean"
      ],
      "execution_count": 0,
      "outputs": [
        {
          "output_type": "execute_result",
          "data": {
            "text/plain": [
              "<bound method Series.mean of 0         1.0\n",
              "2         5.0\n",
              "4        14.0\n",
              "5        30.0\n",
              "6        21.0\n",
              "        ...  \n",
              "4946     39.0\n",
              "4949    257.0\n",
              "4951      9.0\n",
              "4965     13.0\n",
              "4966      5.0\n",
              "Name: Fatalities, Length: 750, dtype: float64>"
            ]
          },
          "metadata": {
            "tags": []
          },
          "execution_count": 146
        }
      ]
    },
    {
      "cell_type": "code",
      "metadata": {
        "id": "5tom1u2MkEFR",
        "colab_type": "code",
        "outputId": "c52f8b83-eb8b-4c4b-8671-b83f2d860348",
        "colab": {
          "base_uri": "https://localhost:8080/"
        }
      },
      "source": [
        "#vizualization of crashes by year\n",
        "mil['Date'].dt.year.hist(bins=60);"
      ],
      "execution_count": 0,
      "outputs": [
        {
          "output_type": "display_data",
          "data": {
            "image/png": "[encoded data removed]",
            "text/plain": [
              "<Figure size 432x288 with 1 Axes>"
            ]
          },
          "metadata": {
            "tags": []
          }
        }
      ]
    },
    {
      "cell_type": "markdown",
      "metadata": {
        "id": "E7AYqCtdYMpp",
        "colab_type": "text"
      },
      "source": [
        "#Civilian DF"
      ]
    },
    {
      "cell_type": "code",
      "metadata": {
        "id": "WbuH8BTOXViH",
        "colab_type": "code",
        "outputId": "9d5cc697-54f3-4eb0-d414-514489a428a8",
        "colab": {
          "base_uri": "https://localhost:8080/"
        }
      },
      "source": [
        "#new DF for civilian\n",
        "civilian = df[['Date','Location','Operator','Route', 'AC Type', 'Aboard', 'Fatalities', 'Summary']]\n",
        "civ = civilian[civilian['Operator'].str.contains(\"Military\") == False]\n",
        "print(civ.shape)\n",
        "civ.head()"
      ],
      "execution_count": 0,
      "outputs": [
        {
          "output_type": "stream",
          "text": [
            "(4207, 8)\n"
          ],
          "name": "stdout"
        },
        {
          "output_type": "execute_result",
          "data": {
            "text/html": [
              "<div>\n",
              "<style scoped>\n",
              "    .dataframe tbody tr th:only-of-type {\n",
              "        vertical-align: middle;\n",
              "    }\n",
              "\n",
              "    .dataframe tbody tr th {\n",
              "        vertical-align: top;\n",
              "    }\n",
              "\n",
              "    .dataframe thead th {\n",
              "        text-align: right;\n",
              "    }\n",
              "</style>\n",
              "<table border=\"1\" class=\"dataframe\">\n",
              "  <thead>\n",
              "    <tr style=\"text-align: right;\">\n",
              "      <th></th>\n",
              "      <th>Date</th>\n",
              "      <th>Location</th>\n",
              "      <th>Operator</th>\n",
              "      <th>Route</th>\n",
              "      <th>AC Type</th>\n",
              "      <th>Aboard</th>\n",
              "      <th>Fatalities</th>\n",
              "      <th>Summary</th>\n",
              "    </tr>\n",
              "  </thead>\n",
              "  <tbody>\n",
              "    <tr>\n",
              "      <th>3</th>\n",
              "      <td>1913-08-06</td>\n",
              "      <td>Victoria, British Columbia, Canada</td>\n",
              "      <td>Private</td>\n",
              "      <td>NaN</td>\n",
              "      <td>Curtiss seaplane</td>\n",
              "      <td>1.0</td>\n",
              "      <td>1.0</td>\n",
              "      <td>The first fatal airplane accident in Canada oc...</td>\n",
              "    </tr>\n",
              "    <tr>\n",
              "      <th>23</th>\n",
              "      <td>1918-12-16</td>\n",
              "      <td>Elizabeth, New Jersey</td>\n",
              "      <td>US Aerial Mail Service</td>\n",
              "      <td>NaN</td>\n",
              "      <td>De Havilland DH-4</td>\n",
              "      <td>1.0</td>\n",
              "      <td>1.0</td>\n",
              "      <td>Carl Smith was killed when his mail plane feet...</td>\n",
              "    </tr>\n",
              "    <tr>\n",
              "      <th>24</th>\n",
              "      <td>1919-05-25</td>\n",
              "      <td>Cleveland, Ohio</td>\n",
              "      <td>US Aerial Mail Service</td>\n",
              "      <td>NaN</td>\n",
              "      <td>De Havilland DH-4</td>\n",
              "      <td>1.0</td>\n",
              "      <td>1.0</td>\n",
              "      <td>Caught fire in midair. The pilot leaped from t...</td>\n",
              "    </tr>\n",
              "    <tr>\n",
              "      <th>25</th>\n",
              "      <td>1919-07-19</td>\n",
              "      <td>Dix Run, Pennsylvania</td>\n",
              "      <td>US Aerial Mail Service</td>\n",
              "      <td>NaN</td>\n",
              "      <td>De Havilland DH-4</td>\n",
              "      <td>1.0</td>\n",
              "      <td>1.0</td>\n",
              "      <td>The mail plane crashed under unknown circumsta...</td>\n",
              "    </tr>\n",
              "    <tr>\n",
              "      <th>26</th>\n",
              "      <td>1919-07-21</td>\n",
              "      <td>Chicago, Illinois</td>\n",
              "      <td>Wingfoot Air Express Goodyear Tire</td>\n",
              "      <td>Shuttle</td>\n",
              "      <td>FD Type Dirigible</td>\n",
              "      <td>NaN</td>\n",
              "      <td>3.0</td>\n",
              "      <td>The dirigible, cruising at 1,200 ft. caught f...</td>\n",
              "    </tr>\n",
              "  </tbody>\n",
              "</table>\n",
              "</div>"
            ],
            "text/plain": [
              "         Date  ...                                            Summary\n",
              "3  1913-08-06  ...  The first fatal airplane accident in Canada oc...\n",
              "23 1918-12-16  ...  Carl Smith was killed when his mail plane feet...\n",
              "24 1919-05-25  ...  Caught fire in midair. The pilot leaped from t...\n",
              "25 1919-07-19  ...  The mail plane crashed under unknown circumsta...\n",
              "26 1919-07-21  ...   The dirigible, cruising at 1,200 ft. caught f...\n",
              "\n",
              "[5 rows x 8 columns]"
            ]
          },
          "metadata": {
            "tags": []
          },
          "execution_count": 148
        }
      ]
    },
    {
      "cell_type": "markdown",
      "metadata": {
        "id": "Q8l6kqea_AXv",
        "colab_type": "text"
      },
      "source": [
        "##Civlian Crash Insights"
      ]
    },
    {
      "cell_type": "code",
      "metadata": {
        "colab_type": "code",
        "outputId": "9191893d-ad20-4b3b-e150-38f8628ba7ec",
        "id": "-xcWyYa_XsI7",
        "colab": {
          "base_uri": "https://localhost:8080/"
        }
      },
      "source": [
        "#how many civilian crashes over ocean/ sea\n",
        "civ['Location'].str.contains('sea|ocean|Ocean|Sea|Mediterranean|Channel').value_counts()[True]"
      ],
      "execution_count": 0,
      "outputs": [
        {
          "output_type": "execute_result",
          "data": {
            "text/plain": [
              "83"
            ]
          },
          "metadata": {
            "tags": []
          },
          "execution_count": 149
        }
      ]
    },
    {
      "cell_type": "code",
      "metadata": {
        "id": "pTXWdKdYLlqy",
        "colab_type": "code",
        "outputId": "02d2b2be-319f-478c-85bc-d91a2ada7014",
        "colab": {
          "base_uri": "https://localhost:8080/"
        }
      },
      "source": [
        "#find how many civilian crash descriptions are related to weather conditions\n",
        "civ['Summary'].str.contains('weather|storm|fog').value_counts()[True]"
      ],
      "execution_count": 0,
      "outputs": [
        {
          "output_type": "execute_result",
          "data": {
            "text/plain": [
              "946"
            ]
          },
          "metadata": {
            "tags": []
          },
          "execution_count": 150
        }
      ]
    },
    {
      "cell_type": "code",
      "metadata": {
        "id": "8LQzTOD9as8s",
        "colab_type": "code",
        "outputId": "2aa62b9d-408c-4eb6-d73f-66c4c2e459d3",
        "colab": {
          "base_uri": "https://localhost:8080/"
        }
      },
      "source": [
        "#find how many civilian crash descriptions were violent\n",
        "civ['Summary'].str.contains('shot').value_counts()[True]\n",
        "#unfortunately 80% of all violent crashes (88/108) involved civilian aircraft "
      ],
      "execution_count": 0,
      "outputs": [
        {
          "output_type": "execute_result",
          "data": {
            "text/plain": [
              "88"
            ]
          },
          "metadata": {
            "tags": []
          },
          "execution_count": 151
        }
      ]
    },
    {
      "cell_type": "code",
      "metadata": {
        "id": "I8ZFQhBEMrig",
        "colab_type": "code",
        "outputId": "f6fcf011-9461-4b84-8ef5-6a635deb0ef4",
        "colab": {
          "base_uri": "https://localhost:8080/"
        }
      },
      "source": [
        "#new df to get more insight into downed civilian planes\n",
        "shot_down = civ[civ['Summary'].str.contains('shot') == True]\n",
        "shot_down"
      ],
      "execution_count": 0,
      "outputs": [
        {
          "output_type": "execute_result",
          "data": {
            "text/html": [
              "<div>\n",
              "<style scoped>\n",
              "    .dataframe tbody tr th:only-of-type {\n",
              "        vertical-align: middle;\n",
              "    }\n",
              "\n",
              "    .dataframe tbody tr th {\n",
              "        vertical-align: top;\n",
              "    }\n",
              "\n",
              "    .dataframe thead th {\n",
              "        text-align: right;\n",
              "    }\n",
              "</style>\n",
              "<table border=\"1\" class=\"dataframe\">\n",
              "  <thead>\n",
              "    <tr style=\"text-align: right;\">\n",
              "      <th></th>\n",
              "      <th>Date</th>\n",
              "      <th>Location</th>\n",
              "      <th>Operator</th>\n",
              "      <th>Route</th>\n",
              "      <th>AC Type</th>\n",
              "      <th>Aboard</th>\n",
              "      <th>Fatalities</th>\n",
              "      <th>Summary</th>\n",
              "    </tr>\n",
              "  </thead>\n",
              "  <tbody>\n",
              "    <tr>\n",
              "      <th>523</th>\n",
              "      <td>1938-08-24</td>\n",
              "      <td>Wangmoon, China</td>\n",
              "      <td>China National Aviation Corporation</td>\n",
              "      <td>Hong Kong - Chungking</td>\n",
              "      <td>Douglas DC-2</td>\n",
              "      <td>17.0</td>\n",
              "      <td>14.0</td>\n",
              "      <td>While en route from Hong Kong to Chungking, th...</td>\n",
              "    </tr>\n",
              "    <tr>\n",
              "      <th>579</th>\n",
              "      <td>1940-06-14</td>\n",
              "      <td>Off Prangli Island, Gulf of Finland, Estonia</td>\n",
              "      <td>Aero O-Y</td>\n",
              "      <td>Tallinn, Estonia - Helsinki, Finland</td>\n",
              "      <td>Junkers JU-52/3mge</td>\n",
              "      <td>9.0</td>\n",
              "      <td>9.0</td>\n",
              "      <td>The plane was en route when it was shot down b...</td>\n",
              "    </tr>\n",
              "    <tr>\n",
              "      <th>580</th>\n",
              "      <td>1940-06-20</td>\n",
              "      <td>Near Ouistreham, France</td>\n",
              "      <td>Air France</td>\n",
              "      <td>NaN</td>\n",
              "      <td>Dewoitine D-338</td>\n",
              "      <td>1.0</td>\n",
              "      <td>1.0</td>\n",
              "      <td>Inadvertently shot down by French anti-aircraf...</td>\n",
              "    </tr>\n",
              "    <tr>\n",
              "      <th>596</th>\n",
              "      <td>1940-12-24</td>\n",
              "      <td>Capri Island, Italy</td>\n",
              "      <td>Ala Littolia</td>\n",
              "      <td>Catania - Rome</td>\n",
              "      <td>Savoia-Marchetti SM.75</td>\n",
              "      <td>7.0</td>\n",
              "      <td>7.0</td>\n",
              "      <td>While en route, the aircraft was shot down by ...</td>\n",
              "    </tr>\n",
              "    <tr>\n",
              "      <th>686</th>\n",
              "      <td>1943-08-11</td>\n",
              "      <td>Fort Hertz, China</td>\n",
              "      <td>China National Aviation Corporation</td>\n",
              "      <td>NaN</td>\n",
              "      <td>Douglas C-53</td>\n",
              "      <td>3.0</td>\n",
              "      <td>3.0</td>\n",
              "      <td>The cargo plane was shot down by Japanese figh...</td>\n",
              "    </tr>\n",
              "    <tr>\n",
              "      <th>...</th>\n",
              "      <td>...</td>\n",
              "      <td>...</td>\n",
              "      <td>...</td>\n",
              "      <td>...</td>\n",
              "      <td>...</td>\n",
              "      <td>...</td>\n",
              "      <td>...</td>\n",
              "      <td>...</td>\n",
              "    </tr>\n",
              "    <tr>\n",
              "      <th>4618</th>\n",
              "      <td>2007-06-28</td>\n",
              "      <td>M'Banza Congo, Angola</td>\n",
              "      <td>TAAG Angola Airlines</td>\n",
              "      <td>Luanda - M'Banza</td>\n",
              "      <td>Boeing 737-2M2</td>\n",
              "      <td>78.0</td>\n",
              "      <td>5.0</td>\n",
              "      <td>The crew undershot the runway and blew two tir...</td>\n",
              "    </tr>\n",
              "    <tr>\n",
              "      <th>4631</th>\n",
              "      <td>2007-09-07</td>\n",
              "      <td>Goma, Democratic Republic Congo</td>\n",
              "      <td>Galaxy Kavatsi Airlines</td>\n",
              "      <td>Kisangi - Goma - Bukavu</td>\n",
              "      <td>Antonov AN-12BP</td>\n",
              "      <td>8.0</td>\n",
              "      <td>8.0</td>\n",
              "      <td>The cargo plane, carrying palm oil, overshot t...</td>\n",
              "    </tr>\n",
              "    <tr>\n",
              "      <th>4692</th>\n",
              "      <td>2009-01-15</td>\n",
              "      <td>Adraskan district, Afghanistan</td>\n",
              "      <td>Afghan Army</td>\n",
              "      <td>NaN</td>\n",
              "      <td>Mil Mi-17</td>\n",
              "      <td>13.0</td>\n",
              "      <td>13.0</td>\n",
              "      <td>Either shot down or crashed due to bad weather.</td>\n",
              "    </tr>\n",
              "    <tr>\n",
              "      <th>4760</th>\n",
              "      <td>2010-08-24</td>\n",
              "      <td>Yichun, China</td>\n",
              "      <td>Henan Airlines</td>\n",
              "      <td>Harbin - Yichun</td>\n",
              "      <td>Embraer ERJ-190-100LR</td>\n",
              "      <td>96.0</td>\n",
              "      <td>44.0</td>\n",
              "      <td>The plane overshot the runway while landing an...</td>\n",
              "    </tr>\n",
              "    <tr>\n",
              "      <th>4886</th>\n",
              "      <td>2015-01-18</td>\n",
              "      <td>Near Abu adh Dhuhur Air Base, Syria</td>\n",
              "      <td>Syrian Air Force</td>\n",
              "      <td>Damascus - Abu Adh Dhuhur</td>\n",
              "      <td>Antonov An-26</td>\n",
              "      <td>37.0</td>\n",
              "      <td>37.0</td>\n",
              "      <td>The army transport crashed while attempting to...</td>\n",
              "    </tr>\n",
              "  </tbody>\n",
              "</table>\n",
              "<p>88 rows × 8 columns</p>\n",
              "</div>"
            ],
            "text/plain": [
              "           Date  ...                                            Summary\n",
              "523  1938-08-24  ...  While en route from Hong Kong to Chungking, th...\n",
              "579  1940-06-14  ...  The plane was en route when it was shot down b...\n",
              "580  1940-06-20  ...  Inadvertently shot down by French anti-aircraf...\n",
              "596  1940-12-24  ...  While en route, the aircraft was shot down by ...\n",
              "686  1943-08-11  ...  The cargo plane was shot down by Japanese figh...\n",
              "...         ...  ...                                                ...\n",
              "4618 2007-06-28  ...  The crew undershot the runway and blew two tir...\n",
              "4631 2007-09-07  ...  The cargo plane, carrying palm oil, overshot t...\n",
              "4692 2009-01-15  ...    Either shot down or crashed due to bad weather.\n",
              "4760 2010-08-24  ...  The plane overshot the runway while landing an...\n",
              "4886 2015-01-18  ...  The army transport crashed while attempting to...\n",
              "\n",
              "[88 rows x 8 columns]"
            ]
          },
          "metadata": {
            "tags": []
          },
          "execution_count": 152
        }
      ]
    },
    {
      "cell_type": "code",
      "metadata": {
        "id": "M7jvw32gcjYf",
        "colab_type": "code",
        "outputId": "077689ad-a344-4d7a-ad5b-f71fcb0f4879",
        "colab": {
          "base_uri": "https://localhost:8080/"
        }
      },
      "source": [
        "shot_down['Fatalities'].mean\n",
        "#average of 14 deaths "
      ],
      "execution_count": 0,
      "outputs": [
        {
          "output_type": "execute_result",
          "data": {
            "text/plain": [
              "<bound method Series.mean of 523     14.0\n",
              "579      9.0\n",
              "580      1.0\n",
              "596      7.0\n",
              "686      3.0\n",
              "        ... \n",
              "4618     5.0\n",
              "4631     8.0\n",
              "4692    13.0\n",
              "4760    44.0\n",
              "4886    37.0\n",
              "Name: Fatalities, Length: 88, dtype: float64>"
            ]
          },
          "metadata": {
            "tags": []
          },
          "execution_count": 153
        }
      ]
    },
    {
      "cell_type": "code",
      "metadata": {
        "id": "uQJVjpctgvWK",
        "colab_type": "code",
        "outputId": "bd9700b3-0644-4415-eff7-daf5a8e39f50",
        "colab": {
          "base_uri": "https://localhost:8080/"
        }
      },
      "source": [
        "civ['Fatalities'].mean"
      ],
      "execution_count": 0,
      "outputs": [
        {
          "output_type": "execute_result",
          "data": {
            "text/plain": [
              "<bound method Series.mean of 3         1.0\n",
              "23        1.0\n",
              "24        1.0\n",
              "25        1.0\n",
              "26        3.0\n",
              "        ...  \n",
              "4960     14.0\n",
              "4961    157.0\n",
              "4962      6.0\n",
              "4963     13.0\n",
              "4964     41.0\n",
              "Name: Fatalities, Length: 4207, dtype: float64>"
            ]
          },
          "metadata": {
            "tags": []
          },
          "execution_count": 154
        }
      ]
    },
    {
      "cell_type": "code",
      "metadata": {
        "id": "N8n250JRkhu5",
        "colab_type": "code",
        "outputId": "ee7e4f8f-da7c-4548-fbea-cb08b9092d89",
        "colab": {
          "base_uri": "https://localhost:8080/"
        }
      },
      "source": [
        "#not linear/specific trend\n",
        "shot_down['Date'].dt.year.value_counts(normalize=False)"
      ],
      "execution_count": 0,
      "outputs": [
        {
          "output_type": "execute_result",
          "data": {
            "text/plain": [
              "2007    4\n",
              "1980    4\n",
              "1991    4\n",
              "1948    3\n",
              "1940    3\n",
              "1969    3\n",
              "1999    3\n",
              "1952    3\n",
              "1961    3\n",
              "1946    3\n",
              "1977    2\n",
              "1964    2\n",
              "1959    2\n",
              "1973    2\n",
              "1965    2\n",
              "1966    2\n",
              "1957    2\n",
              "1989    2\n",
              "1988    2\n",
              "1990    2\n",
              "1947    2\n",
              "1996    2\n",
              "1997    2\n",
              "1998    2\n",
              "2000    2\n",
              "1951    1\n",
              "1953    1\n",
              "1954    1\n",
              "1955    1\n",
              "1943    1\n",
              "1968    1\n",
              "2015    1\n",
              "1970    1\n",
              "1971    1\n",
              "2009    1\n",
              "2001    1\n",
              "1995    1\n",
              "1994    1\n",
              "1993    1\n",
              "1987    1\n",
              "1986    1\n",
              "1984    1\n",
              "1983    1\n",
              "1982    1\n",
              "1981    1\n",
              "1979    1\n",
              "2010    1\n",
              "1974    1\n",
              "1972    1\n",
              "1938    1\n",
              "Name: Date, dtype: int64"
            ]
          },
          "metadata": {
            "tags": []
          },
          "execution_count": 155
        }
      ]
    },
    {
      "cell_type": "code",
      "metadata": {
        "id": "SArgHUqokN2o",
        "colab_type": "code",
        "outputId": "94723452-d7a1-4e16-826f-7ab30e0255c1",
        "colab": {
          "base_uri": "https://localhost:8080/"
        }
      },
      "source": [
        "#vizualization of planes show down by year\n",
        "shot_down['Date'].dt.year.hist(bins=60);"
      ],
      "execution_count": 0,
      "outputs": [
        {
          "output_type": "display_data",
          "data": {
            "image/png": "[encoded data removed]",
            "text/plain": [
              "<Figure size 432x288 with 1 Axes>"
            ]
          },
          "metadata": {
            "tags": []
          }
        }
      ]
    },
    {
      "cell_type": "code",
      "metadata": {
        "id": "2To9LiWcj1XN",
        "colab_type": "code",
        "outputId": "04d34303-aec2-4039-a5d7-07202343a4d5",
        "colab": {
          "base_uri": "https://localhost:8080/"
        }
      },
      "source": [
        "#most dangerous airline\n",
        "civ['Operator'].value_counts(normalize=False)"
      ],
      "execution_count": 0,
      "outputs": [
        {
          "output_type": "execute_result",
          "data": {
            "text/plain": [
              "Aeroflot                               255\n",
              "Air France                              72\n",
              "Deutsche Lufthansa                      63\n",
              "United Air Lines                        44\n",
              "China National Aviation Corporation     43\n",
              "                                      ... \n",
              "Chamberlin Flying Service                1\n",
              "Petrolium Helicopter                     1\n",
              "Pinnacle Airlines/Northwest Airlink      1\n",
              "Viking Air Transport                     1\n",
              "Carib Air Transport                      1\n",
              "Name: Operator, Length: 2018, dtype: int64"
            ]
          },
          "metadata": {
            "tags": []
          },
          "execution_count": 157
        }
      ]
    },
    {
      "cell_type": "code",
      "metadata": {
        "id": "f9bugZ6jkv19",
        "colab_type": "code",
        "outputId": "eba87733-02f1-48d8-d70a-80533d9662a0",
        "colab": {
          "base_uri": "https://localhost:8080/"
        }
      },
      "source": [
        "#deadliest years\n",
        "civ['Date'].dt.year.value_counts(normalize=False)"
      ],
      "execution_count": 0,
      "outputs": [
        {
          "output_type": "execute_result",
          "data": {
            "text/plain": [
              "1948    74\n",
              "1989    70\n",
              "1947    69\n",
              "1972    68\n",
              "1962    66\n",
              "        ..\n",
              "1919     9\n",
              "1924     7\n",
              "2019     7\n",
              "1913     1\n",
              "1918     1\n",
              "Name: Date, Length: 103, dtype: int64"
            ]
          },
          "metadata": {
            "tags": []
          },
          "execution_count": 158
        }
      ]
    },
    {
      "cell_type": "code",
      "metadata": {
        "id": "Wak-QIxzkHU2",
        "colab_type": "code",
        "outputId": "4c029a50-bd60-46e7-d200-b8128b227ae1",
        "colab": {
          "base_uri": "https://localhost:8080/"
        }
      },
      "source": [
        "#vizualization of crashes by year\n",
        "civ['Date'].dt.year.hist(bins=60);"
      ],
      "execution_count": 0,
      "outputs": [
        {
          "output_type": "display_data",
          "data": {
            "image/png": "[encoded data removed]",
            "text/plain": [
              "<Figure size 432x288 with 1 Axes>"
            ]
          },
          "metadata": {
            "tags": []
          }
        }
      ]
    },
    {
      "cell_type": "code",
      "metadata": {
        "id": "Pf4YBQU0NCgI",
        "colab_type": "code",
        "outputId": "5b455226-e34e-4045-a16d-9ccdd97db387",
        "colab": {
          "base_uri": "https://localhost:8080/"
        }
      },
      "source": [
        "#lets make df of Aeroflot crashes\n",
        "mostd = civ[civ['Operator'].str.contains('Aeroflot') == True]\n",
        "mostd"
      ],
      "execution_count": 0,
      "outputs": [
        {
          "output_type": "execute_result",
          "data": {
            "text/html": [
              "<div>\n",
              "<style scoped>\n",
              "    .dataframe tbody tr th:only-of-type {\n",
              "        vertical-align: middle;\n",
              "    }\n",
              "\n",
              "    .dataframe tbody tr th {\n",
              "        vertical-align: top;\n",
              "    }\n",
              "\n",
              "    .dataframe thead th {\n",
              "        text-align: right;\n",
              "    }\n",
              "</style>\n",
              "<table border=\"1\" class=\"dataframe\">\n",
              "  <thead>\n",
              "    <tr style=\"text-align: right;\">\n",
              "      <th></th>\n",
              "      <th>Date</th>\n",
              "      <th>Location</th>\n",
              "      <th>Operator</th>\n",
              "      <th>Route</th>\n",
              "      <th>AC Type</th>\n",
              "      <th>Aboard</th>\n",
              "      <th>Fatalities</th>\n",
              "      <th>Summary</th>\n",
              "    </tr>\n",
              "  </thead>\n",
              "  <tbody>\n",
              "    <tr>\n",
              "      <th>360</th>\n",
              "      <td>1934-12-31</td>\n",
              "      <td>NaN</td>\n",
              "      <td>Aeroflot</td>\n",
              "      <td>NaN</td>\n",
              "      <td>Tupolev ANT-9</td>\n",
              "      <td>10.0</td>\n",
              "      <td>10.0</td>\n",
              "      <td>Crashed under unknown circumstances.</td>\n",
              "    </tr>\n",
              "    <tr>\n",
              "      <th>424</th>\n",
              "      <td>1936-07-28</td>\n",
              "      <td>Kulyab, Tajikistan</td>\n",
              "      <td>Aeroflot</td>\n",
              "      <td>NaN</td>\n",
              "      <td>Tupolev ANT-9</td>\n",
              "      <td>6.0</td>\n",
              "      <td>6.0</td>\n",
              "      <td>The landing gear failed on landing. The aircra...</td>\n",
              "    </tr>\n",
              "    <tr>\n",
              "      <th>468</th>\n",
              "      <td>1937-08-06</td>\n",
              "      <td>Bistrita, Romania</td>\n",
              "      <td>Aeroflot</td>\n",
              "      <td>NaN</td>\n",
              "      <td>Douglas DC-2</td>\n",
              "      <td>5.0</td>\n",
              "      <td>5.0</td>\n",
              "      <td>While en route, the plane caught fire and cras...</td>\n",
              "    </tr>\n",
              "    <tr>\n",
              "      <th>620</th>\n",
              "      <td>1941-11-29</td>\n",
              "      <td>Chardzhou, Turkmenistan</td>\n",
              "      <td>Aeroflot</td>\n",
              "      <td>Chardzhou - Urgench</td>\n",
              "      <td>Tupolev ANT-6</td>\n",
              "      <td>36.0</td>\n",
              "      <td>7.0</td>\n",
              "      <td>During the initial climb at night, the pilot i...</td>\n",
              "    </tr>\n",
              "    <tr>\n",
              "      <th>622</th>\n",
              "      <td>1941-12-26</td>\n",
              "      <td>Baiserke, Kazakhstan</td>\n",
              "      <td>Aeroflot</td>\n",
              "      <td>Almaty - Karaganda - Aktyubinsk - Kuybyshev - ...</td>\n",
              "      <td>Tupolev ANT-6</td>\n",
              "      <td>34.0</td>\n",
              "      <td>26.0</td>\n",
              "      <td>The crew decided to takeoff in below-minima we...</td>\n",
              "    </tr>\n",
              "    <tr>\n",
              "      <th>...</th>\n",
              "      <td>...</td>\n",
              "      <td>...</td>\n",
              "      <td>...</td>\n",
              "      <td>...</td>\n",
              "      <td>...</td>\n",
              "      <td>...</td>\n",
              "      <td>...</td>\n",
              "      <td>...</td>\n",
              "    </tr>\n",
              "    <tr>\n",
              "      <th>3933</th>\n",
              "      <td>1995-03-16</td>\n",
              "      <td>Ossora, Russia</td>\n",
              "      <td>Aeroflot</td>\n",
              "      <td>Petropavlovsk -  Ossora</td>\n",
              "      <td>Antonov 26B</td>\n",
              "      <td>10.0</td>\n",
              "      <td>9.0</td>\n",
              "      <td>The cargo plane flew into high ground while on...</td>\n",
              "    </tr>\n",
              "    <tr>\n",
              "      <th>3945</th>\n",
              "      <td>1995-06-16</td>\n",
              "      <td>Herputchi, Russia</td>\n",
              "      <td>Aeroflot</td>\n",
              "      <td>Poliny - Nikolayevsk-on-Amur</td>\n",
              "      <td>Antonov AN-2</td>\n",
              "      <td>14.0</td>\n",
              "      <td>13.0</td>\n",
              "      <td>Flying VOR the plane ran into poor weather and...</td>\n",
              "    </tr>\n",
              "    <tr>\n",
              "      <th>4032</th>\n",
              "      <td>1996-10-08</td>\n",
              "      <td>San Francesco al Campo, Italy</td>\n",
              "      <td>Aeroflot</td>\n",
              "      <td>Moscow - Turin, Italy</td>\n",
              "      <td>Antonov An-124</td>\n",
              "      <td>23.0</td>\n",
              "      <td>2.0</td>\n",
              "      <td>The cargo plane struck trees and a house while...</td>\n",
              "    </tr>\n",
              "    <tr>\n",
              "      <th>4679</th>\n",
              "      <td>2008-09-14</td>\n",
              "      <td>Perm, Russia</td>\n",
              "      <td>Aeroflot</td>\n",
              "      <td>Moscow - Perm</td>\n",
              "      <td>Boeing B-737-505</td>\n",
              "      <td>88.0</td>\n",
              "      <td>88.0</td>\n",
              "      <td>The aircraft crashed into a ravine adjacent to...</td>\n",
              "    </tr>\n",
              "    <tr>\n",
              "      <th>4964</th>\n",
              "      <td>2019-05-05</td>\n",
              "      <td>Moscow, Russia</td>\n",
              "      <td>Aeroflot Russian International Airlines</td>\n",
              "      <td>Moscow - Murmansk</td>\n",
              "      <td>Sukhoi Superjet-100-95B</td>\n",
              "      <td>78.0</td>\n",
              "      <td>41.0</td>\n",
              "      <td>Forty-five minutes after taking off from Mosco...</td>\n",
              "    </tr>\n",
              "  </tbody>\n",
              "</table>\n",
              "<p>262 rows × 8 columns</p>\n",
              "</div>"
            ],
            "text/plain": [
              "           Date  ...                                            Summary\n",
              "360  1934-12-31  ...               Crashed under unknown circumstances.\n",
              "424  1936-07-28  ...  The landing gear failed on landing. The aircra...\n",
              "468  1937-08-06  ...  While en route, the plane caught fire and cras...\n",
              "620  1941-11-29  ...  During the initial climb at night, the pilot i...\n",
              "622  1941-12-26  ...  The crew decided to takeoff in below-minima we...\n",
              "...         ...  ...                                                ...\n",
              "3933 1995-03-16  ...  The cargo plane flew into high ground while on...\n",
              "3945 1995-06-16  ...  Flying VOR the plane ran into poor weather and...\n",
              "4032 1996-10-08  ...  The cargo plane struck trees and a house while...\n",
              "4679 2008-09-14  ...  The aircraft crashed into a ravine adjacent to...\n",
              "4964 2019-05-05  ...  Forty-five minutes after taking off from Mosco...\n",
              "\n",
              "[262 rows x 8 columns]"
            ]
          },
          "metadata": {
            "tags": []
          },
          "execution_count": 160
        }
      ]
    },
    {
      "cell_type": "code",
      "metadata": {
        "id": "OYsGzufWNVF9",
        "colab_type": "code",
        "outputId": "d720697f-25cc-4a42-b954-9f55541635f4",
        "colab": {
          "base_uri": "https://localhost:8080/"
        }
      },
      "source": [
        "#visualization of Aeroflot crashes by year\n",
        "mostd['Date'].dt.year.hist(bins=60);\n",
        "#so most Aeroflot crashes happened when the USSR was under embargo/sanctions"
      ],
      "execution_count": 0,
      "outputs": [
        {
          "output_type": "display_data",
          "data": {
            "image/png": "[encoded data removed]",
            "text/plain": [
              "<Figure size 432x288 with 1 Axes>"
            ]
          },
          "metadata": {
            "tags": []
          }
        }
      ]
    },
    {
      "cell_type": "code",
      "metadata": {
        "id": "e4CYdnlaNegl",
        "colab_type": "code",
        "outputId": "6d099a47-a914-469a-da98-5d37a0f3dd3f",
        "colab": {
          "base_uri": "https://localhost:8080/"
        }
      },
      "source": [
        "#are they are using their own airplanes?\n",
        "mostd['AC Type'].value_counts(normalize=False)\n",
        "#confirmed"
      ],
      "execution_count": 0,
      "outputs": [
        {
          "output_type": "execute_result",
          "data": {
            "text/plain": [
              "Yakovlev YAK-40       18\n",
              "Ilyushin IL-12        13\n",
              "Antonov AN-24         12\n",
              "Ilyushin IL-14P       11\n",
              "Ilyushin IL-18B       10\n",
              "                      ..\n",
              "LET  410M Turbojet     1\n",
              "Mil Mi-8T              1\n",
              "Doublas C-47           1\n",
              "Ilyushin Il12          1\n",
              "Antonov 10A            1\n",
              "Name: AC Type, Length: 111, dtype: int64"
            ]
          },
          "metadata": {
            "tags": []
          },
          "execution_count": 162
        }
      ]
    },
    {
      "cell_type": "code",
      "metadata": {
        "id": "JuiBZXW1QQ70",
        "colab_type": "code",
        "outputId": "f437a5f4-0520-46cc-89ce-e4b5296d579f",
        "colab": {
          "base_uri": "https://localhost:8080/"
        }
      },
      "source": [
        "#general avation: recreational vs airline\n",
        "rec = civ[civ['Operator'].str.contains('Private|NaN|Charter') == True]\n",
        "rec"
      ],
      "execution_count": 0,
      "outputs": [
        {
          "output_type": "execute_result",
          "data": {
            "text/html": [
              "<div>\n",
              "<style scoped>\n",
              "    .dataframe tbody tr th:only-of-type {\n",
              "        vertical-align: middle;\n",
              "    }\n",
              "\n",
              "    .dataframe tbody tr th {\n",
              "        vertical-align: top;\n",
              "    }\n",
              "\n",
              "    .dataframe thead th {\n",
              "        text-align: right;\n",
              "    }\n",
              "</style>\n",
              "<table border=\"1\" class=\"dataframe\">\n",
              "  <thead>\n",
              "    <tr style=\"text-align: right;\">\n",
              "      <th></th>\n",
              "      <th>Date</th>\n",
              "      <th>Location</th>\n",
              "      <th>Operator</th>\n",
              "      <th>Route</th>\n",
              "      <th>AC Type</th>\n",
              "      <th>Aboard</th>\n",
              "      <th>Fatalities</th>\n",
              "      <th>Summary</th>\n",
              "    </tr>\n",
              "  </thead>\n",
              "  <tbody>\n",
              "    <tr>\n",
              "      <th>3</th>\n",
              "      <td>1913-08-06</td>\n",
              "      <td>Victoria, British Columbia, Canada</td>\n",
              "      <td>Private</td>\n",
              "      <td>NaN</td>\n",
              "      <td>Curtiss seaplane</td>\n",
              "      <td>1.0</td>\n",
              "      <td>1.0</td>\n",
              "      <td>The first fatal airplane accident in Canada oc...</td>\n",
              "    </tr>\n",
              "    <tr>\n",
              "      <th>131</th>\n",
              "      <td>1927-09-17</td>\n",
              "      <td>Atlantic Ocean</td>\n",
              "      <td>Private</td>\n",
              "      <td>Old Orchad Beach - Rome</td>\n",
              "      <td>Fokker F7</td>\n",
              "      <td>3.0</td>\n",
              "      <td>3.0</td>\n",
              "      <td>While flying 1,000 km east of the Canadian coa...</td>\n",
              "    </tr>\n",
              "    <tr>\n",
              "      <th>385</th>\n",
              "      <td>1935-08-15</td>\n",
              "      <td>Walakpa, near Point Barrow, Alaska</td>\n",
              "      <td>Private</td>\n",
              "      <td>NaN</td>\n",
              "      <td>Lockheed Orion 9E Explorer float plane</td>\n",
              "      <td>2.0</td>\n",
              "      <td>2.0</td>\n",
              "      <td>Dense fog caused the pilot to make a forced la...</td>\n",
              "    </tr>\n",
              "    <tr>\n",
              "      <th>464</th>\n",
              "      <td>1937-07-02</td>\n",
              "      <td>Off Lae, New Guinea</td>\n",
              "      <td>Private - Purdue Reasearch Foundation</td>\n",
              "      <td>Lae - Howland Island</td>\n",
              "      <td>Lockheed 10E Electra</td>\n",
              "      <td>2.0</td>\n",
              "      <td>2.0</td>\n",
              "      <td>The plane disappeared while en route from  Lae...</td>\n",
              "    </tr>\n",
              "    <tr>\n",
              "      <th>668</th>\n",
              "      <td>1943-02-18</td>\n",
              "      <td>Seattle, Washington</td>\n",
              "      <td>Private - Boeing Aircraft Company</td>\n",
              "      <td>Test flight</td>\n",
              "      <td>Boeing XB-29</td>\n",
              "      <td>10.0</td>\n",
              "      <td>10.0</td>\n",
              "      <td>Lost altitude, struck power lines and crashed ...</td>\n",
              "    </tr>\n",
              "    <tr>\n",
              "      <th>...</th>\n",
              "      <td>...</td>\n",
              "      <td>...</td>\n",
              "      <td>...</td>\n",
              "      <td>...</td>\n",
              "      <td>...</td>\n",
              "      <td>...</td>\n",
              "      <td>...</td>\n",
              "      <td>...</td>\n",
              "    </tr>\n",
              "    <tr>\n",
              "      <th>4802</th>\n",
              "      <td>2011-09-16</td>\n",
              "      <td>Reno, Nevada</td>\n",
              "      <td>Private - Aero Trans Corp</td>\n",
              "      <td>Air race</td>\n",
              "      <td>North American P-51D-15-NA Mustang</td>\n",
              "      <td>1.0</td>\n",
              "      <td>1.0</td>\n",
              "      <td>The pilot of the aircraft participating in an ...</td>\n",
              "    </tr>\n",
              "    <tr>\n",
              "      <th>4803</th>\n",
              "      <td>2011-09-22</td>\n",
              "      <td>Yellowknife, Northwest Territories, Canada</td>\n",
              "      <td>Arctic Sunwest Charters</td>\n",
              "      <td>Thor Lake - Great Slave Lake</td>\n",
              "      <td>De Havilland Canada DHC-6-300 Twin Otter</td>\n",
              "      <td>9.0</td>\n",
              "      <td>2.0</td>\n",
              "      <td>While coming in for a landing at Great Slave L...</td>\n",
              "    </tr>\n",
              "    <tr>\n",
              "      <th>4888</th>\n",
              "      <td>2015-03-10</td>\n",
              "      <td>Villa Castelli, Argenina</td>\n",
              "      <td>Private</td>\n",
              "      <td>NaN</td>\n",
              "      <td>NaN</td>\n",
              "      <td>10.0</td>\n",
              "      <td>10.0</td>\n",
              "      <td>Three French sports figures participating in a...</td>\n",
              "    </tr>\n",
              "    <tr>\n",
              "      <th>4930</th>\n",
              "      <td>2017-03-27</td>\n",
              "      <td>Mautaer, Zimbabwe</td>\n",
              "      <td>ETA Air Charter</td>\n",
              "      <td>Beira, Mozambique - Harare, Zimbabwe</td>\n",
              "      <td>Britten-Norman BN2 Islander</td>\n",
              "      <td>6.0</td>\n",
              "      <td>6.0</td>\n",
              "      <td>While en route the air transport plane collide...</td>\n",
              "    </tr>\n",
              "    <tr>\n",
              "      <th>4938</th>\n",
              "      <td>2017-10-14</td>\n",
              "      <td>Abidjan, Ivory Coast</td>\n",
              "      <td>Valan International Cargo Charter</td>\n",
              "      <td>Burkina Faso - Abidjan</td>\n",
              "      <td>Antonov AN-26-100</td>\n",
              "      <td>10.0</td>\n",
              "      <td>4.0</td>\n",
              "      <td>The cargo plane, carrying French military carg...</td>\n",
              "    </tr>\n",
              "  </tbody>\n",
              "</table>\n",
              "<p>125 rows × 8 columns</p>\n",
              "</div>"
            ],
            "text/plain": [
              "           Date  ...                                            Summary\n",
              "3    1913-08-06  ...  The first fatal airplane accident in Canada oc...\n",
              "131  1927-09-17  ...  While flying 1,000 km east of the Canadian coa...\n",
              "385  1935-08-15  ...  Dense fog caused the pilot to make a forced la...\n",
              "464  1937-07-02  ...  The plane disappeared while en route from  Lae...\n",
              "668  1943-02-18  ...  Lost altitude, struck power lines and crashed ...\n",
              "...         ...  ...                                                ...\n",
              "4802 2011-09-16  ...  The pilot of the aircraft participating in an ...\n",
              "4803 2011-09-22  ...  While coming in for a landing at Great Slave L...\n",
              "4888 2015-03-10  ...  Three French sports figures participating in a...\n",
              "4930 2017-03-27  ...  While en route the air transport plane collide...\n",
              "4938 2017-10-14  ...  The cargo plane, carrying French military carg...\n",
              "\n",
              "[125 rows x 8 columns]"
            ]
          },
          "metadata": {
            "tags": []
          },
          "execution_count": 163
        }
      ]
    },
    {
      "cell_type": "code",
      "metadata": {
        "id": "9wDwplTTRNIw",
        "colab_type": "code",
        "outputId": "6f51450b-d7a0-44f8-9436-7639f538508c",
        "colab": {
          "base_uri": "https://localhost:8080/"
        }
      },
      "source": [
        "#another recreational df\n",
        "tours = civ[civ['Summary'].str.contains('Sightseeing|Tour|sightseeing|tour|taxi') == True]\n",
        "tours.head()"
      ],
      "execution_count": 0,
      "outputs": [
        {
          "output_type": "execute_result",
          "data": {
            "text/html": [
              "<div>\n",
              "<style scoped>\n",
              "    .dataframe tbody tr th:only-of-type {\n",
              "        vertical-align: middle;\n",
              "    }\n",
              "\n",
              "    .dataframe tbody tr th {\n",
              "        vertical-align: top;\n",
              "    }\n",
              "\n",
              "    .dataframe thead th {\n",
              "        text-align: right;\n",
              "    }\n",
              "</style>\n",
              "<table border=\"1\" class=\"dataframe\">\n",
              "  <thead>\n",
              "    <tr style=\"text-align: right;\">\n",
              "      <th></th>\n",
              "      <th>Date</th>\n",
              "      <th>Location</th>\n",
              "      <th>Operator</th>\n",
              "      <th>Route</th>\n",
              "      <th>AC Type</th>\n",
              "      <th>Aboard</th>\n",
              "      <th>Fatalities</th>\n",
              "      <th>Summary</th>\n",
              "    </tr>\n",
              "  </thead>\n",
              "  <tbody>\n",
              "    <tr>\n",
              "      <th>130</th>\n",
              "      <td>1927-09-17</td>\n",
              "      <td>Hadley, New Jersey</td>\n",
              "      <td>Reynolds Airways</td>\n",
              "      <td>Sightseeing</td>\n",
              "      <td>Fokker F-VII</td>\n",
              "      <td>12.0</td>\n",
              "      <td>7.0</td>\n",
              "      <td>The sightseeing plane took off and rose to 400...</td>\n",
              "    </tr>\n",
              "    <tr>\n",
              "      <th>159</th>\n",
              "      <td>1928-09-04</td>\n",
              "      <td>Adelaide Hills, Australia</td>\n",
              "      <td>Qantas</td>\n",
              "      <td>Adelaide - Longreach</td>\n",
              "      <td>de Havilland DH.50J</td>\n",
              "      <td>2.0</td>\n",
              "      <td>1.0</td>\n",
              "      <td>Following the conclusion of an aerial tour car...</td>\n",
              "    </tr>\n",
              "    <tr>\n",
              "      <th>181</th>\n",
              "      <td>1929-03-17</td>\n",
              "      <td>Newark, New Jersey</td>\n",
              "      <td>Colonial Western Airlines</td>\n",
              "      <td>Sightseeing</td>\n",
              "      <td>Ford 5-AT-B Tri Motor</td>\n",
              "      <td>15.0</td>\n",
              "      <td>14.0</td>\n",
              "      <td>The plane was making the last of a number of s...</td>\n",
              "    </tr>\n",
              "    <tr>\n",
              "      <th>206</th>\n",
              "      <td>1929-10-31</td>\n",
              "      <td>Off Bremerton, Washington</td>\n",
              "      <td>Bremerton-Seattle Air Taxi / Gorst Air Lines</td>\n",
              "      <td>Bremerton - Seattle</td>\n",
              "      <td>Loening C-2C</td>\n",
              "      <td>2.0</td>\n",
              "      <td>2.0</td>\n",
              "      <td>The air taxi crashed into Puget Sound as it at...</td>\n",
              "    </tr>\n",
              "    <tr>\n",
              "      <th>372</th>\n",
              "      <td>1935-05-18</td>\n",
              "      <td>Flint, Michigan</td>\n",
              "      <td>Knowles Flying Service of Detroit</td>\n",
              "      <td>Sightseeing</td>\n",
              "      <td>Ford model 4-AT-E</td>\n",
              "      <td>12.0</td>\n",
              "      <td>3.0</td>\n",
              "      <td>While on a sightseeing trip, the plane ran out...</td>\n",
              "    </tr>\n",
              "  </tbody>\n",
              "</table>\n",
              "</div>"
            ],
            "text/plain": [
              "          Date  ...                                            Summary\n",
              "130 1927-09-17  ...  The sightseeing plane took off and rose to 400...\n",
              "159 1928-09-04  ...  Following the conclusion of an aerial tour car...\n",
              "181 1929-03-17  ...  The plane was making the last of a number of s...\n",
              "206 1929-10-31  ...  The air taxi crashed into Puget Sound as it at...\n",
              "372 1935-05-18  ...  While on a sightseeing trip, the plane ran out...\n",
              "\n",
              "[5 rows x 8 columns]"
            ]
          },
          "metadata": {
            "tags": []
          },
          "execution_count": 164
        }
      ]
    },
    {
      "cell_type": "code",
      "metadata": {
        "id": "5tiOhc4nTVal",
        "colab_type": "code",
        "outputId": "ec0ba4ac-21a8-498b-c0bf-3a81ab75d811",
        "colab": {
          "base_uri": "https://localhost:8080/"
        }
      },
      "source": [
        "totalrec = rec.append(tours)\n",
        "totalrec.shape"
      ],
      "execution_count": 0,
      "outputs": [
        {
          "output_type": "execute_result",
          "data": {
            "text/plain": [
              "(196, 8)"
            ]
          },
          "metadata": {
            "tags": []
          },
          "execution_count": 165
        }
      ]
    },
    {
      "cell_type": "markdown",
      "metadata": {
        "id": "UHbGPY9DVFys",
        "colab_type": "text"
      },
      "source": [
        "#Total Flights CSV"
      ]
    },
    {
      "cell_type": "markdown",
      "metadata": {
        "id": "q2ePuur4-gdW",
        "colab_type": "text"
      },
      "source": [
        "data sourced from the [World Bank](https://data.worldbank.org/indicator/IS.AIR.DPRT?most_recent_year_desc=false), total number of flights annually"
      ]
    },
    {
      "cell_type": "code",
      "metadata": {
        "id": "CayLtnSAVK-K",
        "colab_type": "code",
        "outputId": "fae85588-8e3d-484a-b578-cf1505b87555",
        "colab": {
          "base_uri": "https://localhost:8080/",
          "height": 34
        }
      },
      "source": [
        "#create a new dataframe with information on total numbers of flights for more insight\n",
        "flights = pd.read_csv('https://raw.githubusercontent.com/maiali13/DS13-Unit1-Build/master/Total_Flights.csv')\n",
        "print(flights.shape)"
      ],
      "execution_count": 0,
      "outputs": [
        {
          "output_type": "stream",
          "text": [
            "(264, 64)\n"
          ],
          "name": "stdout"
        }
      ]
    },
    {
      "cell_type": "code",
      "metadata": {
        "id": "2MSqdee8qX5X",
        "colab_type": "code",
        "outputId": "ba8ecaaf-a01d-46b8-c2a6-0293656a3d0b",
        "colab": {
          "base_uri": "https://localhost:8080/",
          "height": 248
        }
      },
      "source": [
        "flights = flights.T\n",
        "flights.tail()"
      ],
      "execution_count": 0,
      "outputs": [
        {
          "output_type": "execute_result",
          "data": {
            "text/html": [
              "<div>\n",
              "<style scoped>\n",
              "    .dataframe tbody tr th:only-of-type {\n",
              "        vertical-align: middle;\n",
              "    }\n",
              "\n",
              "    .dataframe tbody tr th {\n",
              "        vertical-align: top;\n",
              "    }\n",
              "\n",
              "    .dataframe thead th {\n",
              "        text-align: right;\n",
              "    }\n",
              "</style>\n",
              "<table border=\"1\" class=\"dataframe\">\n",
              "  <thead>\n",
              "    <tr style=\"text-align: right;\">\n",
              "      <th></th>\n",
              "      <th>0</th>\n",
              "      <th>1</th>\n",
              "      <th>2</th>\n",
              "      <th>3</th>\n",
              "      <th>4</th>\n",
              "      <th>5</th>\n",
              "      <th>6</th>\n",
              "      <th>7</th>\n",
              "      <th>8</th>\n",
              "      <th>9</th>\n",
              "      <th>10</th>\n",
              "      <th>11</th>\n",
              "      <th>12</th>\n",
              "      <th>13</th>\n",
              "      <th>14</th>\n",
              "      <th>15</th>\n",
              "      <th>16</th>\n",
              "      <th>17</th>\n",
              "      <th>18</th>\n",
              "      <th>19</th>\n",
              "      <th>20</th>\n",
              "      <th>21</th>\n",
              "      <th>22</th>\n",
              "      <th>23</th>\n",
              "      <th>24</th>\n",
              "      <th>25</th>\n",
              "      <th>26</th>\n",
              "      <th>27</th>\n",
              "      <th>28</th>\n",
              "      <th>29</th>\n",
              "      <th>30</th>\n",
              "      <th>31</th>\n",
              "      <th>32</th>\n",
              "      <th>33</th>\n",
              "      <th>34</th>\n",
              "      <th>35</th>\n",
              "      <th>36</th>\n",
              "      <th>37</th>\n",
              "      <th>38</th>\n",
              "      <th>39</th>\n",
              "      <th>...</th>\n",
              "      <th>224</th>\n",
              "      <th>225</th>\n",
              "      <th>226</th>\n",
              "      <th>227</th>\n",
              "      <th>228</th>\n",
              "      <th>229</th>\n",
              "      <th>230</th>\n",
              "      <th>231</th>\n",
              "      <th>232</th>\n",
              "      <th>233</th>\n",
              "      <th>234</th>\n",
              "      <th>235</th>\n",
              "      <th>236</th>\n",
              "      <th>237</th>\n",
              "      <th>238</th>\n",
              "      <th>239</th>\n",
              "      <th>240</th>\n",
              "      <th>241</th>\n",
              "      <th>242</th>\n",
              "      <th>243</th>\n",
              "      <th>244</th>\n",
              "      <th>245</th>\n",
              "      <th>246</th>\n",
              "      <th>247</th>\n",
              "      <th>248</th>\n",
              "      <th>249</th>\n",
              "      <th>250</th>\n",
              "      <th>251</th>\n",
              "      <th>252</th>\n",
              "      <th>253</th>\n",
              "      <th>254</th>\n",
              "      <th>255</th>\n",
              "      <th>256</th>\n",
              "      <th>257</th>\n",
              "      <th>258</th>\n",
              "      <th>259</th>\n",
              "      <th>260</th>\n",
              "      <th>261</th>\n",
              "      <th>262</th>\n",
              "      <th>263</th>\n",
              "    </tr>\n",
              "  </thead>\n",
              "  <tbody>\n",
              "    <tr>\n",
              "      <th>2015</th>\n",
              "      <td>NaN</td>\n",
              "      <td>23532</td>\n",
              "      <td>13116</td>\n",
              "      <td>NaN</td>\n",
              "      <td>NaN</td>\n",
              "      <td>1.37586e+06</td>\n",
              "      <td>437638</td>\n",
              "      <td>145585</td>\n",
              "      <td>NaN</td>\n",
              "      <td>NaN</td>\n",
              "      <td>40047</td>\n",
              "      <td>668961</td>\n",
              "      <td>152056</td>\n",
              "      <td>23781</td>\n",
              "      <td>NaN</td>\n",
              "      <td>141116</td>\n",
              "      <td>1209</td>\n",
              "      <td>3875</td>\n",
              "      <td>55864</td>\n",
              "      <td>11768</td>\n",
              "      <td>57444</td>\n",
              "      <td>48535</td>\n",
              "      <td>81</td>\n",
              "      <td>22939</td>\n",
              "      <td>120072</td>\n",
              "      <td>NaN</td>\n",
              "      <td>42682</td>\n",
              "      <td>944557</td>\n",
              "      <td>NaN</td>\n",
              "      <td>11624</td>\n",
              "      <td>4640</td>\n",
              "      <td>7741</td>\n",
              "      <td>NaN</td>\n",
              "      <td>1.32203e+06</td>\n",
              "      <td>420199</td>\n",
              "      <td>250094</td>\n",
              "      <td>NaN</td>\n",
              "      <td>116532</td>\n",
              "      <td>3.61603e+06</td>\n",
              "      <td>9068</td>\n",
              "      <td>...</td>\n",
              "      <td>17124</td>\n",
              "      <td>168</td>\n",
              "      <td>NaN</td>\n",
              "      <td>NaN</td>\n",
              "      <td>5.87269e+06</td>\n",
              "      <td>1.8988e+06</td>\n",
              "      <td>9947</td>\n",
              "      <td>392664</td>\n",
              "      <td>6884</td>\n",
              "      <td>8548</td>\n",
              "      <td>2.83263e+06</td>\n",
              "      <td>NaN</td>\n",
              "      <td>510478</td>\n",
              "      <td>NaN</td>\n",
              "      <td>1.02625e+06</td>\n",
              "      <td>720955</td>\n",
              "      <td>35127</td>\n",
              "      <td>35540</td>\n",
              "      <td>706067</td>\n",
              "      <td>NaN</td>\n",
              "      <td>35374</td>\n",
              "      <td>2332</td>\n",
              "      <td>45688</td>\n",
              "      <td>9.25052e+06</td>\n",
              "      <td>NaN</td>\n",
              "      <td>9.49867e+06</td>\n",
              "      <td>22579</td>\n",
              "      <td>NaN</td>\n",
              "      <td>73509</td>\n",
              "      <td>NaN</td>\n",
              "      <td>NaN</td>\n",
              "      <td>205217</td>\n",
              "      <td>10425</td>\n",
              "      <td>3.33628e+07</td>\n",
              "      <td>11759</td>\n",
              "      <td>NaN</td>\n",
              "      <td>5126</td>\n",
              "      <td>209734</td>\n",
              "      <td>11130</td>\n",
              "      <td>4145</td>\n",
              "    </tr>\n",
              "    <tr>\n",
              "      <th>2016</th>\n",
              "      <td>NaN</td>\n",
              "      <td>22770</td>\n",
              "      <td>15482</td>\n",
              "      <td>306</td>\n",
              "      <td>NaN</td>\n",
              "      <td>1.47681e+06</td>\n",
              "      <td>463947</td>\n",
              "      <td>149334</td>\n",
              "      <td>NaN</td>\n",
              "      <td>NaN</td>\n",
              "      <td>40928</td>\n",
              "      <td>682937</td>\n",
              "      <td>149030</td>\n",
              "      <td>24009</td>\n",
              "      <td>NaN</td>\n",
              "      <td>147324</td>\n",
              "      <td>10</td>\n",
              "      <td>3861</td>\n",
              "      <td>59728</td>\n",
              "      <td>12187</td>\n",
              "      <td>55592</td>\n",
              "      <td>49095</td>\n",
              "      <td>NaN</td>\n",
              "      <td>26857</td>\n",
              "      <td>121581</td>\n",
              "      <td>NaN</td>\n",
              "      <td>45722</td>\n",
              "      <td>826943</td>\n",
              "      <td>NaN</td>\n",
              "      <td>11058</td>\n",
              "      <td>6065</td>\n",
              "      <td>7933</td>\n",
              "      <td>NaN</td>\n",
              "      <td>1.35944e+06</td>\n",
              "      <td>436849</td>\n",
              "      <td>229530</td>\n",
              "      <td>NaN</td>\n",
              "      <td>116238</td>\n",
              "      <td>3.9521e+06</td>\n",
              "      <td>9463</td>\n",
              "      <td>...</td>\n",
              "      <td>19178</td>\n",
              "      <td>170</td>\n",
              "      <td>NaN</td>\n",
              "      <td>NaN</td>\n",
              "      <td>6.43156e+06</td>\n",
              "      <td>1.9545e+06</td>\n",
              "      <td>10725</td>\n",
              "      <td>413880</td>\n",
              "      <td>6472</td>\n",
              "      <td>12890</td>\n",
              "      <td>2.75727e+06</td>\n",
              "      <td>NaN</td>\n",
              "      <td>556552</td>\n",
              "      <td>NaN</td>\n",
              "      <td>1.17397e+06</td>\n",
              "      <td>720715</td>\n",
              "      <td>29892</td>\n",
              "      <td>38631</td>\n",
              "      <td>743673</td>\n",
              "      <td>NaN</td>\n",
              "      <td>27422</td>\n",
              "      <td>3828</td>\n",
              "      <td>55261</td>\n",
              "      <td>9.5872e+06</td>\n",
              "      <td>NaN</td>\n",
              "      <td>9.64059e+06</td>\n",
              "      <td>21486</td>\n",
              "      <td>NaN</td>\n",
              "      <td>64058</td>\n",
              "      <td>NaN</td>\n",
              "      <td>NaN</td>\n",
              "      <td>248580</td>\n",
              "      <td>9037</td>\n",
              "      <td>3.4688e+07</td>\n",
              "      <td>13805</td>\n",
              "      <td>NaN</td>\n",
              "      <td>4538</td>\n",
              "      <td>212865</td>\n",
              "      <td>8094</td>\n",
              "      <td>4231</td>\n",
              "    </tr>\n",
              "    <tr>\n",
              "      <th>2017</th>\n",
              "      <td>2132</td>\n",
              "      <td>24207</td>\n",
              "      <td>13494</td>\n",
              "      <td>1904</td>\n",
              "      <td>NaN</td>\n",
              "      <td>1.50355e+06</td>\n",
              "      <td>459137</td>\n",
              "      <td>146631</td>\n",
              "      <td>NaN</td>\n",
              "      <td>NaN</td>\n",
              "      <td>24019</td>\n",
              "      <td>672349</td>\n",
              "      <td>156761</td>\n",
              "      <td>20699</td>\n",
              "      <td>NaN</td>\n",
              "      <td>145540</td>\n",
              "      <td>NaN</td>\n",
              "      <td>3863</td>\n",
              "      <td>70503</td>\n",
              "      <td>11748</td>\n",
              "      <td>54474</td>\n",
              "      <td>48017</td>\n",
              "      <td>NaN</td>\n",
              "      <td>29562</td>\n",
              "      <td>141319</td>\n",
              "      <td>NaN</td>\n",
              "      <td>54102</td>\n",
              "      <td>803846</td>\n",
              "      <td>NaN</td>\n",
              "      <td>10743</td>\n",
              "      <td>4215</td>\n",
              "      <td>7002</td>\n",
              "      <td>NaN</td>\n",
              "      <td>1.44382e+06</td>\n",
              "      <td>484988</td>\n",
              "      <td>216436</td>\n",
              "      <td>NaN</td>\n",
              "      <td>124316</td>\n",
              "      <td>4.35903e+06</td>\n",
              "      <td>14884</td>\n",
              "      <td>...</td>\n",
              "      <td>20539</td>\n",
              "      <td>165</td>\n",
              "      <td>NaN</td>\n",
              "      <td>NaN</td>\n",
              "      <td>6.91985e+06</td>\n",
              "      <td>2.07862e+06</td>\n",
              "      <td>10485</td>\n",
              "      <td>448477</td>\n",
              "      <td>4135</td>\n",
              "      <td>16843</td>\n",
              "      <td>2.68534e+06</td>\n",
              "      <td>NaN</td>\n",
              "      <td>624693</td>\n",
              "      <td>NaN</td>\n",
              "      <td>1.31317e+06</td>\n",
              "      <td>781350</td>\n",
              "      <td>32589</td>\n",
              "      <td>39856</td>\n",
              "      <td>742260</td>\n",
              "      <td>NaN</td>\n",
              "      <td>47741</td>\n",
              "      <td>1953</td>\n",
              "      <td>63315</td>\n",
              "      <td>1.01787e+07</td>\n",
              "      <td>NaN</td>\n",
              "      <td>9.6391e+06</td>\n",
              "      <td>21730</td>\n",
              "      <td>NaN</td>\n",
              "      <td>43138</td>\n",
              "      <td>NaN</td>\n",
              "      <td>NaN</td>\n",
              "      <td>264548</td>\n",
              "      <td>12287</td>\n",
              "      <td>3.57038e+07</td>\n",
              "      <td>6098</td>\n",
              "      <td>NaN</td>\n",
              "      <td>1669</td>\n",
              "      <td>216275</td>\n",
              "      <td>9020</td>\n",
              "      <td>3444</td>\n",
              "    </tr>\n",
              "    <tr>\n",
              "      <th>2018</th>\n",
              "      <td>2276</td>\n",
              "      <td>24433.4</td>\n",
              "      <td>13978</td>\n",
              "      <td>2935</td>\n",
              "      <td>NaN</td>\n",
              "      <td>1.49335e+06</td>\n",
              "      <td>455957</td>\n",
              "      <td>161688</td>\n",
              "      <td>NaN</td>\n",
              "      <td>NaN</td>\n",
              "      <td>23207</td>\n",
              "      <td>665384</td>\n",
              "      <td>130260</td>\n",
              "      <td>19960</td>\n",
              "      <td>NaN</td>\n",
              "      <td>140674</td>\n",
              "      <td>NaN</td>\n",
              "      <td>4270</td>\n",
              "      <td>101383</td>\n",
              "      <td>11435</td>\n",
              "      <td>57094</td>\n",
              "      <td>56629.5</td>\n",
              "      <td>NaN</td>\n",
              "      <td>31676</td>\n",
              "      <td>125682</td>\n",
              "      <td>NaN</td>\n",
              "      <td>56592</td>\n",
              "      <td>832683</td>\n",
              "      <td>NaN</td>\n",
              "      <td>11310</td>\n",
              "      <td>5187</td>\n",
              "      <td>6774</td>\n",
              "      <td>NaN</td>\n",
              "      <td>1.47506e+06</td>\n",
              "      <td>528364</td>\n",
              "      <td>219782</td>\n",
              "      <td>NaN</td>\n",
              "      <td>134661</td>\n",
              "      <td>4.69201e+06</td>\n",
              "      <td>15188</td>\n",
              "      <td>...</td>\n",
              "      <td>18671</td>\n",
              "      <td>167.754</td>\n",
              "      <td>NaN</td>\n",
              "      <td>NaN</td>\n",
              "      <td>7.38361e+06</td>\n",
              "      <td>2.19656e+06</td>\n",
              "      <td>11559</td>\n",
              "      <td>475886</td>\n",
              "      <td>4021</td>\n",
              "      <td>18184</td>\n",
              "      <td>2.751e+06</td>\n",
              "      <td>NaN</td>\n",
              "      <td>625200</td>\n",
              "      <td>NaN</td>\n",
              "      <td>1.51278e+06</td>\n",
              "      <td>787903</td>\n",
              "      <td>32770</td>\n",
              "      <td>41446</td>\n",
              "      <td>772926</td>\n",
              "      <td>NaN</td>\n",
              "      <td>51577</td>\n",
              "      <td>4832</td>\n",
              "      <td>66712</td>\n",
              "      <td>1.06469e+07</td>\n",
              "      <td>NaN</td>\n",
              "      <td>9.87963e+06</td>\n",
              "      <td>21514</td>\n",
              "      <td>NaN</td>\n",
              "      <td>24986</td>\n",
              "      <td>NaN</td>\n",
              "      <td>NaN</td>\n",
              "      <td>283787</td>\n",
              "      <td>11723</td>\n",
              "      <td>3.69996e+07</td>\n",
              "      <td>6848</td>\n",
              "      <td>NaN</td>\n",
              "      <td>2342</td>\n",
              "      <td>180317</td>\n",
              "      <td>734</td>\n",
              "      <td>3444</td>\n",
              "    </tr>\n",
              "    <tr>\n",
              "      <th>2019</th>\n",
              "      <td>NaN</td>\n",
              "      <td>NaN</td>\n",
              "      <td>NaN</td>\n",
              "      <td>NaN</td>\n",
              "      <td>NaN</td>\n",
              "      <td>NaN</td>\n",
              "      <td>NaN</td>\n",
              "      <td>NaN</td>\n",
              "      <td>NaN</td>\n",
              "      <td>NaN</td>\n",
              "      <td>NaN</td>\n",
              "      <td>NaN</td>\n",
              "      <td>NaN</td>\n",
              "      <td>NaN</td>\n",
              "      <td>NaN</td>\n",
              "      <td>NaN</td>\n",
              "      <td>NaN</td>\n",
              "      <td>NaN</td>\n",
              "      <td>NaN</td>\n",
              "      <td>NaN</td>\n",
              "      <td>NaN</td>\n",
              "      <td>NaN</td>\n",
              "      <td>NaN</td>\n",
              "      <td>NaN</td>\n",
              "      <td>NaN</td>\n",
              "      <td>NaN</td>\n",
              "      <td>NaN</td>\n",
              "      <td>NaN</td>\n",
              "      <td>NaN</td>\n",
              "      <td>NaN</td>\n",
              "      <td>NaN</td>\n",
              "      <td>NaN</td>\n",
              "      <td>NaN</td>\n",
              "      <td>NaN</td>\n",
              "      <td>NaN</td>\n",
              "      <td>NaN</td>\n",
              "      <td>NaN</td>\n",
              "      <td>NaN</td>\n",
              "      <td>NaN</td>\n",
              "      <td>NaN</td>\n",
              "      <td>...</td>\n",
              "      <td>NaN</td>\n",
              "      <td>NaN</td>\n",
              "      <td>NaN</td>\n",
              "      <td>NaN</td>\n",
              "      <td>NaN</td>\n",
              "      <td>NaN</td>\n",
              "      <td>NaN</td>\n",
              "      <td>NaN</td>\n",
              "      <td>NaN</td>\n",
              "      <td>NaN</td>\n",
              "      <td>NaN</td>\n",
              "      <td>NaN</td>\n",
              "      <td>NaN</td>\n",
              "      <td>NaN</td>\n",
              "      <td>NaN</td>\n",
              "      <td>NaN</td>\n",
              "      <td>NaN</td>\n",
              "      <td>NaN</td>\n",
              "      <td>NaN</td>\n",
              "      <td>NaN</td>\n",
              "      <td>NaN</td>\n",
              "      <td>NaN</td>\n",
              "      <td>NaN</td>\n",
              "      <td>NaN</td>\n",
              "      <td>NaN</td>\n",
              "      <td>NaN</td>\n",
              "      <td>NaN</td>\n",
              "      <td>NaN</td>\n",
              "      <td>NaN</td>\n",
              "      <td>NaN</td>\n",
              "      <td>NaN</td>\n",
              "      <td>NaN</td>\n",
              "      <td>NaN</td>\n",
              "      <td>NaN</td>\n",
              "      <td>NaN</td>\n",
              "      <td>NaN</td>\n",
              "      <td>NaN</td>\n",
              "      <td>NaN</td>\n",
              "      <td>NaN</td>\n",
              "      <td>NaN</td>\n",
              "    </tr>\n",
              "  </tbody>\n",
              "</table>\n",
              "<p>5 rows × 264 columns</p>\n",
              "</div>"
            ],
            "text/plain": [
              "       0        1      2     3    4    ...  259   260     261    262   263\n",
              "2015   NaN    23532  13116   NaN  NaN  ...  NaN  5126  209734  11130  4145\n",
              "2016   NaN    22770  15482   306  NaN  ...  NaN  4538  212865   8094  4231\n",
              "2017  2132    24207  13494  1904  NaN  ...  NaN  1669  216275   9020  3444\n",
              "2018  2276  24433.4  13978  2935  NaN  ...  NaN  2342  180317    734  3444\n",
              "2019   NaN      NaN    NaN   NaN  NaN  ...  NaN   NaN     NaN    NaN   NaN\n",
              "\n",
              "[5 rows x 264 columns]"
            ]
          },
          "metadata": {
            "tags": []
          },
          "execution_count": 167
        }
      ]
    },
    {
      "cell_type": "code",
      "metadata": {
        "id": "qVTUPyEZrB6A",
        "colab_type": "code",
        "outputId": "8e9a9fc0-7382-4880-a2cc-a77c0acc0cfa",
        "colab": {
          "base_uri": "https://localhost:8080/",
          "height": 199
        }
      },
      "source": [
        "#sum each column for yearly flight totals\n",
        "sums = flights.sum(axis=1)\n",
        "year_sums = pd.DataFrame(sums[4:], columns=['Total Flights'])\n",
        "year_sums = year_sums.reset_index()\n",
        "year_sums.rename(columns={'index': 'Year'}, inplace=True)\n",
        "year_sums.tail()"
      ],
      "execution_count": 0,
      "outputs": [
        {
          "output_type": "execute_result",
          "data": {
            "text/html": [
              "<div>\n",
              "<style scoped>\n",
              "    .dataframe tbody tr th:only-of-type {\n",
              "        vertical-align: middle;\n",
              "    }\n",
              "\n",
              "    .dataframe tbody tr th {\n",
              "        vertical-align: top;\n",
              "    }\n",
              "\n",
              "    .dataframe thead th {\n",
              "        text-align: right;\n",
              "    }\n",
              "</style>\n",
              "<table border=\"1\" class=\"dataframe\">\n",
              "  <thead>\n",
              "    <tr style=\"text-align: right;\">\n",
              "      <th></th>\n",
              "      <th>Year</th>\n",
              "      <th>Total Flights</th>\n",
              "    </tr>\n",
              "  </thead>\n",
              "  <tbody>\n",
              "    <tr>\n",
              "      <th>55</th>\n",
              "      <td>2015</td>\n",
              "      <td>2.77036e+08</td>\n",
              "    </tr>\n",
              "    <tr>\n",
              "      <th>56</th>\n",
              "      <td>2016</td>\n",
              "      <td>2.89138e+08</td>\n",
              "    </tr>\n",
              "    <tr>\n",
              "      <th>57</th>\n",
              "      <td>2017</td>\n",
              "      <td>2.99027e+08</td>\n",
              "    </tr>\n",
              "    <tr>\n",
              "      <th>58</th>\n",
              "      <td>2018</td>\n",
              "      <td>3.1122e+08</td>\n",
              "    </tr>\n",
              "    <tr>\n",
              "      <th>59</th>\n",
              "      <td>2019</td>\n",
              "      <td>0</td>\n",
              "    </tr>\n",
              "  </tbody>\n",
              "</table>\n",
              "</div>"
            ],
            "text/plain": [
              "    Year Total Flights\n",
              "55  2015   2.77036e+08\n",
              "56  2016   2.89138e+08\n",
              "57  2017   2.99027e+08\n",
              "58  2018    3.1122e+08\n",
              "59  2019             0"
            ]
          },
          "metadata": {
            "tags": []
          },
          "execution_count": 168
        }
      ]
    },
    {
      "cell_type": "code",
      "metadata": {
        "id": "DzFn3Ot5te8f",
        "colab_type": "code",
        "outputId": "9d8decce-a120-4708-b533-ae51f985b1c3",
        "colab": {
          "base_uri": "https://localhost:8080/",
          "height": 70
        }
      },
      "source": [
        "year_sums = year_sums.astype('int')\n",
        "year_sums.dtypes"
      ],
      "execution_count": 0,
      "outputs": [
        {
          "output_type": "execute_result",
          "data": {
            "text/plain": [
              "Year             int64\n",
              "Total Flights    int64\n",
              "dtype: object"
            ]
          },
          "metadata": {
            "tags": []
          },
          "execution_count": 169
        }
      ]
    },
    {
      "cell_type": "code",
      "metadata": {
        "id": "iSTb0isNyzoh",
        "colab_type": "code",
        "outputId": "0228234a-3b24-4787-eb45-aeb74afa0420",
        "colab": {
          "base_uri": "https://localhost:8080/",
          "height": 199
        }
      },
      "source": [
        "year_sums.tail()"
      ],
      "execution_count": 0,
      "outputs": [
        {
          "output_type": "execute_result",
          "data": {
            "text/html": [
              "<div>\n",
              "<style scoped>\n",
              "    .dataframe tbody tr th:only-of-type {\n",
              "        vertical-align: middle;\n",
              "    }\n",
              "\n",
              "    .dataframe tbody tr th {\n",
              "        vertical-align: top;\n",
              "    }\n",
              "\n",
              "    .dataframe thead th {\n",
              "        text-align: right;\n",
              "    }\n",
              "</style>\n",
              "<table border=\"1\" class=\"dataframe\">\n",
              "  <thead>\n",
              "    <tr style=\"text-align: right;\">\n",
              "      <th></th>\n",
              "      <th>Year</th>\n",
              "      <th>Total Flights</th>\n",
              "    </tr>\n",
              "  </thead>\n",
              "  <tbody>\n",
              "    <tr>\n",
              "      <th>55</th>\n",
              "      <td>2015</td>\n",
              "      <td>277035974</td>\n",
              "    </tr>\n",
              "    <tr>\n",
              "      <th>56</th>\n",
              "      <td>2016</td>\n",
              "      <td>289138268</td>\n",
              "    </tr>\n",
              "    <tr>\n",
              "      <th>57</th>\n",
              "      <td>2017</td>\n",
              "      <td>299027145</td>\n",
              "    </tr>\n",
              "    <tr>\n",
              "      <th>58</th>\n",
              "      <td>2018</td>\n",
              "      <td>311220051</td>\n",
              "    </tr>\n",
              "    <tr>\n",
              "      <th>59</th>\n",
              "      <td>2019</td>\n",
              "      <td>0</td>\n",
              "    </tr>\n",
              "  </tbody>\n",
              "</table>\n",
              "</div>"
            ],
            "text/plain": [
              "    Year  Total Flights\n",
              "55  2015      277035974\n",
              "56  2016      289138268\n",
              "57  2017      299027145\n",
              "58  2018      311220051\n",
              "59  2019              0"
            ]
          },
          "metadata": {
            "tags": []
          },
          "execution_count": 170
        }
      ]
    },
    {
      "cell_type": "code",
      "metadata": {
        "id": "F4l-ziYYWd_l",
        "colab_type": "code",
        "outputId": "b49ed10f-e599-4f6a-d3c6-a80ea98816a7",
        "colab": {
          "base_uri": "https://localhost:8080/",
          "height": 140
        }
      },
      "source": [
        "#make crash total by year dataset to add this to\n",
        "crashes_total = df['Date'].dt.year.value_counts().sort_index()\n",
        "print(crashes_total.shape)\n",
        "crashes_total.tail()"
      ],
      "execution_count": 0,
      "outputs": [
        {
          "output_type": "stream",
          "text": [
            "(109,)\n"
          ],
          "name": "stdout"
        },
        {
          "output_type": "execute_result",
          "data": {
            "text/plain": [
              "2015    18\n",
              "2016    23\n",
              "2017    15\n",
              "2018    16\n",
              "2019     9\n",
              "Name: Date, dtype: int64"
            ]
          },
          "metadata": {
            "tags": []
          },
          "execution_count": 171
        }
      ]
    },
    {
      "cell_type": "code",
      "metadata": {
        "id": "3zFb6VInuR_6",
        "colab_type": "code",
        "outputId": "d704a585-1788-4aa6-ad7a-5c42c092a5f1",
        "colab": {
          "base_uri": "https://localhost:8080/",
          "height": 199
        }
      },
      "source": [
        "crashes_total = pd.DataFrame(crashes_total)\n",
        "crashes_total= crashes_total.reset_index()\n",
        "crashes_total.tail()"
      ],
      "execution_count": 0,
      "outputs": [
        {
          "output_type": "execute_result",
          "data": {
            "text/html": [
              "<div>\n",
              "<style scoped>\n",
              "    .dataframe tbody tr th:only-of-type {\n",
              "        vertical-align: middle;\n",
              "    }\n",
              "\n",
              "    .dataframe tbody tr th {\n",
              "        vertical-align: top;\n",
              "    }\n",
              "\n",
              "    .dataframe thead th {\n",
              "        text-align: right;\n",
              "    }\n",
              "</style>\n",
              "<table border=\"1\" class=\"dataframe\">\n",
              "  <thead>\n",
              "    <tr style=\"text-align: right;\">\n",
              "      <th></th>\n",
              "      <th>index</th>\n",
              "      <th>Date</th>\n",
              "    </tr>\n",
              "  </thead>\n",
              "  <tbody>\n",
              "    <tr>\n",
              "      <th>104</th>\n",
              "      <td>2015</td>\n",
              "      <td>18</td>\n",
              "    </tr>\n",
              "    <tr>\n",
              "      <th>105</th>\n",
              "      <td>2016</td>\n",
              "      <td>23</td>\n",
              "    </tr>\n",
              "    <tr>\n",
              "      <th>106</th>\n",
              "      <td>2017</td>\n",
              "      <td>15</td>\n",
              "    </tr>\n",
              "    <tr>\n",
              "      <th>107</th>\n",
              "      <td>2018</td>\n",
              "      <td>16</td>\n",
              "    </tr>\n",
              "    <tr>\n",
              "      <th>108</th>\n",
              "      <td>2019</td>\n",
              "      <td>9</td>\n",
              "    </tr>\n",
              "  </tbody>\n",
              "</table>\n",
              "</div>"
            ],
            "text/plain": [
              "     index  Date\n",
              "104   2015    18\n",
              "105   2016    23\n",
              "106   2017    15\n",
              "107   2018    16\n",
              "108   2019     9"
            ]
          },
          "metadata": {
            "tags": []
          },
          "execution_count": 172
        }
      ]
    },
    {
      "cell_type": "code",
      "metadata": {
        "id": "xW-dbYIAxEHi",
        "colab_type": "code",
        "outputId": "59949211-b21c-4e0c-9b5d-c7a65f67b334",
        "colab": {
          "base_uri": "https://localhost:8080/",
          "height": 199
        }
      },
      "source": [
        "crashes_total.rename(columns={'index': 'Year', 'Date':'Total Crashes'}, inplace=True)\n",
        "crashes_total.tail()"
      ],
      "execution_count": 0,
      "outputs": [
        {
          "output_type": "execute_result",
          "data": {
            "text/html": [
              "<div>\n",
              "<style scoped>\n",
              "    .dataframe tbody tr th:only-of-type {\n",
              "        vertical-align: middle;\n",
              "    }\n",
              "\n",
              "    .dataframe tbody tr th {\n",
              "        vertical-align: top;\n",
              "    }\n",
              "\n",
              "    .dataframe thead th {\n",
              "        text-align: right;\n",
              "    }\n",
              "</style>\n",
              "<table border=\"1\" class=\"dataframe\">\n",
              "  <thead>\n",
              "    <tr style=\"text-align: right;\">\n",
              "      <th></th>\n",
              "      <th>Year</th>\n",
              "      <th>Total Crashes</th>\n",
              "    </tr>\n",
              "  </thead>\n",
              "  <tbody>\n",
              "    <tr>\n",
              "      <th>104</th>\n",
              "      <td>2015</td>\n",
              "      <td>18</td>\n",
              "    </tr>\n",
              "    <tr>\n",
              "      <th>105</th>\n",
              "      <td>2016</td>\n",
              "      <td>23</td>\n",
              "    </tr>\n",
              "    <tr>\n",
              "      <th>106</th>\n",
              "      <td>2017</td>\n",
              "      <td>15</td>\n",
              "    </tr>\n",
              "    <tr>\n",
              "      <th>107</th>\n",
              "      <td>2018</td>\n",
              "      <td>16</td>\n",
              "    </tr>\n",
              "    <tr>\n",
              "      <th>108</th>\n",
              "      <td>2019</td>\n",
              "      <td>9</td>\n",
              "    </tr>\n",
              "  </tbody>\n",
              "</table>\n",
              "</div>"
            ],
            "text/plain": [
              "     Year  Total Crashes\n",
              "104  2015             18\n",
              "105  2016             23\n",
              "106  2017             15\n",
              "107  2018             16\n",
              "108  2019              9"
            ]
          },
          "metadata": {
            "tags": []
          },
          "execution_count": 173
        }
      ]
    },
    {
      "cell_type": "code",
      "metadata": {
        "id": "wGltD8-OoZwb",
        "colab_type": "code",
        "outputId": "be4871eb-a74f-4f40-bb88-3815e3db9187",
        "colab": {
          "base_uri": "https://localhost:8080/",
          "height": 199
        }
      },
      "source": [
        "graph = crashes_total.merge(year_sums, on='Year')\n",
        "graph.tail()"
      ],
      "execution_count": 0,
      "outputs": [
        {
          "output_type": "execute_result",
          "data": {
            "text/html": [
              "<div>\n",
              "<style scoped>\n",
              "    .dataframe tbody tr th:only-of-type {\n",
              "        vertical-align: middle;\n",
              "    }\n",
              "\n",
              "    .dataframe tbody tr th {\n",
              "        vertical-align: top;\n",
              "    }\n",
              "\n",
              "    .dataframe thead th {\n",
              "        text-align: right;\n",
              "    }\n",
              "</style>\n",
              "<table border=\"1\" class=\"dataframe\">\n",
              "  <thead>\n",
              "    <tr style=\"text-align: right;\">\n",
              "      <th></th>\n",
              "      <th>Year</th>\n",
              "      <th>Total Crashes</th>\n",
              "      <th>Total Flights</th>\n",
              "    </tr>\n",
              "  </thead>\n",
              "  <tbody>\n",
              "    <tr>\n",
              "      <th>55</th>\n",
              "      <td>2015</td>\n",
              "      <td>18</td>\n",
              "      <td>277035974</td>\n",
              "    </tr>\n",
              "    <tr>\n",
              "      <th>56</th>\n",
              "      <td>2016</td>\n",
              "      <td>23</td>\n",
              "      <td>289138268</td>\n",
              "    </tr>\n",
              "    <tr>\n",
              "      <th>57</th>\n",
              "      <td>2017</td>\n",
              "      <td>15</td>\n",
              "      <td>299027145</td>\n",
              "    </tr>\n",
              "    <tr>\n",
              "      <th>58</th>\n",
              "      <td>2018</td>\n",
              "      <td>16</td>\n",
              "      <td>311220051</td>\n",
              "    </tr>\n",
              "    <tr>\n",
              "      <th>59</th>\n",
              "      <td>2019</td>\n",
              "      <td>9</td>\n",
              "      <td>0</td>\n",
              "    </tr>\n",
              "  </tbody>\n",
              "</table>\n",
              "</div>"
            ],
            "text/plain": [
              "    Year  Total Crashes  Total Flights\n",
              "55  2015             18      277035974\n",
              "56  2016             23      289138268\n",
              "57  2017             15      299027145\n",
              "58  2018             16      311220051\n",
              "59  2019              9              0"
            ]
          },
          "metadata": {
            "tags": []
          },
          "execution_count": 174
        }
      ]
    },
    {
      "cell_type": "code",
      "metadata": {
        "id": "_2CWYH_SYUtf",
        "colab_type": "code",
        "outputId": "41a1c4bc-7832-405e-c28f-4b4d6e5f31d2",
        "colab": {
          "base_uri": "https://localhost:8080/",
          "height": 157
        }
      },
      "source": [
        "graph.info()"
      ],
      "execution_count": 0,
      "outputs": [
        {
          "output_type": "stream",
          "text": [
            "<class 'pandas.core.frame.DataFrame'>\n",
            "Int64Index: 60 entries, 0 to 59\n",
            "Data columns (total 3 columns):\n",
            "Year             60 non-null int64\n",
            "Total Crashes    60 non-null int64\n",
            "Total Flights    60 non-null int64\n",
            "dtypes: int64(3)\n",
            "memory usage: 1.9 KB\n"
          ],
          "name": "stdout"
        }
      ]
    },
    {
      "cell_type": "code",
      "metadata": {
        "id": "EdnR8HoYZq6T",
        "colab_type": "code",
        "outputId": "3eed62e6-7558-4552-fb4c-d50541b84952",
        "colab": {
          "base_uri": "https://localhost:8080/",
          "height": 199
        }
      },
      "source": [
        "graph.head()"
      ],
      "execution_count": 0,
      "outputs": [
        {
          "output_type": "execute_result",
          "data": {
            "text/html": [
              "<div>\n",
              "<style scoped>\n",
              "    .dataframe tbody tr th:only-of-type {\n",
              "        vertical-align: middle;\n",
              "    }\n",
              "\n",
              "    .dataframe tbody tr th {\n",
              "        vertical-align: top;\n",
              "    }\n",
              "\n",
              "    .dataframe thead th {\n",
              "        text-align: right;\n",
              "    }\n",
              "</style>\n",
              "<table border=\"1\" class=\"dataframe\">\n",
              "  <thead>\n",
              "    <tr style=\"text-align: right;\">\n",
              "      <th></th>\n",
              "      <th>Year</th>\n",
              "      <th>Total Crashes</th>\n",
              "      <th>Total Flights</th>\n",
              "    </tr>\n",
              "  </thead>\n",
              "  <tbody>\n",
              "    <tr>\n",
              "      <th>0</th>\n",
              "      <td>1960</td>\n",
              "      <td>70</td>\n",
              "      <td>0</td>\n",
              "    </tr>\n",
              "    <tr>\n",
              "      <th>1</th>\n",
              "      <td>1961</td>\n",
              "      <td>60</td>\n",
              "      <td>0</td>\n",
              "    </tr>\n",
              "    <tr>\n",
              "      <th>2</th>\n",
              "      <td>1962</td>\n",
              "      <td>77</td>\n",
              "      <td>0</td>\n",
              "    </tr>\n",
              "    <tr>\n",
              "      <th>3</th>\n",
              "      <td>1963</td>\n",
              "      <td>61</td>\n",
              "      <td>0</td>\n",
              "    </tr>\n",
              "    <tr>\n",
              "      <th>4</th>\n",
              "      <td>1964</td>\n",
              "      <td>55</td>\n",
              "      <td>0</td>\n",
              "    </tr>\n",
              "  </tbody>\n",
              "</table>\n",
              "</div>"
            ],
            "text/plain": [
              "   Year  Total Crashes  Total Flights\n",
              "0  1960             70              0\n",
              "1  1961             60              0\n",
              "2  1962             77              0\n",
              "3  1963             61              0\n",
              "4  1964             55              0"
            ]
          },
          "metadata": {
            "tags": []
          },
          "execution_count": 176
        }
      ]
    },
    {
      "cell_type": "code",
      "metadata": {
        "id": "d2-Ur5TutaRl",
        "colab_type": "code",
        "outputId": "ec371d45-173a-4cd2-948e-1d5ff88d4b6b",
        "colab": {
          "base_uri": "https://localhost:8080/",
          "height": 140
        }
      },
      "source": [
        "#crashes mil to df\n",
        "mil_total = mil['Date'].dt.year.value_counts().sort_index()\n",
        "print(mil_total.shape)\n",
        "mil_total.tail()"
      ],
      "execution_count": 0,
      "outputs": [
        {
          "output_type": "stream",
          "text": [
            "(97,)\n"
          ],
          "name": "stdout"
        },
        {
          "output_type": "execute_result",
          "data": {
            "text/plain": [
              "2015    3\n",
              "2016    1\n",
              "2017    1\n",
              "2018    3\n",
              "2019    2\n",
              "Name: Date, dtype: int64"
            ]
          },
          "metadata": {
            "tags": []
          },
          "execution_count": 177
        }
      ]
    },
    {
      "cell_type": "code",
      "metadata": {
        "id": "LWDHl07t2C5u",
        "colab_type": "code",
        "colab": {}
      },
      "source": [
        "mil_total = pd.DataFrame(mil_total)\n",
        "mil_total= mil_total.reset_index()"
      ],
      "execution_count": 0,
      "outputs": []
    },
    {
      "cell_type": "code",
      "metadata": {
        "id": "EV2prkje2C_f",
        "colab_type": "code",
        "outputId": "1ec062f2-6d70-49b8-a40d-aed6f74d0eb6",
        "colab": {
          "base_uri": "https://localhost:8080/",
          "height": 199
        }
      },
      "source": [
        "mil_total.rename(columns={'index': 'Year', 'Date':'Military Crashes'}, inplace=True)\n",
        "mil_total.tail()"
      ],
      "execution_count": 0,
      "outputs": [
        {
          "output_type": "execute_result",
          "data": {
            "text/html": [
              "<div>\n",
              "<style scoped>\n",
              "    .dataframe tbody tr th:only-of-type {\n",
              "        vertical-align: middle;\n",
              "    }\n",
              "\n",
              "    .dataframe tbody tr th {\n",
              "        vertical-align: top;\n",
              "    }\n",
              "\n",
              "    .dataframe thead th {\n",
              "        text-align: right;\n",
              "    }\n",
              "</style>\n",
              "<table border=\"1\" class=\"dataframe\">\n",
              "  <thead>\n",
              "    <tr style=\"text-align: right;\">\n",
              "      <th></th>\n",
              "      <th>Year</th>\n",
              "      <th>Military Crashes</th>\n",
              "    </tr>\n",
              "  </thead>\n",
              "  <tbody>\n",
              "    <tr>\n",
              "      <th>92</th>\n",
              "      <td>2015</td>\n",
              "      <td>3</td>\n",
              "    </tr>\n",
              "    <tr>\n",
              "      <th>93</th>\n",
              "      <td>2016</td>\n",
              "      <td>1</td>\n",
              "    </tr>\n",
              "    <tr>\n",
              "      <th>94</th>\n",
              "      <td>2017</td>\n",
              "      <td>1</td>\n",
              "    </tr>\n",
              "    <tr>\n",
              "      <th>95</th>\n",
              "      <td>2018</td>\n",
              "      <td>3</td>\n",
              "    </tr>\n",
              "    <tr>\n",
              "      <th>96</th>\n",
              "      <td>2019</td>\n",
              "      <td>2</td>\n",
              "    </tr>\n",
              "  </tbody>\n",
              "</table>\n",
              "</div>"
            ],
            "text/plain": [
              "    Year  Military Crashes\n",
              "92  2015                 3\n",
              "93  2016                 1\n",
              "94  2017                 1\n",
              "95  2018                 3\n",
              "96  2019                 2"
            ]
          },
          "metadata": {
            "tags": []
          },
          "execution_count": 179
        }
      ]
    },
    {
      "cell_type": "code",
      "metadata": {
        "id": "2PKOJoUX2DB4",
        "colab_type": "code",
        "outputId": "2c443c31-95d8-44ed-c7cf-a930d0420e42",
        "colab": {
          "base_uri": "https://localhost:8080/",
          "height": 199
        }
      },
      "source": [
        "graph1 = graph.merge(mil_total, on='Year')\n",
        "graph1.head()"
      ],
      "execution_count": 0,
      "outputs": [
        {
          "output_type": "execute_result",
          "data": {
            "text/html": [
              "<div>\n",
              "<style scoped>\n",
              "    .dataframe tbody tr th:only-of-type {\n",
              "        vertical-align: middle;\n",
              "    }\n",
              "\n",
              "    .dataframe tbody tr th {\n",
              "        vertical-align: top;\n",
              "    }\n",
              "\n",
              "    .dataframe thead th {\n",
              "        text-align: right;\n",
              "    }\n",
              "</style>\n",
              "<table border=\"1\" class=\"dataframe\">\n",
              "  <thead>\n",
              "    <tr style=\"text-align: right;\">\n",
              "      <th></th>\n",
              "      <th>Year</th>\n",
              "      <th>Total Crashes</th>\n",
              "      <th>Total Flights</th>\n",
              "      <th>Military Crashes</th>\n",
              "    </tr>\n",
              "  </thead>\n",
              "  <tbody>\n",
              "    <tr>\n",
              "      <th>0</th>\n",
              "      <td>1960</td>\n",
              "      <td>70</td>\n",
              "      <td>0</td>\n",
              "      <td>11</td>\n",
              "    </tr>\n",
              "    <tr>\n",
              "      <th>1</th>\n",
              "      <td>1961</td>\n",
              "      <td>60</td>\n",
              "      <td>0</td>\n",
              "      <td>9</td>\n",
              "    </tr>\n",
              "    <tr>\n",
              "      <th>2</th>\n",
              "      <td>1962</td>\n",
              "      <td>77</td>\n",
              "      <td>0</td>\n",
              "      <td>11</td>\n",
              "    </tr>\n",
              "    <tr>\n",
              "      <th>3</th>\n",
              "      <td>1963</td>\n",
              "      <td>61</td>\n",
              "      <td>0</td>\n",
              "      <td>8</td>\n",
              "    </tr>\n",
              "    <tr>\n",
              "      <th>4</th>\n",
              "      <td>1964</td>\n",
              "      <td>55</td>\n",
              "      <td>0</td>\n",
              "      <td>7</td>\n",
              "    </tr>\n",
              "  </tbody>\n",
              "</table>\n",
              "</div>"
            ],
            "text/plain": [
              "   Year  Total Crashes  Total Flights  Military Crashes\n",
              "0  1960             70              0                11\n",
              "1  1961             60              0                 9\n",
              "2  1962             77              0                11\n",
              "3  1963             61              0                 8\n",
              "4  1964             55              0                 7"
            ]
          },
          "metadata": {
            "tags": []
          },
          "execution_count": 180
        }
      ]
    },
    {
      "cell_type": "code",
      "metadata": {
        "id": "I_RL326X2DEP",
        "colab_type": "code",
        "outputId": "9ddcfe5b-9da6-4e9d-8287-58a74f87943d",
        "colab": {
          "base_uri": "https://localhost:8080/",
          "height": 140
        }
      },
      "source": [
        "#crashes civ to df\n",
        "civ_total = civ['Date'].dt.year.value_counts().sort_index()\n",
        "print(civ_total.shape)\n",
        "civ_total.tail()"
      ],
      "execution_count": 0,
      "outputs": [
        {
          "output_type": "stream",
          "text": [
            "(103,)\n"
          ],
          "name": "stdout"
        },
        {
          "output_type": "execute_result",
          "data": {
            "text/plain": [
              "2015    15\n",
              "2016    22\n",
              "2017    14\n",
              "2018    13\n",
              "2019     7\n",
              "Name: Date, dtype: int64"
            ]
          },
          "metadata": {
            "tags": []
          },
          "execution_count": 181
        }
      ]
    },
    {
      "cell_type": "code",
      "metadata": {
        "id": "tYvltil33Csv",
        "colab_type": "code",
        "colab": {}
      },
      "source": [
        "civ_total = pd.DataFrame(civ_total)\n",
        "civ_total= civ_total.reset_index()"
      ],
      "execution_count": 0,
      "outputs": []
    },
    {
      "cell_type": "code",
      "metadata": {
        "id": "YqYiqsKp3CvP",
        "colab_type": "code",
        "outputId": "7d2e4bdf-fc70-41da-9fe8-bad58926bee5",
        "colab": {
          "base_uri": "https://localhost:8080/",
          "height": 199
        }
      },
      "source": [
        "civ_total.rename(columns={'index': 'Year', 'Date':'Civilian Crashes'}, inplace=True)\n",
        "civ_total.tail()"
      ],
      "execution_count": 0,
      "outputs": [
        {
          "output_type": "execute_result",
          "data": {
            "text/html": [
              "<div>\n",
              "<style scoped>\n",
              "    .dataframe tbody tr th:only-of-type {\n",
              "        vertical-align: middle;\n",
              "    }\n",
              "\n",
              "    .dataframe tbody tr th {\n",
              "        vertical-align: top;\n",
              "    }\n",
              "\n",
              "    .dataframe thead th {\n",
              "        text-align: right;\n",
              "    }\n",
              "</style>\n",
              "<table border=\"1\" class=\"dataframe\">\n",
              "  <thead>\n",
              "    <tr style=\"text-align: right;\">\n",
              "      <th></th>\n",
              "      <th>Year</th>\n",
              "      <th>Civilian Crashes</th>\n",
              "    </tr>\n",
              "  </thead>\n",
              "  <tbody>\n",
              "    <tr>\n",
              "      <th>98</th>\n",
              "      <td>2015</td>\n",
              "      <td>15</td>\n",
              "    </tr>\n",
              "    <tr>\n",
              "      <th>99</th>\n",
              "      <td>2016</td>\n",
              "      <td>22</td>\n",
              "    </tr>\n",
              "    <tr>\n",
              "      <th>100</th>\n",
              "      <td>2017</td>\n",
              "      <td>14</td>\n",
              "    </tr>\n",
              "    <tr>\n",
              "      <th>101</th>\n",
              "      <td>2018</td>\n",
              "      <td>13</td>\n",
              "    </tr>\n",
              "    <tr>\n",
              "      <th>102</th>\n",
              "      <td>2019</td>\n",
              "      <td>7</td>\n",
              "    </tr>\n",
              "  </tbody>\n",
              "</table>\n",
              "</div>"
            ],
            "text/plain": [
              "     Year  Civilian Crashes\n",
              "98   2015                15\n",
              "99   2016                22\n",
              "100  2017                14\n",
              "101  2018                13\n",
              "102  2019                 7"
            ]
          },
          "metadata": {
            "tags": []
          },
          "execution_count": 183
        }
      ]
    },
    {
      "cell_type": "code",
      "metadata": {
        "id": "VNS8cO3Z3Cx7",
        "colab_type": "code",
        "outputId": "55abae79-fb21-4f62-f6ac-933918686f71",
        "colab": {
          "base_uri": "https://localhost:8080/",
          "height": 199
        }
      },
      "source": [
        "graph2 = graph1.merge(civ_total, on='Year')\n",
        "graph2.head()"
      ],
      "execution_count": 0,
      "outputs": [
        {
          "output_type": "execute_result",
          "data": {
            "text/html": [
              "<div>\n",
              "<style scoped>\n",
              "    .dataframe tbody tr th:only-of-type {\n",
              "        vertical-align: middle;\n",
              "    }\n",
              "\n",
              "    .dataframe tbody tr th {\n",
              "        vertical-align: top;\n",
              "    }\n",
              "\n",
              "    .dataframe thead th {\n",
              "        text-align: right;\n",
              "    }\n",
              "</style>\n",
              "<table border=\"1\" class=\"dataframe\">\n",
              "  <thead>\n",
              "    <tr style=\"text-align: right;\">\n",
              "      <th></th>\n",
              "      <th>Year</th>\n",
              "      <th>Total Crashes</th>\n",
              "      <th>Total Flights</th>\n",
              "      <th>Military Crashes</th>\n",
              "      <th>Civilian Crashes</th>\n",
              "    </tr>\n",
              "  </thead>\n",
              "  <tbody>\n",
              "    <tr>\n",
              "      <th>0</th>\n",
              "      <td>1960</td>\n",
              "      <td>70</td>\n",
              "      <td>0</td>\n",
              "      <td>11</td>\n",
              "      <td>59</td>\n",
              "    </tr>\n",
              "    <tr>\n",
              "      <th>1</th>\n",
              "      <td>1961</td>\n",
              "      <td>60</td>\n",
              "      <td>0</td>\n",
              "      <td>9</td>\n",
              "      <td>51</td>\n",
              "    </tr>\n",
              "    <tr>\n",
              "      <th>2</th>\n",
              "      <td>1962</td>\n",
              "      <td>77</td>\n",
              "      <td>0</td>\n",
              "      <td>11</td>\n",
              "      <td>66</td>\n",
              "    </tr>\n",
              "    <tr>\n",
              "      <th>3</th>\n",
              "      <td>1963</td>\n",
              "      <td>61</td>\n",
              "      <td>0</td>\n",
              "      <td>8</td>\n",
              "      <td>52</td>\n",
              "    </tr>\n",
              "    <tr>\n",
              "      <th>4</th>\n",
              "      <td>1964</td>\n",
              "      <td>55</td>\n",
              "      <td>0</td>\n",
              "      <td>7</td>\n",
              "      <td>48</td>\n",
              "    </tr>\n",
              "  </tbody>\n",
              "</table>\n",
              "</div>"
            ],
            "text/plain": [
              "   Year  Total Crashes  Total Flights  Military Crashes  Civilian Crashes\n",
              "0  1960             70              0                11                59\n",
              "1  1961             60              0                 9                51\n",
              "2  1962             77              0                11                66\n",
              "3  1963             61              0                 8                52\n",
              "4  1964             55              0                 7                48"
            ]
          },
          "metadata": {
            "tags": []
          },
          "execution_count": 184
        }
      ]
    },
    {
      "cell_type": "markdown",
      "metadata": {
        "id": "EduUcpSkSzVs",
        "colab_type": "text"
      },
      "source": [
        "#Graphs"
      ]
    },
    {
      "cell_type": "code",
      "metadata": {
        "id": "kB-lBj-UbXiP",
        "colab_type": "code",
        "outputId": "be8f84f0-1004-41eb-aa87-411e7fa58126",
        "colab": {
          "base_uri": "https://localhost:8080/",
          "height": 451
        }
      },
      "source": [
        "#histogram of historic crashes with datelines for aviation innovations and events\n",
        "plt.style.use('seaborn-whitegrid')\n",
        "\n",
        "#data\n",
        "sns.set_style(\"whitegrid\",{'grid.linestyle': '--'})\n",
        "rnbw = sns.distplot(df['Date'].dt.year, kde=False, color='lightskyblue', bins=60)\n",
        "rnbw.figure.set_size_inches(11,6)\n",
        "\n",
        "#event lines\n",
        "plt.axvline(1910, ls = '-', lw=2.2, color = 'plum', alpha=.8, label='1908: first propelled passenger flight')\n",
        "plt.axvline(1923, ls = '-', lw=2.2, color = 'darkorchid', alpha=.6, label='1923: first transcontinental non-stop flight')\n",
        "plt.axvline(1938, ls = '-', lw=2.2, color = 'mediumslateblue', alpha=.6, label='1938: first commercial use of a radio landing system')\n",
        "plt.axvline(1945, ls = '-', lw=2.2, color = 'navy', alpha=.4, label='1946: post-WWII four-engine commercial flight')\n",
        "plt.axvline(1957, ls = '-', lw=2.2, color = 'cornflowerblue', alpha=.6, label='1958: commercial jet flight begins')\n",
        "plt.axvline(1970, ls = '-', lw=2.2, color = 'aquamarine', alpha=1, label='1970: introduction of wide-body commercial aircraft')\n",
        "plt.axvline(1975, ls = '-', lw=2.2, color = 'green', alpha=.5, label='1975: US airports have computerized air-traffic control')\n",
        "plt.axvline(1989, ls = '-', lw=2.2, color = 'khaki', alpha=.8, label='1989: first inflight smoking ban')\n",
        "plt.axvline(1993, ls = '-', lw=2.2, color = 'darkorange', alpha=.5, label='1993: CRM human error training is required')\n",
        "plt.axvline(2000, ls = '-', lw=2.2, color = 'tomato', alpha=.5, label='2000: GPS III standardization and modernization')\n",
        "plt.axvline(2008, ls = '-', lw=2.2, color = 'firebrick', alpha=.6, label='2008: material flammability regulations tightened')\n",
        "\n",
        "#legend\n",
        "plt.legend(bbox_to_anchor=(1.04,0.5), loc='center left', borderaxespad=0)\n",
        "\n",
        "#title, labels\n",
        "plt.title('Total Aircraft Crashes by Year', fontsize=16)\n",
        "plt.xlabel('Year', fontsize=14)\n",
        "plt.ylabel('Crashes', fontsize=14)\n",
        "plt.xlim(1905,2020)\n",
        "plt.figure(figsize=(16, 20))\n",
        "\n",
        "plt.show()"
      ],
      "execution_count": 0,
      "outputs": [
        {
          "output_type": "display_data",
          "data": {
            "image/png": "[encoded data removed]",
            "text/plain": [
              "<Figure size 792x432 with 1 Axes>"
            ]
          },
          "metadata": {
            "tags": []
          }
        },
        {
          "output_type": "display_data",
          "data": {
            "text/plain": [
              "<Figure size 1152x1440 with 0 Axes>"
            ]
          },
          "metadata": {
            "tags": []
          }
        }
      ]
    },
    {
      "cell_type": "code",
      "metadata": {
        "id": "dYKza9qRRFCF",
        "colab_type": "code",
        "outputId": "e9e6c415-5515-4fc7-d14a-024ce997c73e",
        "colab": {
          "base_uri": "https://localhost:8080/",
          "height": 437
        }
      },
      "source": [
        "#overlapping/stacked histogram of civilian vs military crash counts\n",
        "import matplotlib.patches as mpatches\n",
        "plt.style.use('seaborn-whitegrid')\n",
        "fig, ax = plt.subplots(figsize=(12,6))\n",
        "\n",
        "ax.set_title('Aircraft Crashes Throughout History')\n",
        "ax.hist(civ['Date'].dt.year, histtype='stepfilled', bins=30, alpha=0.7, color= 'skyblue')\n",
        "ax.hist(mil['Date'].dt.year, histtype='stepfilled',  bins=30, alpha=0.6, color = 'royalblue')\n",
        "\n",
        "ax.set_xbound(lower=1908, upper=2019)\n",
        "ax.set_xlabel(\"Year\",fontsize=14)\n",
        "ax.set_ylabel(\"Accidents\",fontsize=14)\n",
        "plt.grid(ls = '--')\n",
        "\n",
        "#legend\n",
        "mil_patch = mpatches.Patch(color='royalblue', label='Military')\n",
        "civ_patch = mpatches.Patch(color='skyblue', label='General')\n",
        "plt.legend(handles=[civ_patch, mil_patch])\n",
        "\n",
        "plt.show()"
      ],
      "execution_count": 0,
      "outputs": [
        {
          "output_type": "display_data",
          "data": {
            "image/png": "[encoded data removed]",
            "text/plain": [
              "<Figure size 864x432 with 1 Axes>"
            ]
          },
          "metadata": {
            "tags": []
          }
        }
      ]
    },
    {
      "cell_type": "code",
      "metadata": {
        "id": "B8xucS8Ut1oR",
        "colab_type": "code",
        "outputId": "936221a1-c95c-4720-cca4-4956f13b2324",
        "colab": {
          "base_uri": "https://localhost:8080/",
          "height": 540
        }
      },
      "source": [
        "#donut chart of  % of crashes by industry\n",
        "#data\n",
        "cat = 'Commercial', 'Military', 'Private & Recreational', 'Delivery'\n",
        "amounts = 3356, 750, 277, 55\n",
        "#middle circle\n",
        "my_circle=plt.Circle( (0,0), 0.7, color='white')\n",
        "\n",
        "plt.pie(amounts, labels=cat, colors=['skyblue','royalblue', 'mediumslateblue', 'plum'], wedgeprops = { 'linewidth' : 1, 'edgecolor' : 'white' })\n",
        "p=plt.gcf()\n",
        "plt.title\n",
        "p.set_size_inches(8,8)\n",
        "p.gca().add_artist(my_circle)\n",
        "plt.title('Airline Accidents by Industry \\n 1908-2019')\n",
        "plt.show()"
      ],
      "execution_count": 0,
      "outputs": [
        {
          "output_type": "display_data",
          "data": {
            "image/png": "[encoded data removed]",
            "text/plain": [
              "<Figure size 576x576 with 1 Axes>"
            ]
          },
          "metadata": {
            "tags": []
          }
        }
      ]
    },
    {
      "cell_type": "code",
      "metadata": {
        "id": "95L826SsCFQJ",
        "colab_type": "code",
        "outputId": "c1b6c024-f266-4859-fc9a-9d3b3d29dac2",
        "colab": {
          "base_uri": "https://localhost:8080/",
          "height": 230
        }
      },
      "source": [
        "#causes of crash stacked bar for % illustration\n",
        "lst = [514,851,94,1488,1325,244]\n",
        "causes = pd.DataFrame(lst, index=['Unknown','Fire','Violence','Weather & Visibility', 'Mechanical Failure', 'Pilot Error'], columns=['Totals'])\n",
        "causes"
      ],
      "execution_count": 0,
      "outputs": [
        {
          "output_type": "execute_result",
          "data": {
            "text/html": [
              "<div>\n",
              "<style scoped>\n",
              "    .dataframe tbody tr th:only-of-type {\n",
              "        vertical-align: middle;\n",
              "    }\n",
              "\n",
              "    .dataframe tbody tr th {\n",
              "        vertical-align: top;\n",
              "    }\n",
              "\n",
              "    .dataframe thead th {\n",
              "        text-align: right;\n",
              "    }\n",
              "</style>\n",
              "<table border=\"1\" class=\"dataframe\">\n",
              "  <thead>\n",
              "    <tr style=\"text-align: right;\">\n",
              "      <th></th>\n",
              "      <th>Totals</th>\n",
              "    </tr>\n",
              "  </thead>\n",
              "  <tbody>\n",
              "    <tr>\n",
              "      <th>Unknown</th>\n",
              "      <td>514</td>\n",
              "    </tr>\n",
              "    <tr>\n",
              "      <th>Fire</th>\n",
              "      <td>851</td>\n",
              "    </tr>\n",
              "    <tr>\n",
              "      <th>Violence</th>\n",
              "      <td>94</td>\n",
              "    </tr>\n",
              "    <tr>\n",
              "      <th>Weather &amp; Visibility</th>\n",
              "      <td>1488</td>\n",
              "    </tr>\n",
              "    <tr>\n",
              "      <th>Mechanical Failure</th>\n",
              "      <td>1325</td>\n",
              "    </tr>\n",
              "    <tr>\n",
              "      <th>Pilot Error</th>\n",
              "      <td>244</td>\n",
              "    </tr>\n",
              "  </tbody>\n",
              "</table>\n",
              "</div>"
            ],
            "text/plain": [
              "                      Totals\n",
              "Unknown                  514\n",
              "Fire                     851\n",
              "Violence                  94\n",
              "Weather & Visibility    1488\n",
              "Mechanical Failure      1325\n",
              "Pilot Error              244"
            ]
          },
          "metadata": {
            "tags": []
          },
          "execution_count": 188
        }
      ]
    },
    {
      "cell_type": "code",
      "metadata": {
        "id": "V1A9sl4x00dY",
        "colab_type": "code",
        "outputId": "2065cbfb-5937-41f1-9b05-9f193dd574f8",
        "colab": {
          "base_uri": "https://localhost:8080/",
          "height": 266
        }
      },
      "source": [
        "causes.T.plot(kind='barh', stacked=True, figsize=(10,2), color=('lightsalmon','palegoldenrod','darkseagreen','lightblue','steelblue','thistle'))\n",
        "plt.legend(loc='upper center', bbox_to_anchor=(0.5, -0.05), ncol=7)\n",
        "plt.grid(b=None)\n",
        "plt.axis('off')\n",
        "plt.title('Causes of Airplane Crashes', pad=30)\n",
        "plt.figure(figsize=(11,3))"
      ],
      "execution_count": 0,
      "outputs": [
        {
          "output_type": "execute_result",
          "data": {
            "text/plain": [
              "<Figure size 792x216 with 0 Axes>"
            ]
          },
          "metadata": {
            "tags": []
          },
          "execution_count": 189
        },
        {
          "output_type": "display_data",
          "data": {
            "image/png": "[encoded data removed]",
            "text/plain": [
              "<Figure size 720x144 with 1 Axes>"
            ]
          },
          "metadata": {
            "tags": []
          }
        },
        {
          "output_type": "display_data",
          "data": {
            "text/plain": [
              "<Figure size 792x216 with 0 Axes>"
            ]
          },
          "metadata": {
            "tags": []
          }
        }
      ]
    },
    {
      "cell_type": "code",
      "metadata": {
        "id": "8v5BQSlD9NU6",
        "colab_type": "code",
        "outputId": "ce249d91-03fc-4333-9e2c-1bdd794aee5d",
        "colab": {
          "base_uri": "https://localhost:8080/",
          "height": 595
        }
      },
      "source": [
        "#plot number of crashes vs number of flights per year \n",
        "plt.style.use('fivethirtyeight')\n",
        "fig,ax = plt.subplots(figsize=(16, 8))\n",
        "\n",
        "#crashes line\n",
        "ax.plot(graph['Year'], graph['Total Crashes'], color='firebrick', alpha=.9, marker=\",\", lw= 3)\n",
        "ax.set_xlabel(\"Year\",fontsize=14)\n",
        "ax.set_ylabel(\"Crash Incidents\", color='firebrick', fontsize=14)\n",
        "ax.set_xbound(lower=1970, upper=2018)\n",
        "\n",
        "#total flights line\n",
        "ax2=ax.twinx()\n",
        "ax2.plot(graph['Year'], graph['Total Flights'],color=\"skyblue\",marker=\",\", lw= 3)\n",
        "ax2.set_ylabel(\"Flights (hundred million, 1e8)\",color=\"skyblue\",fontsize=14)\n",
        "ax2.set_xbound(lower=1970, upper=2018)\n",
        "plt.grid(b=None) #or ax.grid(False)\n",
        "\n",
        "ax.set_facecolor('#FFFFFF')\n",
        "fig.patch.set_facecolor('#FFFFFF')\n",
        "ax.set_title('Crashes vs Flights in Modern Aviation \\n (1970-2019)', pad=25)\n",
        "plt.show()\n",
        "#crashes vs flights "
      ],
      "execution_count": 0,
      "outputs": [
        {
          "output_type": "display_data",
          "data": {
            "image/png": "[encoded data removed]",
            "text/plain": [
              "<Figure size 1152x576 with 2 Axes>"
            ]
          },
          "metadata": {
            "tags": []
          }
        }
      ]
    },
    {
      "cell_type": "code",
      "metadata": {
        "id": "JWVFAlIkrVzZ",
        "colab_type": "code",
        "outputId": "1502e3ef-d569-4cfb-da56-b347321db905",
        "colab": {
          "base_uri": "https://localhost:8080/",
          "height": 199
        }
      },
      "source": [
        "#plot % of total flights that crashed\n",
        "graph1['perc'] = (graph1['Total Crashes'] / graph1['Total Flights'])\n",
        "graph1.tail()"
      ],
      "execution_count": 0,
      "outputs": [
        {
          "output_type": "execute_result",
          "data": {
            "text/html": [
              "<div>\n",
              "<style scoped>\n",
              "    .dataframe tbody tr th:only-of-type {\n",
              "        vertical-align: middle;\n",
              "    }\n",
              "\n",
              "    .dataframe tbody tr th {\n",
              "        vertical-align: top;\n",
              "    }\n",
              "\n",
              "    .dataframe thead th {\n",
              "        text-align: right;\n",
              "    }\n",
              "</style>\n",
              "<table border=\"1\" class=\"dataframe\">\n",
              "  <thead>\n",
              "    <tr style=\"text-align: right;\">\n",
              "      <th></th>\n",
              "      <th>Year</th>\n",
              "      <th>Total Crashes</th>\n",
              "      <th>Total Flights</th>\n",
              "      <th>Military Crashes</th>\n",
              "      <th>perc</th>\n",
              "    </tr>\n",
              "  </thead>\n",
              "  <tbody>\n",
              "    <tr>\n",
              "      <th>55</th>\n",
              "      <td>2015</td>\n",
              "      <td>18</td>\n",
              "      <td>277035974</td>\n",
              "      <td>3</td>\n",
              "      <td>6.497351e-08</td>\n",
              "    </tr>\n",
              "    <tr>\n",
              "      <th>56</th>\n",
              "      <td>2016</td>\n",
              "      <td>23</td>\n",
              "      <td>289138268</td>\n",
              "      <td>1</td>\n",
              "      <td>7.954672e-08</td>\n",
              "    </tr>\n",
              "    <tr>\n",
              "      <th>57</th>\n",
              "      <td>2017</td>\n",
              "      <td>15</td>\n",
              "      <td>299027145</td>\n",
              "      <td>1</td>\n",
              "      <td>5.016267e-08</td>\n",
              "    </tr>\n",
              "    <tr>\n",
              "      <th>58</th>\n",
              "      <td>2018</td>\n",
              "      <td>16</td>\n",
              "      <td>311220051</td>\n",
              "      <td>3</td>\n",
              "      <td>5.141057e-08</td>\n",
              "    </tr>\n",
              "    <tr>\n",
              "      <th>59</th>\n",
              "      <td>2019</td>\n",
              "      <td>9</td>\n",
              "      <td>0</td>\n",
              "      <td>2</td>\n",
              "      <td>inf</td>\n",
              "    </tr>\n",
              "  </tbody>\n",
              "</table>\n",
              "</div>"
            ],
            "text/plain": [
              "    Year  Total Crashes  Total Flights  Military Crashes          perc\n",
              "55  2015             18      277035974                 3  6.497351e-08\n",
              "56  2016             23      289138268                 1  7.954672e-08\n",
              "57  2017             15      299027145                 1  5.016267e-08\n",
              "58  2018             16      311220051                 3  5.141057e-08\n",
              "59  2019              9              0                 2           inf"
            ]
          },
          "metadata": {
            "tags": []
          },
          "execution_count": 191
        }
      ]
    },
    {
      "cell_type": "code",
      "metadata": {
        "id": "xO_bLMuCJGlI",
        "colab_type": "code",
        "outputId": "b3025828-6c72-48cd-9274-ede9d0e23923",
        "colab": {
          "base_uri": "https://localhost:8080/",
          "height": 199
        }
      },
      "source": [
        "percent_crashes = graph1.drop(['Total Crashes', 'Total Flights', 'Military Crashes'],axis=1)\n",
        "percent_crashes.tail()"
      ],
      "execution_count": 0,
      "outputs": [
        {
          "output_type": "execute_result",
          "data": {
            "text/html": [
              "<div>\n",
              "<style scoped>\n",
              "    .dataframe tbody tr th:only-of-type {\n",
              "        vertical-align: middle;\n",
              "    }\n",
              "\n",
              "    .dataframe tbody tr th {\n",
              "        vertical-align: top;\n",
              "    }\n",
              "\n",
              "    .dataframe thead th {\n",
              "        text-align: right;\n",
              "    }\n",
              "</style>\n",
              "<table border=\"1\" class=\"dataframe\">\n",
              "  <thead>\n",
              "    <tr style=\"text-align: right;\">\n",
              "      <th></th>\n",
              "      <th>Year</th>\n",
              "      <th>perc</th>\n",
              "    </tr>\n",
              "  </thead>\n",
              "  <tbody>\n",
              "    <tr>\n",
              "      <th>55</th>\n",
              "      <td>2015</td>\n",
              "      <td>6.497351e-08</td>\n",
              "    </tr>\n",
              "    <tr>\n",
              "      <th>56</th>\n",
              "      <td>2016</td>\n",
              "      <td>7.954672e-08</td>\n",
              "    </tr>\n",
              "    <tr>\n",
              "      <th>57</th>\n",
              "      <td>2017</td>\n",
              "      <td>5.016267e-08</td>\n",
              "    </tr>\n",
              "    <tr>\n",
              "      <th>58</th>\n",
              "      <td>2018</td>\n",
              "      <td>5.141057e-08</td>\n",
              "    </tr>\n",
              "    <tr>\n",
              "      <th>59</th>\n",
              "      <td>2019</td>\n",
              "      <td>inf</td>\n",
              "    </tr>\n",
              "  </tbody>\n",
              "</table>\n",
              "</div>"
            ],
            "text/plain": [
              "    Year          perc\n",
              "55  2015  6.497351e-08\n",
              "56  2016  7.954672e-08\n",
              "57  2017  5.016267e-08\n",
              "58  2018  5.141057e-08\n",
              "59  2019           inf"
            ]
          },
          "metadata": {
            "tags": []
          },
          "execution_count": 192
        }
      ]
    },
    {
      "cell_type": "code",
      "metadata": {
        "id": "__aPdKu-5VsI",
        "colab_type": "code",
        "outputId": "30315e0a-82ca-48bf-9789-68d035da0023",
        "colab": {
          "base_uri": "https://localhost:8080/",
          "height": 595
        }
      },
      "source": [
        "plt.style.use('fivethirtyeight')\n",
        "#data\n",
        "x = percent_crashes['Year']\n",
        "#yl = [0, .025e-5, .050e-5, .075e-5, .100e-5, .100e-5, .125e-5, .150e-5]\n",
        "y = percent_crashes['perc']\n",
        "y = y *1e-06\n",
        "\n",
        "fig, ax1 = plt.subplots(figsize=(16, 8))\n",
        "ax2=ax1.twinx() #make 2 y lines\n",
        "\n",
        "#flights line\n",
        "ax2.plot(percent_crashes['Year'],graph['Total Flights'],color=\"skyblue\", marker=\",\", lw= 3)\n",
        "ax2.set_ylabel(\"Flights \\n (hundred millions, 1e8)\",color=\"skyblue\", alpha=1, fontsize=14)\n",
        "ax2.set_xbound(lower=1970, upper=2018)\n",
        "ax1.set_xlabel(\"Year\",fontsize=14)\n",
        "\n",
        "#crashes line\n",
        "ax1.plot(percent_crashes['Year'], y, color='firebrick', alpha=.9, marker=\",\", lw= 3)\n",
        "ax1.set_ylabel(\"(millionths of a percent, 1e-6) \\n Crashes \",color=\"firebrick\",fontsize=14)\n",
        "ax1.set_xbound(lower=1970, upper=2018)\n",
        "ax1.set_ybound(lower=0)\n",
        "\n",
        "plt.grid(b=None) #or ax.grid(False)\n",
        "fig.patch.set_facecolor('#FFFFFF')\n",
        "ax.set_facecolor('#FFFFFF')\n",
        "\n",
        "\n",
        "#title, labels\n",
        "ax1.set_title('Percent of Crashes in Modern Aviation \\n 1970-2019', pad = 25)\n",
        "\n",
        "\n",
        "plt.show()"
      ],
      "execution_count": 0,
      "outputs": [
        {
          "output_type": "display_data",
          "data": {
            "image/png": "[encoded data removed]",
            "text/plain": [
              "<Figure size 1152x576 with 2 Axes>"
            ]
          },
          "metadata": {
            "tags": []
          }
        }
      ]
    },
    {
      "cell_type": "code",
      "metadata": {
        "id": "FYD8D6GeIcbJ",
        "colab_type": "code",
        "outputId": "2769cb34-ac0e-4bf5-fd3a-63fc15c0e8fd",
        "colab": {
          "base_uri": "https://localhost:8080/",
          "height": 434
        }
      },
      "source": [
        "#graph of percent of flights which crash with eventlines \n",
        "#data\n",
        "x = percent_crashes['Year']\n",
        "y = percent_crashes['perc']\n",
        "y = y *1e-06\n",
        "plt.figure(figsize=(11,6))\n",
        "\n",
        "#color, fill, line\n",
        "plt.fill_between( x, y, color=\"indianred\", alpha=0.1)\n",
        "plt.fill_between( x, y, color=\"indianred\", alpha=0.1)\n",
        "plt.plot(x, y, color=\"firebrick\", alpha=0.8, lw=3)\n",
        "plt.grid(ls = '--')\n",
        "\n",
        "#y lines and legend\n",
        "plt.axvline(1970, ls = '-', lw=2.2, color = 'purple', alpha=1, label='1970: introduction of wide-body commercial aircraft')\n",
        "plt.axvline(1975, ls = '-', lw=2.2, color = 'darkorchid', alpha=.5, label='1975: US airports have computerized air-traffic control')\n",
        "plt.axvline(1982, ls = '-', lw=2.2, color = 'mediumslateblue', alpha=.8, label='1982: earliest FMS on commercial aircraft')\n",
        "plt.axvline(1989, ls = '-', lw=2.2, color = 'navy', alpha=.6, label='1989: first inflight smoking ban')\n",
        "plt.axvline(1993, ls = '-', lw=2.2, color = 'cornflowerblue', alpha=.5, label='1993: CRM human error training is required')\n",
        "plt.axvline(1995, ls = '-', lw=2.2, color = 'cyan', alpha=.5, label='1995: TCASII and wind shear warnings required on all aircraft')\n",
        "plt.axvline(1998, ls = '-', lw=2.2, color = 'green', alpha=.5, label='1998: fire detection & supression systems required in all aircraft')\n",
        "plt.axvline(2000, ls = '-', lw=2.2, color = 'khaki', alpha=.7, label='2000: GPS III standardization and modernization')\n",
        "plt.axvline(2008, ls = '-', lw=2.2, color = 'darkorange', alpha=.6, label='2008: material flammability regulations tightened')\n",
        "plt.axvline(2014, ls = '-', lw=2.2, color = 'tomato', alpha=.6, label='2014: pilot fatigue & duty time rules')\n",
        "plt.legend(bbox_to_anchor=(1.04,0.5), loc='center left', borderaxespad=0)\n",
        "\n",
        "#title, labels\n",
        "plt.title('Percent of All Flights Which Crashed', fontsize=16)\n",
        "plt.xlabel(\"Year\",fontsize=14)\n",
        "plt.ylabel(\"Millionths of a Percent (1e-6) \\n Crashes\",fontsize=14, color='firebrick')\n",
        "plt.xlim(1969.99,2018)\n",
        "plt.ylim(0)\n",
        " \n",
        "plt.show()"
      ],
      "execution_count": 0,
      "outputs": [
        {
          "output_type": "display_data",
          "data": {
            "image/png": "[encoded data removed]",
            "text/plain": [
              "<Figure size 792x432 with 1 Axes>"
            ]
          },
          "metadata": {
            "tags": []
          }
        }
      ]
    }
  ]
}